{
 "cells": [
  {
   "cell_type": "code",
   "execution_count": 6,
   "id": "76f2926e-7b33-4dbe-846d-be5bd0dc4baf",
   "metadata": {},
   "outputs": [],
   "source": [
    "import pandas as pd\n",
    "import numpy as np\n",
    "\n",
    "import matplotlib.pyplot as plt\n",
    "import seaborn as sns\n",
    "%matplotlib inline\n",
    "\n",
    "from sklearn.model_selection import train_test_split, GridSearchCV\n",
    "from sklearn.metrics import classification_report, confusion_matrix\n",
    "from sklearn.neighbors import KNeighborsClassifier\n",
    "from sklearn.svm import SVC\n",
    "from sklearn.ensemble import RandomForestClassifier\n",
    "\n",
    "\n",
    "import scipy.stats as stats \n",
    "from scipy.stats import chi2_contingency, boxcox\n",
    "\n",
    "from statsmodels.formula.api import ols\n",
    "from statsmodels.stats.anova import anova_lm "
   ]
  },
  {
   "cell_type": "code",
   "execution_count": 7,
   "id": "e202a960-dae7-4d87-975b-86fc5f4f6ae7",
   "metadata": {},
   "outputs": [],
   "source": [
    "df = pd.read_csv('Maternal-risk-processed.csv')"
   ]
  },
  {
   "cell_type": "markdown",
   "id": "ef9207fc-5b75-443c-a68e-a6fb813f1dd8",
   "metadata": {},
   "source": [
    "# PREDICCIÓN DE RIESGO MATERNAL CON ALGORITMO SVM"
   ]
  },
  {
   "cell_type": "markdown",
   "id": "46ca5e0f-af4b-4ede-bf44-366e29322a76",
   "metadata": {},
   "source": [
    "Como hemos observado con KNN, hay un desequilibrio de clases y es por eso por lo que \n",
    "el algoritmo no es capaz de reconocer la clase 1 correctamente. Para resolver este problema, asignaremos pesos \n",
    "a las clases (<code>weights</code>). Como tenemos un total de 452 muestras, de las cuales 234 pertenecen a la clase 0, \n",
    "112 a la clase 1 y 106 a la clase 2, vamos a asignar: 0.2, 0.4, 0.4 respectivamente. "
   ]
  },
  {
   "cell_type": "markdown",
   "id": "ce191be4-d176-4cc6-ab86-d55b9a805433",
   "metadata": {},
   "source": [
    "## Separación de características y objetivo"
   ]
  },
  {
   "cell_type": "code",
   "execution_count": 13,
   "id": "08652bf1-baa7-4eb2-91c3-f341141b5033",
   "metadata": {},
   "outputs": [],
   "source": [
    "x = df.drop('RiskLevel', axis=1)\n",
    "y = df['RiskLevel']"
   ]
  },
  {
   "cell_type": "markdown",
   "id": "53233d3b-95fc-4487-9aea-16eeeb8491d3",
   "metadata": {},
   "source": [
    "## ENTRENAMIENTO DEL MODELO"
   ]
  },
  {
   "cell_type": "code",
   "execution_count": 16,
   "id": "6015bd95-56a0-431c-b5af-8139c7e05c30",
   "metadata": {},
   "outputs": [],
   "source": [
    "#Separamos datos entre muestra de entrenamiento y muestra de test\n",
    "X_train, X_test, y_train, y_test = train_test_split(x, y, test_size=0.3, random_state=101, stratify=y)"
   ]
  },
  {
   "cell_type": "code",
   "execution_count": 18,
   "id": "83ca7744-9da8-43aa-899b-37afbd1758d3",
   "metadata": {},
   "outputs": [],
   "source": [
    "class_weight = {0:0.2, 1:0.5, 2:0.3}"
   ]
  },
  {
   "cell_type": "code",
   "execution_count": 20,
   "id": "ea1d028d-b041-4fc0-960d-77de768cbbb7",
   "metadata": {},
   "outputs": [
    {
     "name": "stdout",
     "output_type": "stream",
     "text": [
      "SVM\n",
      "\n",
      "[[59 11  0]\n",
      " [19 11  2]\n",
      " [ 6 10 18]]\n",
      "\n",
      "\n",
      "              precision    recall  f1-score   support\n",
      "\n",
      "           0       0.70      0.84      0.77        70\n",
      "           1       0.34      0.34      0.34        32\n",
      "           2       0.90      0.53      0.67        34\n",
      "\n",
      "    accuracy                           0.65       136\n",
      "   macro avg       0.65      0.57      0.59       136\n",
      "weighted avg       0.67      0.65      0.64       136\n",
      "\n"
     ]
    }
   ],
   "source": [
    "#Creamos y ajustamos modelo SVC\n",
    "\n",
    "svc = SVC(class_weight=class_weight, C = 1, kernel = 'poly', degree = 5, coef0= 1.0,  gamma='scale', tol = 1e-2,  shrinking = True, probability=False)\n",
    "svc.fit(X_train, y_train.values.ravel())\n",
    "\n",
    "#Hacemos predicciones\n",
    "svcKernel_pred=svc.predict(X_test)\n",
    "\n",
    "#Evalúa modelo\n",
    "print('SVM\\n')\n",
    "print(confusion_matrix(y_test, svcKernel_pred))\n",
    "print('\\n')\n",
    "print(classification_report(y_test, svcKernel_pred))"
   ]
  },
  {
   "cell_type": "markdown",
   "id": "efc0b0b7-b609-44bf-aa3a-064a3b6c0da0",
   "metadata": {},
   "source": [
    "Vamos a volver a usar GridSearch para optimizar los parámetros y encomtrar un mejor resultado para la identificación de la Clase1."
   ]
  },
  {
   "cell_type": "markdown",
   "id": "c5d7bf04-18db-4758-bf90-d81a2b4dbeb6",
   "metadata": {},
   "source": [
    "**Hiperparámetros a evaluar**\n",
    "<ul>\n",
    "    <li>C: parámetro de regulación, mayor valor reducen la regulación.</li>\n",
    "    <li>kernel: define tipo núcleo usado pr el SVM: lineal, RBF, polinómico, etc.</li>\n",
    "    <li>gamma:controla la influencia de los puntos individuales</li>\n",
    "    <li>degree: relevante si <code>kernel='poly'</code>, indica el grado del polinomio.</li>\n",
    "    <li>coef0: constante en los kernels 'poly' y 'sigmoid'.</li>\n",
    "    <li>class_weight: pondera las clases para manejar el desbalence de clases. Si usamos la opción balanced ajusta automática,ente según la proporción de clases, None es por defecto, sin ponderación. </li>\n",
    "    <li>shrinking: activa o desactiva el algoritmo de optimización de shrinking, Este valor puede etar a True o False.</li>\n",
    "    <li>probability: si se debe habilitar la estimación de probabilidades, pero agrega tiempo de entrenamiento.</li>\n",
    "    <li>tol: criterio de tolerancia para la convergencia del modelo.</li>\n",
    "    <li> max_iter: número máximo de iteraciones para la optimización, -1 significa sin límite.</li>\n",
    "    \n",
    "</ul>"
   ]
  },
  {
   "cell_type": "code",
   "execution_count": 24,
   "id": "bd869687-2701-492b-9c06-fe2783af4934",
   "metadata": {},
   "outputs": [
    {
     "name": "stdout",
     "output_type": "stream",
     "text": [
      "Fitting 5 folds for each of 55296 candidates, totalling 276480 fits\n"
     ]
    },
    {
     "ename": "KeyboardInterrupt",
     "evalue": "",
     "output_type": "error",
     "traceback": [
      "\u001b[1;31m---------------------------------------------------------------------------\u001b[0m",
      "\u001b[1;31mKeyboardInterrupt\u001b[0m                         Traceback (most recent call last)",
      "Cell \u001b[1;32mIn[24], line 17\u001b[0m\n\u001b[0;32m     15\u001b[0m \u001b[38;5;66;03m# Configurar GridSearchCV\u001b[39;00m\n\u001b[0;32m     16\u001b[0m grid_search \u001b[38;5;241m=\u001b[39m GridSearchCV(estimator\u001b[38;5;241m=\u001b[39msvm, param_grid\u001b[38;5;241m=\u001b[39mparam_grid, cv\u001b[38;5;241m=\u001b[39m\u001b[38;5;241m5\u001b[39m, scoring\u001b[38;5;241m=\u001b[39m\u001b[38;5;124m'\u001b[39m\u001b[38;5;124maccuracy\u001b[39m\u001b[38;5;124m'\u001b[39m, verbose\u001b[38;5;241m=\u001b[39m\u001b[38;5;241m2\u001b[39m, n_jobs\u001b[38;5;241m=\u001b[39m\u001b[38;5;241m-\u001b[39m\u001b[38;5;241m1\u001b[39m)\n\u001b[1;32m---> 17\u001b[0m grid_search\u001b[38;5;241m.\u001b[39mfit(X_train, y_train)\n\u001b[0;32m     19\u001b[0m \u001b[38;5;28mprint\u001b[39m(\u001b[38;5;124m\"\u001b[39m\u001b[38;5;124mlos mejores hiperparámetros encontrados\u001b[39m\u001b[38;5;124m\"\u001b[39m, grid_search\u001b[38;5;241m.\u001b[39mbest_params_)\n\u001b[0;32m     21\u001b[0m \u001b[38;5;66;03m#Probamos el modelo con los mejores hiperparámetros\u001b[39;00m\n",
      "File \u001b[1;32m~\\anaconda3\\Lib\\site-packages\\sklearn\\base.py:1473\u001b[0m, in \u001b[0;36m_fit_context.<locals>.decorator.<locals>.wrapper\u001b[1;34m(estimator, *args, **kwargs)\u001b[0m\n\u001b[0;32m   1466\u001b[0m     estimator\u001b[38;5;241m.\u001b[39m_validate_params()\n\u001b[0;32m   1468\u001b[0m \u001b[38;5;28;01mwith\u001b[39;00m config_context(\n\u001b[0;32m   1469\u001b[0m     skip_parameter_validation\u001b[38;5;241m=\u001b[39m(\n\u001b[0;32m   1470\u001b[0m         prefer_skip_nested_validation \u001b[38;5;129;01mor\u001b[39;00m global_skip_validation\n\u001b[0;32m   1471\u001b[0m     )\n\u001b[0;32m   1472\u001b[0m ):\n\u001b[1;32m-> 1473\u001b[0m     \u001b[38;5;28;01mreturn\u001b[39;00m fit_method(estimator, \u001b[38;5;241m*\u001b[39margs, \u001b[38;5;241m*\u001b[39m\u001b[38;5;241m*\u001b[39mkwargs)\n",
      "File \u001b[1;32m~\\anaconda3\\Lib\\site-packages\\sklearn\\model_selection\\_search.py:1018\u001b[0m, in \u001b[0;36mBaseSearchCV.fit\u001b[1;34m(self, X, y, **params)\u001b[0m\n\u001b[0;32m   1012\u001b[0m     results \u001b[38;5;241m=\u001b[39m \u001b[38;5;28mself\u001b[39m\u001b[38;5;241m.\u001b[39m_format_results(\n\u001b[0;32m   1013\u001b[0m         all_candidate_params, n_splits, all_out, all_more_results\n\u001b[0;32m   1014\u001b[0m     )\n\u001b[0;32m   1016\u001b[0m     \u001b[38;5;28;01mreturn\u001b[39;00m results\n\u001b[1;32m-> 1018\u001b[0m \u001b[38;5;28mself\u001b[39m\u001b[38;5;241m.\u001b[39m_run_search(evaluate_candidates)\n\u001b[0;32m   1020\u001b[0m \u001b[38;5;66;03m# multimetric is determined here because in the case of a callable\u001b[39;00m\n\u001b[0;32m   1021\u001b[0m \u001b[38;5;66;03m# self.scoring the return type is only known after calling\u001b[39;00m\n\u001b[0;32m   1022\u001b[0m first_test_score \u001b[38;5;241m=\u001b[39m all_out[\u001b[38;5;241m0\u001b[39m][\u001b[38;5;124m\"\u001b[39m\u001b[38;5;124mtest_scores\u001b[39m\u001b[38;5;124m\"\u001b[39m]\n",
      "File \u001b[1;32m~\\anaconda3\\Lib\\site-packages\\sklearn\\model_selection\\_search.py:1572\u001b[0m, in \u001b[0;36mGridSearchCV._run_search\u001b[1;34m(self, evaluate_candidates)\u001b[0m\n\u001b[0;32m   1570\u001b[0m \u001b[38;5;28;01mdef\u001b[39;00m \u001b[38;5;21m_run_search\u001b[39m(\u001b[38;5;28mself\u001b[39m, evaluate_candidates):\n\u001b[0;32m   1571\u001b[0m \u001b[38;5;250m    \u001b[39m\u001b[38;5;124;03m\"\"\"Search all candidates in param_grid\"\"\"\u001b[39;00m\n\u001b[1;32m-> 1572\u001b[0m     evaluate_candidates(ParameterGrid(\u001b[38;5;28mself\u001b[39m\u001b[38;5;241m.\u001b[39mparam_grid))\n",
      "File \u001b[1;32m~\\anaconda3\\Lib\\site-packages\\sklearn\\model_selection\\_search.py:964\u001b[0m, in \u001b[0;36mBaseSearchCV.fit.<locals>.evaluate_candidates\u001b[1;34m(candidate_params, cv, more_results)\u001b[0m\n\u001b[0;32m    956\u001b[0m \u001b[38;5;28;01mif\u001b[39;00m \u001b[38;5;28mself\u001b[39m\u001b[38;5;241m.\u001b[39mverbose \u001b[38;5;241m>\u001b[39m \u001b[38;5;241m0\u001b[39m:\n\u001b[0;32m    957\u001b[0m     \u001b[38;5;28mprint\u001b[39m(\n\u001b[0;32m    958\u001b[0m         \u001b[38;5;124m\"\u001b[39m\u001b[38;5;124mFitting \u001b[39m\u001b[38;5;132;01m{0}\u001b[39;00m\u001b[38;5;124m folds for each of \u001b[39m\u001b[38;5;132;01m{1}\u001b[39;00m\u001b[38;5;124m candidates,\u001b[39m\u001b[38;5;124m\"\u001b[39m\n\u001b[0;32m    959\u001b[0m         \u001b[38;5;124m\"\u001b[39m\u001b[38;5;124m totalling \u001b[39m\u001b[38;5;132;01m{2}\u001b[39;00m\u001b[38;5;124m fits\u001b[39m\u001b[38;5;124m\"\u001b[39m\u001b[38;5;241m.\u001b[39mformat(\n\u001b[0;32m    960\u001b[0m             n_splits, n_candidates, n_candidates \u001b[38;5;241m*\u001b[39m n_splits\n\u001b[0;32m    961\u001b[0m         )\n\u001b[0;32m    962\u001b[0m     )\n\u001b[1;32m--> 964\u001b[0m out \u001b[38;5;241m=\u001b[39m parallel(\n\u001b[0;32m    965\u001b[0m     delayed(_fit_and_score)(\n\u001b[0;32m    966\u001b[0m         clone(base_estimator),\n\u001b[0;32m    967\u001b[0m         X,\n\u001b[0;32m    968\u001b[0m         y,\n\u001b[0;32m    969\u001b[0m         train\u001b[38;5;241m=\u001b[39mtrain,\n\u001b[0;32m    970\u001b[0m         test\u001b[38;5;241m=\u001b[39mtest,\n\u001b[0;32m    971\u001b[0m         parameters\u001b[38;5;241m=\u001b[39mparameters,\n\u001b[0;32m    972\u001b[0m         split_progress\u001b[38;5;241m=\u001b[39m(split_idx, n_splits),\n\u001b[0;32m    973\u001b[0m         candidate_progress\u001b[38;5;241m=\u001b[39m(cand_idx, n_candidates),\n\u001b[0;32m    974\u001b[0m         \u001b[38;5;241m*\u001b[39m\u001b[38;5;241m*\u001b[39mfit_and_score_kwargs,\n\u001b[0;32m    975\u001b[0m     )\n\u001b[0;32m    976\u001b[0m     \u001b[38;5;28;01mfor\u001b[39;00m (cand_idx, parameters), (split_idx, (train, test)) \u001b[38;5;129;01min\u001b[39;00m product(\n\u001b[0;32m    977\u001b[0m         \u001b[38;5;28menumerate\u001b[39m(candidate_params),\n\u001b[0;32m    978\u001b[0m         \u001b[38;5;28menumerate\u001b[39m(cv\u001b[38;5;241m.\u001b[39msplit(X, y, \u001b[38;5;241m*\u001b[39m\u001b[38;5;241m*\u001b[39mrouted_params\u001b[38;5;241m.\u001b[39msplitter\u001b[38;5;241m.\u001b[39msplit)),\n\u001b[0;32m    979\u001b[0m     )\n\u001b[0;32m    980\u001b[0m )\n\u001b[0;32m    982\u001b[0m \u001b[38;5;28;01mif\u001b[39;00m \u001b[38;5;28mlen\u001b[39m(out) \u001b[38;5;241m<\u001b[39m \u001b[38;5;241m1\u001b[39m:\n\u001b[0;32m    983\u001b[0m     \u001b[38;5;28;01mraise\u001b[39;00m \u001b[38;5;167;01mValueError\u001b[39;00m(\n\u001b[0;32m    984\u001b[0m         \u001b[38;5;124m\"\u001b[39m\u001b[38;5;124mNo fits were performed. \u001b[39m\u001b[38;5;124m\"\u001b[39m\n\u001b[0;32m    985\u001b[0m         \u001b[38;5;124m\"\u001b[39m\u001b[38;5;124mWas the CV iterator empty? \u001b[39m\u001b[38;5;124m\"\u001b[39m\n\u001b[0;32m    986\u001b[0m         \u001b[38;5;124m\"\u001b[39m\u001b[38;5;124mWere there no candidates?\u001b[39m\u001b[38;5;124m\"\u001b[39m\n\u001b[0;32m    987\u001b[0m     )\n",
      "File \u001b[1;32m~\\anaconda3\\Lib\\site-packages\\sklearn\\utils\\parallel.py:74\u001b[0m, in \u001b[0;36mParallel.__call__\u001b[1;34m(self, iterable)\u001b[0m\n\u001b[0;32m     69\u001b[0m config \u001b[38;5;241m=\u001b[39m get_config()\n\u001b[0;32m     70\u001b[0m iterable_with_config \u001b[38;5;241m=\u001b[39m (\n\u001b[0;32m     71\u001b[0m     (_with_config(delayed_func, config), args, kwargs)\n\u001b[0;32m     72\u001b[0m     \u001b[38;5;28;01mfor\u001b[39;00m delayed_func, args, kwargs \u001b[38;5;129;01min\u001b[39;00m iterable\n\u001b[0;32m     73\u001b[0m )\n\u001b[1;32m---> 74\u001b[0m \u001b[38;5;28;01mreturn\u001b[39;00m \u001b[38;5;28msuper\u001b[39m()\u001b[38;5;241m.\u001b[39m\u001b[38;5;21m__call__\u001b[39m(iterable_with_config)\n",
      "File \u001b[1;32m~\\anaconda3\\Lib\\site-packages\\joblib\\parallel.py:2007\u001b[0m, in \u001b[0;36mParallel.__call__\u001b[1;34m(self, iterable)\u001b[0m\n\u001b[0;32m   2001\u001b[0m \u001b[38;5;66;03m# The first item from the output is blank, but it makes the interpreter\u001b[39;00m\n\u001b[0;32m   2002\u001b[0m \u001b[38;5;66;03m# progress until it enters the Try/Except block of the generator and\u001b[39;00m\n\u001b[0;32m   2003\u001b[0m \u001b[38;5;66;03m# reaches the first `yield` statement. This starts the asynchronous\u001b[39;00m\n\u001b[0;32m   2004\u001b[0m \u001b[38;5;66;03m# dispatch of the tasks to the workers.\u001b[39;00m\n\u001b[0;32m   2005\u001b[0m \u001b[38;5;28mnext\u001b[39m(output)\n\u001b[1;32m-> 2007\u001b[0m \u001b[38;5;28;01mreturn\u001b[39;00m output \u001b[38;5;28;01mif\u001b[39;00m \u001b[38;5;28mself\u001b[39m\u001b[38;5;241m.\u001b[39mreturn_generator \u001b[38;5;28;01melse\u001b[39;00m \u001b[38;5;28mlist\u001b[39m(output)\n",
      "File \u001b[1;32m~\\anaconda3\\Lib\\site-packages\\joblib\\parallel.py:1650\u001b[0m, in \u001b[0;36mParallel._get_outputs\u001b[1;34m(self, iterator, pre_dispatch)\u001b[0m\n\u001b[0;32m   1647\u001b[0m     \u001b[38;5;28;01myield\u001b[39;00m\n\u001b[0;32m   1649\u001b[0m     \u001b[38;5;28;01mwith\u001b[39;00m \u001b[38;5;28mself\u001b[39m\u001b[38;5;241m.\u001b[39m_backend\u001b[38;5;241m.\u001b[39mretrieval_context():\n\u001b[1;32m-> 1650\u001b[0m         \u001b[38;5;28;01myield from\u001b[39;00m \u001b[38;5;28mself\u001b[39m\u001b[38;5;241m.\u001b[39m_retrieve()\n\u001b[0;32m   1652\u001b[0m \u001b[38;5;28;01mexcept\u001b[39;00m \u001b[38;5;167;01mGeneratorExit\u001b[39;00m:\n\u001b[0;32m   1653\u001b[0m     \u001b[38;5;66;03m# The generator has been garbage collected before being fully\u001b[39;00m\n\u001b[0;32m   1654\u001b[0m     \u001b[38;5;66;03m# consumed. This aborts the remaining tasks if possible and warn\u001b[39;00m\n\u001b[0;32m   1655\u001b[0m     \u001b[38;5;66;03m# the user if necessary.\u001b[39;00m\n\u001b[0;32m   1656\u001b[0m     \u001b[38;5;28mself\u001b[39m\u001b[38;5;241m.\u001b[39m_exception \u001b[38;5;241m=\u001b[39m \u001b[38;5;28;01mTrue\u001b[39;00m\n",
      "File \u001b[1;32m~\\anaconda3\\Lib\\site-packages\\joblib\\parallel.py:1762\u001b[0m, in \u001b[0;36mParallel._retrieve\u001b[1;34m(self)\u001b[0m\n\u001b[0;32m   1757\u001b[0m \u001b[38;5;66;03m# If the next job is not ready for retrieval yet, we just wait for\u001b[39;00m\n\u001b[0;32m   1758\u001b[0m \u001b[38;5;66;03m# async callbacks to progress.\u001b[39;00m\n\u001b[0;32m   1759\u001b[0m \u001b[38;5;28;01mif\u001b[39;00m ((\u001b[38;5;28mlen\u001b[39m(\u001b[38;5;28mself\u001b[39m\u001b[38;5;241m.\u001b[39m_jobs) \u001b[38;5;241m==\u001b[39m \u001b[38;5;241m0\u001b[39m) \u001b[38;5;129;01mor\u001b[39;00m\n\u001b[0;32m   1760\u001b[0m     (\u001b[38;5;28mself\u001b[39m\u001b[38;5;241m.\u001b[39m_jobs[\u001b[38;5;241m0\u001b[39m]\u001b[38;5;241m.\u001b[39mget_status(\n\u001b[0;32m   1761\u001b[0m         timeout\u001b[38;5;241m=\u001b[39m\u001b[38;5;28mself\u001b[39m\u001b[38;5;241m.\u001b[39mtimeout) \u001b[38;5;241m==\u001b[39m TASK_PENDING)):\n\u001b[1;32m-> 1762\u001b[0m     time\u001b[38;5;241m.\u001b[39msleep(\u001b[38;5;241m0.01\u001b[39m)\n\u001b[0;32m   1763\u001b[0m     \u001b[38;5;28;01mcontinue\u001b[39;00m\n\u001b[0;32m   1765\u001b[0m \u001b[38;5;66;03m# We need to be careful: the job list can be filling up as\u001b[39;00m\n\u001b[0;32m   1766\u001b[0m \u001b[38;5;66;03m# we empty it and Python list are not thread-safe by\u001b[39;00m\n\u001b[0;32m   1767\u001b[0m \u001b[38;5;66;03m# default hence the use of the lock\u001b[39;00m\n",
      "\u001b[1;31mKeyboardInterrupt\u001b[0m: "
     ]
    }
   ],
   "source": [
    "from sklearn.svm import SVC\n",
    "svm = SVC(random_state=42)\n",
    "param_grid = {\n",
    "    'C': [0.01, 0.1, 1, 10, 100, 200],\n",
    "    'kernel': ['linear', 'poly', 'rbf', 'sigmoid'],\n",
    "    'gamma': [0.001, 0.01, 0.1, 1, 'scale', 'auto'],\n",
    "    'degree': [2, 3, 4, 5],\n",
    "    'coef0': [0.0, 0.1, 0.5, 1.0],\n",
    "    'class_weight': [None, 'balanced'],\n",
    "    'shrinking': [True, False],\n",
    "    'probability': [False],  # Cambiar a [True, False] si se requieren probabilidades.\n",
    "    'tol': [1e-4, 1e-3, 1e-2],\n",
    "    'max_iter': [100, 1000],\n",
    "}\n",
    "# Configurar GridSearchCV\n",
    "grid_search = GridSearchCV(estimator=svm, param_grid=param_grid, cv=5, scoring='accuracy', verbose=2, n_jobs=-1)\n",
    "grid_search.fit(X_train, y_train)\n",
    "\n",
    "print(\"los mejores hiperparámetros encontrados\", grid_search.best_params_)\n",
    "\n",
    "#Probamos el modelo con los mejores hiperparámetros\n",
    "\n",
    "best_svm = grid_search.best_estimator_\n",
    "y_pred = best_svm.predict(X_test)\n",
    "\n",
    "# Evaluación del modelo\n",
    "print(\"Precisión en el conjunto de prueba:\", accuracy_score(y_test, y_pred))\n",
    "print(\"Reporte de la clasificación:\")\n",
    "print(classification_report(y_test, y_pred))"
   ]
  },
  {
   "cell_type": "code",
   "execution_count": 71,
   "id": "3d8918f6-d4a3-4795-ae76-1d2028ac5287",
   "metadata": {},
   "outputs": [
    {
     "name": "stdout",
     "output_type": "stream",
     "text": [
      "SVM\n",
      "\n",
      "[[38 32  0]\n",
      " [ 8 19  5]\n",
      " [ 3 14 17]]\n",
      "\n",
      "\n",
      "              precision    recall  f1-score   support\n",
      "\n",
      "           0       0.78      0.54      0.64        70\n",
      "           1       0.29      0.59      0.39        32\n",
      "           2       0.77      0.50      0.61        34\n",
      "\n",
      "    accuracy                           0.54       136\n",
      "   macro avg       0.61      0.55      0.55       136\n",
      "weighted avg       0.66      0.54      0.57       136\n",
      "\n"
     ]
    }
   ],
   "source": [
    "#Creamos y ajustamos modelo SVC con los mejores parámetros\n",
    "\n",
    "svc = SVC(class_weight='balanced', C = 200, kernel = 'linear', degree = 5, coef0= 1.0,  gamma='auto', tol = 0.001,  shrinking = True, probability=False)\n",
    "svc.fit(X_train, y_train.values.ravel())\n",
    "\n",
    "#Hacemos predicciones\n",
    "svcKernel_pred=svc.predict(X_test)\n",
    "\n",
    "#Evalúa modelo\n",
    "print('SVM\\n')\n",
    "print(confusion_matrix(y_test, svcKernel_pred))\n",
    "print('\\n')\n",
    "print(classification_report(y_test, svcKernel_pred))"
   ]
  },
  {
   "cell_type": "code",
   "execution_count": 73,
   "id": "b6a85dbf-08d2-4153-b555-2fd9ae65c1ad",
   "metadata": {},
   "outputs": [
    {
     "name": "stdout",
     "output_type": "stream",
     "text": [
      "Cross-validation scores: [0.59375    0.49206349 0.50793651 0.57142857 0.55555556]\n",
      "Mean CV Accuracy: 0.54\n"
     ]
    }
   ],
   "source": [
    "from sklearn.model_selection import cross_val_score\n",
    "\n",
    "# Validación cruzada\n",
    "scores = cross_val_score(svc, X_train, y_train, cv=5)\n",
    "\n",
    "print(\"Cross-validation scores:\", scores)\n",
    "print(f\"Mean CV Accuracy: {scores.mean():.2f}\")"
   ]
  },
  {
   "cell_type": "code",
   "execution_count": 74,
   "id": "df14a7ce-9756-4418-9b2e-7e9e9cdd4368",
   "metadata": {},
   "outputs": [
    {
     "data": {
      "image/png": "[encoded data removed]",
      "text/plain": [
       "<Figure size 640x480 with 1 Axes>"
      ]
     },
     "metadata": {},
     "output_type": "display_data"
    }
   ],
   "source": [
    "import matplotlib.pyplot as plt\n",
    "from sklearn.model_selection import learning_curve\n",
    "\n",
    "train_sizes, train_scores, test_scores = learning_curve(svc, X_train, y_train, cv=5)\n",
    "\n",
    "# Calcular medias\n",
    "train_mean = train_scores.mean(axis=1)\n",
    "test_mean = test_scores.mean(axis=1)\n",
    "\n",
    "# Graficar\n",
    "plt.plot(train_sizes, train_mean, label=\"Training Score\")\n",
    "plt.plot(train_sizes, test_mean, label=\"Validation Score\")\n",
    "plt.xlabel(\"Training Size\")\n",
    "plt.ylabel(\"Accuracy\")\n",
    "plt.legend()\n",
    "plt.show()"
   ]
  },
  {
   "cell_type": "code",
   "execution_count": 75,
   "id": "17198878-d604-4b15-865b-c1310d1b9081",
   "metadata": {},
   "outputs": [
    {
     "name": "stdout",
     "output_type": "stream",
     "text": [
      "Modelo guardado como 'maternal_risk_model.pkl'\n"
     ]
    }
   ],
   "source": [
    "import joblib\n",
    "joblib.dump(svc, 'maternal-risk-svc-model.pkl')\n",
    "print(\"Modelo guardado como 'maternal_risk_model.pkl'\")"
   ]
  },
  {
   "cell_type": "markdown",
   "id": "c945b175-50a0-4ea8-95e3-41a785c2e6db",
   "metadata": {},
   "source": [
    "## PRUEBA CON NUESTROS DATOS"
   ]
  },
  {
   "cell_type": "code",
   "execution_count": 89,
   "id": "60abfac5-5a8c-4b06-b4f0-c02f3c7a8ab5",
   "metadata": {},
   "outputs": [],
   "source": [
    "wearable_data = pd.read_csv('wearable-simulation-pregnancy.csv')"
   ]
  },
  {
   "cell_type": "code",
   "execution_count": 91,
   "id": "92f8c0ce-6e1e-4c6d-9bcc-ab6603990c71",
   "metadata": {},
   "outputs": [
    {
     "data": {
      "text/html": [
       "<div>\n",
       "<style scoped>\n",
       "    .dataframe tbody tr th:only-of-type {\n",
       "        vertical-align: middle;\n",
       "    }\n",
       "\n",
       "    .dataframe tbody tr th {\n",
       "        vertical-align: top;\n",
       "    }\n",
       "\n",
       "    .dataframe thead th {\n",
       "        text-align: right;\n",
       "    }\n",
       "</style>\n",
       "<table border=\"1\" class=\"dataframe\">\n",
       "  <thead>\n",
       "    <tr style=\"text-align: right;\">\n",
       "      <th></th>\n",
       "      <th>user_id</th>\n",
       "      <th>Age</th>\n",
       "      <th>timestamp</th>\n",
       "      <th>DiastolicBP</th>\n",
       "      <th>SystolicBP</th>\n",
       "      <th>BS</th>\n",
       "      <th>BodyTemp</th>\n",
       "      <th>HeartRate</th>\n",
       "      <th>day</th>\n",
       "      <th>month&amp;year</th>\n",
       "      <th>date</th>\n",
       "      <th>week</th>\n",
       "      <th>trimester</th>\n",
       "    </tr>\n",
       "  </thead>\n",
       "  <tbody>\n",
       "    <tr>\n",
       "      <th>0</th>\n",
       "      <td>user_0000</td>\n",
       "      <td>32</td>\n",
       "      <td>2024-06-16 02:45:05</td>\n",
       "      <td>89.0</td>\n",
       "      <td>134.0</td>\n",
       "      <td>8.26</td>\n",
       "      <td>98.696800</td>\n",
       "      <td>100.0</td>\n",
       "      <td>2024-06-16</td>\n",
       "      <td>2024-06</td>\n",
       "      <td>2024-06-16</td>\n",
       "      <td>3</td>\n",
       "      <td>First</td>\n",
       "    </tr>\n",
       "    <tr>\n",
       "      <th>1</th>\n",
       "      <td>user_0000</td>\n",
       "      <td>32</td>\n",
       "      <td>2024-06-16 10:45:05</td>\n",
       "      <td>87.0</td>\n",
       "      <td>130.0</td>\n",
       "      <td>8.33</td>\n",
       "      <td>98.711909</td>\n",
       "      <td>108.0</td>\n",
       "      <td>2024-06-16</td>\n",
       "      <td>2024-06</td>\n",
       "      <td>2024-06-16</td>\n",
       "      <td>3</td>\n",
       "      <td>First</td>\n",
       "    </tr>\n",
       "    <tr>\n",
       "      <th>2</th>\n",
       "      <td>user_0000</td>\n",
       "      <td>32</td>\n",
       "      <td>2024-06-16 18:45:05</td>\n",
       "      <td>87.0</td>\n",
       "      <td>130.0</td>\n",
       "      <td>8.33</td>\n",
       "      <td>98.711909</td>\n",
       "      <td>108.0</td>\n",
       "      <td>2024-06-16</td>\n",
       "      <td>2024-06</td>\n",
       "      <td>2024-06-16</td>\n",
       "      <td>3</td>\n",
       "      <td>First</td>\n",
       "    </tr>\n",
       "    <tr>\n",
       "      <th>3</th>\n",
       "      <td>user_0000</td>\n",
       "      <td>31</td>\n",
       "      <td>2024-06-18 07:37:54</td>\n",
       "      <td>87.0</td>\n",
       "      <td>133.0</td>\n",
       "      <td>8.86</td>\n",
       "      <td>98.843603</td>\n",
       "      <td>121.0</td>\n",
       "      <td>2024-06-18</td>\n",
       "      <td>2024-06</td>\n",
       "      <td>2024-06-18</td>\n",
       "      <td>3</td>\n",
       "      <td>First</td>\n",
       "    </tr>\n",
       "    <tr>\n",
       "      <th>4</th>\n",
       "      <td>user_0000</td>\n",
       "      <td>31</td>\n",
       "      <td>2024-06-18 15:37:54</td>\n",
       "      <td>86.0</td>\n",
       "      <td>131.0</td>\n",
       "      <td>7.99</td>\n",
       "      <td>98.870108</td>\n",
       "      <td>102.0</td>\n",
       "      <td>2024-06-18</td>\n",
       "      <td>2024-06</td>\n",
       "      <td>2024-06-18</td>\n",
       "      <td>3</td>\n",
       "      <td>First</td>\n",
       "    </tr>\n",
       "  </tbody>\n",
       "</table>\n",
       "</div>"
      ],
      "text/plain": [
       "     user_id  Age            timestamp  DiastolicBP  SystolicBP    BS  \\\n",
       "0  user_0000   32  2024-06-16 02:45:05         89.0       134.0  8.26   \n",
       "1  user_0000   32  2024-06-16 10:45:05         87.0       130.0  8.33   \n",
       "2  user_0000   32  2024-06-16 18:45:05         87.0       130.0  8.33   \n",
       "3  user_0000   31  2024-06-18 07:37:54         87.0       133.0  8.86   \n",
       "4  user_0000   31  2024-06-18 15:37:54         86.0       131.0  7.99   \n",
       "\n",
       "    BodyTemp  HeartRate         day month&year        date  week trimester  \n",
       "0  98.696800      100.0  2024-06-16    2024-06  2024-06-16     3     First  \n",
       "1  98.711909      108.0  2024-06-16    2024-06  2024-06-16     3     First  \n",
       "2  98.711909      108.0  2024-06-16    2024-06  2024-06-16     3     First  \n",
       "3  98.843603      121.0  2024-06-18    2024-06  2024-06-18     3     First  \n",
       "4  98.870108      102.0  2024-06-18    2024-06  2024-06-18     3     First  "
      ]
     },
     "execution_count": 91,
     "metadata": {},
     "output_type": "execute_result"
    }
   ],
   "source": [
    "wearable_data.head()"
   ]
  },
  {
   "cell_type": "code",
   "execution_count": 93,
   "id": "3f69b7f3-c07a-4b6a-a05a-9e06d313e13a",
   "metadata": {},
   "outputs": [
    {
     "data": {
      "text/plain": [
       "25"
      ]
     },
     "execution_count": 93,
     "metadata": {},
     "output_type": "execute_result"
    }
   ],
   "source": [
    "wearable_data['week'].nunique()"
   ]
  },
  {
   "cell_type": "code",
   "execution_count": 105,
   "id": "09896dce-78ca-45ed-ab5d-eb2d75f466f6",
   "metadata": {},
   "outputs": [
    {
     "data": {
      "text/html": [
       "<div>\n",
       "<style scoped>\n",
       "    .dataframe tbody tr th:only-of-type {\n",
       "        vertical-align: middle;\n",
       "    }\n",
       "\n",
       "    .dataframe tbody tr th {\n",
       "        vertical-align: top;\n",
       "    }\n",
       "\n",
       "    .dataframe thead th {\n",
       "        text-align: right;\n",
       "    }\n",
       "</style>\n",
       "<table border=\"1\" class=\"dataframe\">\n",
       "  <thead>\n",
       "    <tr style=\"text-align: right;\">\n",
       "      <th></th>\n",
       "      <th>user_id</th>\n",
       "      <th>date</th>\n",
       "      <th>Age</th>\n",
       "      <th>DiastolicBP</th>\n",
       "      <th>SystolicBP</th>\n",
       "      <th>BS</th>\n",
       "      <th>BodyTemp</th>\n",
       "      <th>HeartRate</th>\n",
       "    </tr>\n",
       "  </thead>\n",
       "  <tbody>\n",
       "    <tr>\n",
       "      <th>0</th>\n",
       "      <td>user_0000</td>\n",
       "      <td>2024-06-16</td>\n",
       "      <td>32</td>\n",
       "      <td>87.666667</td>\n",
       "      <td>131.333333</td>\n",
       "      <td>8.306667</td>\n",
       "      <td>98.706873</td>\n",
       "      <td>105.333333</td>\n",
       "    </tr>\n",
       "    <tr>\n",
       "      <th>1</th>\n",
       "      <td>user_0000</td>\n",
       "      <td>2024-06-18</td>\n",
       "      <td>31</td>\n",
       "      <td>86.333333</td>\n",
       "      <td>131.666667</td>\n",
       "      <td>8.280000</td>\n",
       "      <td>98.861273</td>\n",
       "      <td>108.333333</td>\n",
       "    </tr>\n",
       "    <tr>\n",
       "      <th>2</th>\n",
       "      <td>user_0000</td>\n",
       "      <td>2024-06-19</td>\n",
       "      <td>32</td>\n",
       "      <td>87.666667</td>\n",
       "      <td>130.333333</td>\n",
       "      <td>8.243333</td>\n",
       "      <td>98.678435</td>\n",
       "      <td>108.333333</td>\n",
       "    </tr>\n",
       "    <tr>\n",
       "      <th>3</th>\n",
       "      <td>user_0000</td>\n",
       "      <td>2024-06-20</td>\n",
       "      <td>32</td>\n",
       "      <td>86.666667</td>\n",
       "      <td>130.333333</td>\n",
       "      <td>8.280000</td>\n",
       "      <td>98.566905</td>\n",
       "      <td>107.666667</td>\n",
       "    </tr>\n",
       "    <tr>\n",
       "      <th>4</th>\n",
       "      <td>user_0000</td>\n",
       "      <td>2024-06-22</td>\n",
       "      <td>32</td>\n",
       "      <td>86.000000</td>\n",
       "      <td>131.000000</td>\n",
       "      <td>8.400000</td>\n",
       "      <td>98.706873</td>\n",
       "      <td>107.666667</td>\n",
       "    </tr>\n",
       "  </tbody>\n",
       "</table>\n",
       "</div>"
      ],
      "text/plain": [
       "     user_id        date  Age  DiastolicBP  SystolicBP        BS   BodyTemp  \\\n",
       "0  user_0000  2024-06-16   32    87.666667  131.333333  8.306667  98.706873   \n",
       "1  user_0000  2024-06-18   31    86.333333  131.666667  8.280000  98.861273   \n",
       "2  user_0000  2024-06-19   32    87.666667  130.333333  8.243333  98.678435   \n",
       "3  user_0000  2024-06-20   32    86.666667  130.333333  8.280000  98.566905   \n",
       "4  user_0000  2024-06-22   32    86.000000  131.000000  8.400000  98.706873   \n",
       "\n",
       "    HeartRate  \n",
       "0  105.333333  \n",
       "1  108.333333  \n",
       "2  108.333333  \n",
       "3  107.666667  \n",
       "4  107.666667  "
      ]
     },
     "execution_count": 105,
     "metadata": {},
     "output_type": "execute_result"
    }
   ],
   "source": [
    "# Agrupamos los datos por user_id y day para calcular el promedio diario de los isgnos vitales\n",
    "\n",
    "daily_data = wearable_data.groupby(['user_id', 'date']).agg({\n",
    "    'Age': 'first', \n",
    "    'DiastolicBP': 'mean',\n",
    "    'SystolicBP': 'mean',\n",
    "    'BS': 'mean',\n",
    "    'BodyTemp': 'mean',\n",
    "    'HeartRate': 'mean',\n",
    "     # La edad no varía durante el embarazo\n",
    "}).reset_index()\n",
    "daily_data.head()\n"
   ]
  },
  {
   "cell_type": "code",
   "execution_count": 97,
   "id": "8c22f0b7-28a3-4a16-89e3-735f9a1e24f2",
   "metadata": {},
   "outputs": [
    {
     "data": {
      "text/html": [
       "<div>\n",
       "<style scoped>\n",
       "    .dataframe tbody tr th:only-of-type {\n",
       "        vertical-align: middle;\n",
       "    }\n",
       "\n",
       "    .dataframe tbody tr th {\n",
       "        vertical-align: top;\n",
       "    }\n",
       "\n",
       "    .dataframe thead th {\n",
       "        text-align: right;\n",
       "    }\n",
       "</style>\n",
       "<table border=\"1\" class=\"dataframe\">\n",
       "  <thead>\n",
       "    <tr style=\"text-align: right;\">\n",
       "      <th></th>\n",
       "      <th>user_id</th>\n",
       "      <th>date</th>\n",
       "      <th>DiastolicBP</th>\n",
       "      <th>SystolicBP</th>\n",
       "      <th>BS</th>\n",
       "      <th>BodyTemp</th>\n",
       "      <th>HeartRate</th>\n",
       "      <th>Age</th>\n",
       "      <th>week</th>\n",
       "      <th>trimester</th>\n",
       "    </tr>\n",
       "  </thead>\n",
       "  <tbody>\n",
       "    <tr>\n",
       "      <th>0</th>\n",
       "      <td>user_0000</td>\n",
       "      <td>2024-06-16</td>\n",
       "      <td>87.666667</td>\n",
       "      <td>131.333333</td>\n",
       "      <td>8.306667</td>\n",
       "      <td>98.706873</td>\n",
       "      <td>105.333333</td>\n",
       "      <td>32</td>\n",
       "      <td>3</td>\n",
       "      <td>First</td>\n",
       "    </tr>\n",
       "    <tr>\n",
       "      <th>1</th>\n",
       "      <td>user_0000</td>\n",
       "      <td>2024-06-16</td>\n",
       "      <td>87.666667</td>\n",
       "      <td>131.333333</td>\n",
       "      <td>8.306667</td>\n",
       "      <td>98.706873</td>\n",
       "      <td>105.333333</td>\n",
       "      <td>32</td>\n",
       "      <td>3</td>\n",
       "      <td>First</td>\n",
       "    </tr>\n",
       "    <tr>\n",
       "      <th>2</th>\n",
       "      <td>user_0000</td>\n",
       "      <td>2024-06-16</td>\n",
       "      <td>87.666667</td>\n",
       "      <td>131.333333</td>\n",
       "      <td>8.306667</td>\n",
       "      <td>98.706873</td>\n",
       "      <td>105.333333</td>\n",
       "      <td>32</td>\n",
       "      <td>3</td>\n",
       "      <td>First</td>\n",
       "    </tr>\n",
       "    <tr>\n",
       "      <th>3</th>\n",
       "      <td>user_0000</td>\n",
       "      <td>2024-06-18</td>\n",
       "      <td>86.333333</td>\n",
       "      <td>131.666667</td>\n",
       "      <td>8.280000</td>\n",
       "      <td>98.861273</td>\n",
       "      <td>108.333333</td>\n",
       "      <td>31</td>\n",
       "      <td>3</td>\n",
       "      <td>First</td>\n",
       "    </tr>\n",
       "    <tr>\n",
       "      <th>4</th>\n",
       "      <td>user_0000</td>\n",
       "      <td>2024-06-18</td>\n",
       "      <td>86.333333</td>\n",
       "      <td>131.666667</td>\n",
       "      <td>8.280000</td>\n",
       "      <td>98.861273</td>\n",
       "      <td>108.333333</td>\n",
       "      <td>31</td>\n",
       "      <td>3</td>\n",
       "      <td>First</td>\n",
       "    </tr>\n",
       "  </tbody>\n",
       "</table>\n",
       "</div>"
      ],
      "text/plain": [
       "     user_id        date  DiastolicBP  SystolicBP        BS   BodyTemp  \\\n",
       "0  user_0000  2024-06-16    87.666667  131.333333  8.306667  98.706873   \n",
       "1  user_0000  2024-06-16    87.666667  131.333333  8.306667  98.706873   \n",
       "2  user_0000  2024-06-16    87.666667  131.333333  8.306667  98.706873   \n",
       "3  user_0000  2024-06-18    86.333333  131.666667  8.280000  98.861273   \n",
       "4  user_0000  2024-06-18    86.333333  131.666667  8.280000  98.861273   \n",
       "\n",
       "    HeartRate  Age  week trimester  \n",
       "0  105.333333   32     3     First  \n",
       "1  105.333333   32     3     First  \n",
       "2  105.333333   32     3     First  \n",
       "3  108.333333   31     3     First  \n",
       "4  108.333333   31     3     First  "
      ]
     },
     "execution_count": 97,
     "metadata": {},
     "output_type": "execute_result"
    }
   ],
   "source": [
    "daily_data = daily_data.merge(wearable_data[['user_id', 'date', 'week', 'trimester']], \n",
    "                              on=['user_id', 'date'], \n",
    "                              how='inner')\n",
    "\n",
    "daily_data.head()"
   ]
  },
  {
   "cell_type": "code",
   "execution_count": 99,
   "id": "47168e92-7d98-409e-aeb0-6aee0a415a0f",
   "metadata": {},
   "outputs": [
    {
     "name": "stdout",
     "output_type": "stream",
     "text": [
      "Modelo cargado exitosamente\n"
     ]
    }
   ],
   "source": [
    "modelSVC = joblib.load('maternal-risk-svc-model.pkl')\n",
    "print(\"Modelo cargado exitosamente\")"
   ]
  },
  {
   "cell_type": "code",
   "execution_count": 107,
   "id": "134793a3-236a-4554-95a3-0c4ac7c68a0a",
   "metadata": {},
   "outputs": [
    {
     "ename": "ValueError",
     "evalue": "The feature names should match those that were passed during fit.\nFeature names must be in the same order as they were in fit.\n",
     "output_type": "error",
     "traceback": [
      "\u001b[1;31m---------------------------------------------------------------------------\u001b[0m",
      "\u001b[1;31mValueError\u001b[0m                                Traceback (most recent call last)",
      "Cell \u001b[1;32mIn[107], line 3\u001b[0m\n\u001b[0;32m      1\u001b[0m \u001b[38;5;66;03m# Hacemos predicciones con modelo entrenado\u001b[39;00m\n\u001b[0;32m      2\u001b[0m X_daily \u001b[38;5;241m=\u001b[39m daily_data[[\u001b[38;5;124m'\u001b[39m\u001b[38;5;124mAge\u001b[39m\u001b[38;5;124m'\u001b[39m,\u001b[38;5;124m'\u001b[39m\u001b[38;5;124mDiastolicBP\u001b[39m\u001b[38;5;124m'\u001b[39m, \u001b[38;5;124m'\u001b[39m\u001b[38;5;124mSystolicBP\u001b[39m\u001b[38;5;124m'\u001b[39m, \u001b[38;5;124m'\u001b[39m\u001b[38;5;124mBS\u001b[39m\u001b[38;5;124m'\u001b[39m, \u001b[38;5;124m'\u001b[39m\u001b[38;5;124mBodyTemp\u001b[39m\u001b[38;5;124m'\u001b[39m, \u001b[38;5;124m'\u001b[39m\u001b[38;5;124mHeartRate\u001b[39m\u001b[38;5;124m'\u001b[39m]]\n\u001b[1;32m----> 3\u001b[0m daily_data[\u001b[38;5;124m'\u001b[39m\u001b[38;5;124mrisk\u001b[39m\u001b[38;5;124m'\u001b[39m] \u001b[38;5;241m=\u001b[39m modelSVC\u001b[38;5;241m.\u001b[39mpredict(X_daily)\n\u001b[0;32m      4\u001b[0m daily_data\u001b[38;5;241m.\u001b[39mhead(\u001b[38;5;241m10\u001b[39m)\n",
      "File \u001b[1;32m~\\anaconda3\\Lib\\site-packages\\sklearn\\svm\\_base.py:813\u001b[0m, in \u001b[0;36mBaseSVC.predict\u001b[1;34m(self, X)\u001b[0m\n\u001b[0;32m    811\u001b[0m     y \u001b[38;5;241m=\u001b[39m np\u001b[38;5;241m.\u001b[39margmax(\u001b[38;5;28mself\u001b[39m\u001b[38;5;241m.\u001b[39mdecision_function(X), axis\u001b[38;5;241m=\u001b[39m\u001b[38;5;241m1\u001b[39m)\n\u001b[0;32m    812\u001b[0m \u001b[38;5;28;01melse\u001b[39;00m:\n\u001b[1;32m--> 813\u001b[0m     y \u001b[38;5;241m=\u001b[39m \u001b[38;5;28msuper\u001b[39m()\u001b[38;5;241m.\u001b[39mpredict(X)\n\u001b[0;32m    814\u001b[0m \u001b[38;5;28;01mreturn\u001b[39;00m \u001b[38;5;28mself\u001b[39m\u001b[38;5;241m.\u001b[39mclasses_\u001b[38;5;241m.\u001b[39mtake(np\u001b[38;5;241m.\u001b[39masarray(y, dtype\u001b[38;5;241m=\u001b[39mnp\u001b[38;5;241m.\u001b[39mintp))\n",
      "File \u001b[1;32m~\\anaconda3\\Lib\\site-packages\\sklearn\\svm\\_base.py:428\u001b[0m, in \u001b[0;36mBaseLibSVM.predict\u001b[1;34m(self, X)\u001b[0m\n\u001b[0;32m    412\u001b[0m \u001b[38;5;28;01mdef\u001b[39;00m \u001b[38;5;21mpredict\u001b[39m(\u001b[38;5;28mself\u001b[39m, X):\n\u001b[0;32m    413\u001b[0m \u001b[38;5;250m    \u001b[39m\u001b[38;5;124;03m\"\"\"Perform regression on samples in X.\u001b[39;00m\n\u001b[0;32m    414\u001b[0m \n\u001b[0;32m    415\u001b[0m \u001b[38;5;124;03m    For an one-class model, +1 (inlier) or -1 (outlier) is returned.\u001b[39;00m\n\u001b[1;32m   (...)\u001b[0m\n\u001b[0;32m    426\u001b[0m \u001b[38;5;124;03m        The predicted values.\u001b[39;00m\n\u001b[0;32m    427\u001b[0m \u001b[38;5;124;03m    \"\"\"\u001b[39;00m\n\u001b[1;32m--> 428\u001b[0m     X \u001b[38;5;241m=\u001b[39m \u001b[38;5;28mself\u001b[39m\u001b[38;5;241m.\u001b[39m_validate_for_predict(X)\n\u001b[0;32m    429\u001b[0m     predict \u001b[38;5;241m=\u001b[39m \u001b[38;5;28mself\u001b[39m\u001b[38;5;241m.\u001b[39m_sparse_predict \u001b[38;5;28;01mif\u001b[39;00m \u001b[38;5;28mself\u001b[39m\u001b[38;5;241m.\u001b[39m_sparse \u001b[38;5;28;01melse\u001b[39;00m \u001b[38;5;28mself\u001b[39m\u001b[38;5;241m.\u001b[39m_dense_predict\n\u001b[0;32m    430\u001b[0m     \u001b[38;5;28;01mreturn\u001b[39;00m predict(X)\n",
      "File \u001b[1;32m~\\anaconda3\\Lib\\site-packages\\sklearn\\svm\\_base.py:606\u001b[0m, in \u001b[0;36mBaseLibSVM._validate_for_predict\u001b[1;34m(self, X)\u001b[0m\n\u001b[0;32m    603\u001b[0m check_is_fitted(\u001b[38;5;28mself\u001b[39m)\n\u001b[0;32m    605\u001b[0m \u001b[38;5;28;01mif\u001b[39;00m \u001b[38;5;129;01mnot\u001b[39;00m \u001b[38;5;28mcallable\u001b[39m(\u001b[38;5;28mself\u001b[39m\u001b[38;5;241m.\u001b[39mkernel):\n\u001b[1;32m--> 606\u001b[0m     X \u001b[38;5;241m=\u001b[39m \u001b[38;5;28mself\u001b[39m\u001b[38;5;241m.\u001b[39m_validate_data(\n\u001b[0;32m    607\u001b[0m         X,\n\u001b[0;32m    608\u001b[0m         accept_sparse\u001b[38;5;241m=\u001b[39m\u001b[38;5;124m\"\u001b[39m\u001b[38;5;124mcsr\u001b[39m\u001b[38;5;124m\"\u001b[39m,\n\u001b[0;32m    609\u001b[0m         dtype\u001b[38;5;241m=\u001b[39mnp\u001b[38;5;241m.\u001b[39mfloat64,\n\u001b[0;32m    610\u001b[0m         order\u001b[38;5;241m=\u001b[39m\u001b[38;5;124m\"\u001b[39m\u001b[38;5;124mC\u001b[39m\u001b[38;5;124m\"\u001b[39m,\n\u001b[0;32m    611\u001b[0m         accept_large_sparse\u001b[38;5;241m=\u001b[39m\u001b[38;5;28;01mFalse\u001b[39;00m,\n\u001b[0;32m    612\u001b[0m         reset\u001b[38;5;241m=\u001b[39m\u001b[38;5;28;01mFalse\u001b[39;00m,\n\u001b[0;32m    613\u001b[0m     )\n\u001b[0;32m    615\u001b[0m \u001b[38;5;28;01mif\u001b[39;00m \u001b[38;5;28mself\u001b[39m\u001b[38;5;241m.\u001b[39m_sparse \u001b[38;5;129;01mand\u001b[39;00m \u001b[38;5;129;01mnot\u001b[39;00m sp\u001b[38;5;241m.\u001b[39missparse(X):\n\u001b[0;32m    616\u001b[0m     X \u001b[38;5;241m=\u001b[39m sp\u001b[38;5;241m.\u001b[39mcsr_matrix(X)\n",
      "File \u001b[1;32m~\\anaconda3\\Lib\\site-packages\\sklearn\\base.py:608\u001b[0m, in \u001b[0;36mBaseEstimator._validate_data\u001b[1;34m(self, X, y, reset, validate_separately, cast_to_ndarray, **check_params)\u001b[0m\n\u001b[0;32m    537\u001b[0m \u001b[38;5;28;01mdef\u001b[39;00m \u001b[38;5;21m_validate_data\u001b[39m(\n\u001b[0;32m    538\u001b[0m     \u001b[38;5;28mself\u001b[39m,\n\u001b[0;32m    539\u001b[0m     X\u001b[38;5;241m=\u001b[39m\u001b[38;5;124m\"\u001b[39m\u001b[38;5;124mno_validation\u001b[39m\u001b[38;5;124m\"\u001b[39m,\n\u001b[1;32m   (...)\u001b[0m\n\u001b[0;32m    544\u001b[0m     \u001b[38;5;241m*\u001b[39m\u001b[38;5;241m*\u001b[39mcheck_params,\n\u001b[0;32m    545\u001b[0m ):\n\u001b[0;32m    546\u001b[0m \u001b[38;5;250m    \u001b[39m\u001b[38;5;124;03m\"\"\"Validate input data and set or check the `n_features_in_` attribute.\u001b[39;00m\n\u001b[0;32m    547\u001b[0m \n\u001b[0;32m    548\u001b[0m \u001b[38;5;124;03m    Parameters\u001b[39;00m\n\u001b[1;32m   (...)\u001b[0m\n\u001b[0;32m    606\u001b[0m \u001b[38;5;124;03m        validated.\u001b[39;00m\n\u001b[0;32m    607\u001b[0m \u001b[38;5;124;03m    \"\"\"\u001b[39;00m\n\u001b[1;32m--> 608\u001b[0m     \u001b[38;5;28mself\u001b[39m\u001b[38;5;241m.\u001b[39m_check_feature_names(X, reset\u001b[38;5;241m=\u001b[39mreset)\n\u001b[0;32m    610\u001b[0m     \u001b[38;5;28;01mif\u001b[39;00m y \u001b[38;5;129;01mis\u001b[39;00m \u001b[38;5;28;01mNone\u001b[39;00m \u001b[38;5;129;01mand\u001b[39;00m \u001b[38;5;28mself\u001b[39m\u001b[38;5;241m.\u001b[39m_get_tags()[\u001b[38;5;124m\"\u001b[39m\u001b[38;5;124mrequires_y\u001b[39m\u001b[38;5;124m\"\u001b[39m]:\n\u001b[0;32m    611\u001b[0m         \u001b[38;5;28;01mraise\u001b[39;00m \u001b[38;5;167;01mValueError\u001b[39;00m(\n\u001b[0;32m    612\u001b[0m             \u001b[38;5;124mf\u001b[39m\u001b[38;5;124m\"\u001b[39m\u001b[38;5;124mThis \u001b[39m\u001b[38;5;132;01m{\u001b[39;00m\u001b[38;5;28mself\u001b[39m\u001b[38;5;241m.\u001b[39m\u001b[38;5;18m__class__\u001b[39m\u001b[38;5;241m.\u001b[39m\u001b[38;5;18m__name__\u001b[39m\u001b[38;5;132;01m}\u001b[39;00m\u001b[38;5;124m estimator \u001b[39m\u001b[38;5;124m\"\u001b[39m\n\u001b[0;32m    613\u001b[0m             \u001b[38;5;124m\"\u001b[39m\u001b[38;5;124mrequires y to be passed, but the target y is None.\u001b[39m\u001b[38;5;124m\"\u001b[39m\n\u001b[0;32m    614\u001b[0m         )\n",
      "File \u001b[1;32m~\\anaconda3\\Lib\\site-packages\\sklearn\\base.py:535\u001b[0m, in \u001b[0;36mBaseEstimator._check_feature_names\u001b[1;34m(self, X, reset)\u001b[0m\n\u001b[0;32m    530\u001b[0m \u001b[38;5;28;01mif\u001b[39;00m \u001b[38;5;129;01mnot\u001b[39;00m missing_names \u001b[38;5;129;01mand\u001b[39;00m \u001b[38;5;129;01mnot\u001b[39;00m unexpected_names:\n\u001b[0;32m    531\u001b[0m     message \u001b[38;5;241m+\u001b[39m\u001b[38;5;241m=\u001b[39m (\n\u001b[0;32m    532\u001b[0m         \u001b[38;5;124m\"\u001b[39m\u001b[38;5;124mFeature names must be in the same order as they were in fit.\u001b[39m\u001b[38;5;130;01m\\n\u001b[39;00m\u001b[38;5;124m\"\u001b[39m\n\u001b[0;32m    533\u001b[0m     )\n\u001b[1;32m--> 535\u001b[0m \u001b[38;5;28;01mraise\u001b[39;00m \u001b[38;5;167;01mValueError\u001b[39;00m(message)\n",
      "\u001b[1;31mValueError\u001b[0m: The feature names should match those that were passed during fit.\nFeature names must be in the same order as they were in fit.\n"
     ]
    }
   ],
   "source": [
    "# Hacemos predicciones con modelo entrenado\n",
    "X_daily = daily_data[['Age','DiastolicBP', 'SystolicBP', 'BS', 'BodyTemp', 'HeartRate']]\n",
    "daily_data['risk'] = modelSVC.predict(X_daily)\n",
    "daily_data.head(10)"
   ]
  },
  {
   "cell_type": "code",
   "execution_count": null,
   "id": "b040481b-c0b1-4729-96bb-4b626a1d673d",
   "metadata": {},
   "outputs": [],
   "source": []
  }
 ],
 "metadata": {
  "kernelspec": {
   "display_name": "Python 3 (ipykernel)",
   "language": "python",
   "name": "python3"
  },
  "language_info": {
   "codemirror_mode": {
    "name": "ipython",
    "version": 3
   },
   "file_extension": ".py",
   "mimetype": "text/x-python",
   "name": "python",
   "nbconvert_exporter": "python",
   "pygments_lexer": "ipython3",
   "version": "3.12.7"
  }
 },
 "nbformat": 4,
 "nbformat_minor": 5
}
