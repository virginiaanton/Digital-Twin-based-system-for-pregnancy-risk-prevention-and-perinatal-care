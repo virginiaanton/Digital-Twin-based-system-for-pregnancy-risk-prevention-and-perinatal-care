{
 "cells": [
  {
   "cell_type": "code",
   "execution_count": 173,
   "id": "52af1a72-c08c-4aed-b8b1-0421cd21daff",
   "metadata": {},
   "outputs": [],
   "source": [
    "import pandas as pd\n",
    "import numpy as np\n",
    "\n",
    "import matplotlib.pyplot as plt\n",
    "import seaborn as sns\n",
    "import seaborn as sns\n",
    "import plotly.express as px\n",
    "\n",
    "from datetime import date\n",
    "from datetime import datetime\n"
   ]
  },
  {
   "cell_type": "markdown",
   "id": "f3b30e0d-082c-41eb-9786-908435d74a4c",
   "metadata": {},
   "source": [
    "# ANÁLISIS MUESTRA SYNTHEA"
   ]
  },
  {
   "cell_type": "code",
   "execution_count": 258,
   "id": "c8368f78-6ab1-4ac8-8c46-7bae16b5ae9d",
   "metadata": {},
   "outputs": [],
   "source": [
    "careplans= pd.read_csv('careplans.csv')\n",
    "encounters = pd.read_csv('encounters.csv')\n",
    "patients = pd.read_csv('patients.csv')\n"
   ]
  },
  {
   "cell_type": "code",
   "execution_count": 57,
   "id": "d859bbae-9531-42c7-b896-8bf4922e41d2",
   "metadata": {},
   "outputs": [
    {
     "data": {
      "text/html": [
       "<div>\n",
       "<style scoped>\n",
       "    .dataframe tbody tr th:only-of-type {\n",
       "        vertical-align: middle;\n",
       "    }\n",
       "\n",
       "    .dataframe tbody tr th {\n",
       "        vertical-align: top;\n",
       "    }\n",
       "\n",
       "    .dataframe thead th {\n",
       "        text-align: right;\n",
       "    }\n",
       "</style>\n",
       "<table border=\"1\" class=\"dataframe\">\n",
       "  <thead>\n",
       "    <tr style=\"text-align: right;\">\n",
       "      <th></th>\n",
       "      <th>Id</th>\n",
       "      <th>START</th>\n",
       "      <th>STOP</th>\n",
       "      <th>PATIENT</th>\n",
       "      <th>ENCOUNTER</th>\n",
       "      <th>CODE</th>\n",
       "      <th>DESCRIPTION</th>\n",
       "      <th>REASONCODE</th>\n",
       "      <th>REASONDESCRIPTION</th>\n",
       "    </tr>\n",
       "  </thead>\n",
       "  <tbody>\n",
       "    <tr>\n",
       "      <th>0</th>\n",
       "      <td>01612794-cb3e-02ac-1e6f-857a03b9bc69</td>\n",
       "      <td>2018-11-18</td>\n",
       "      <td>2018-12-13</td>\n",
       "      <td>d778d02c-1b71-582e-0c64-e9ce715996fc</td>\n",
       "      <td>f549ca01-9e59-e01c-0b2d-c583240c3ab1</td>\n",
       "      <td>225358003</td>\n",
       "      <td>Wound care (regime/therapy)</td>\n",
       "      <td>284549007.0</td>\n",
       "      <td>Laceration of hand (disorder)</td>\n",
       "    </tr>\n",
       "    <tr>\n",
       "      <th>1</th>\n",
       "      <td>7ca9b0a8-2941-8c67-0778-0f132ea1a29e</td>\n",
       "      <td>2022-10-06</td>\n",
       "      <td>2023-02-02</td>\n",
       "      <td>d778d02c-1b71-582e-0c64-e9ce715996fc</td>\n",
       "      <td>aa60e9ca-6271-8103-97ad-052099369212</td>\n",
       "      <td>53950000</td>\n",
       "      <td>Respiratory therapy (procedure)</td>\n",
       "      <td>NaN</td>\n",
       "      <td>NaN</td>\n",
       "    </tr>\n",
       "    <tr>\n",
       "      <th>2</th>\n",
       "      <td>2f17bca4-8478-8a83-b2bd-33a2d53485ce</td>\n",
       "      <td>2024-03-08</td>\n",
       "      <td>2024-04-19</td>\n",
       "      <td>958cbaed-4a32-40ff-f2ee-d55edc4f7611</td>\n",
       "      <td>e839b319-4afe-187b-219c-374d7529e79b</td>\n",
       "      <td>47387005</td>\n",
       "      <td>Head injury rehabilitation (regime/therapy)</td>\n",
       "      <td>62564004.0</td>\n",
       "      <td>Concussion with loss of consciousness (disorder)</td>\n",
       "    </tr>\n",
       "    <tr>\n",
       "      <th>3</th>\n",
       "      <td>ae9b05d7-b88b-0a25-5f98-bcb2101baea9</td>\n",
       "      <td>2024-09-19</td>\n",
       "      <td>NaN</td>\n",
       "      <td>d778d02c-1b71-582e-0c64-e9ce715996fc</td>\n",
       "      <td>0a723901-5534-ddd3-dfd3-4bee300feb41</td>\n",
       "      <td>134435003</td>\n",
       "      <td>Routine antenatal care (regime/therapy)</td>\n",
       "      <td>NaN</td>\n",
       "      <td>NaN</td>\n",
       "    </tr>\n",
       "    <tr>\n",
       "      <th>4</th>\n",
       "      <td>c6e88795-3d78-21a4-3ffa-12bbf59e7ae9</td>\n",
       "      <td>2014-03-25</td>\n",
       "      <td>NaN</td>\n",
       "      <td>ff3708b4-748c-ae52-2430-bc60dd9fb5dd</td>\n",
       "      <td>dbe4c0db-e925-25a1-d666-1a4b962aa43b</td>\n",
       "      <td>276239002</td>\n",
       "      <td>Therapy (regime/therapy)</td>\n",
       "      <td>NaN</td>\n",
       "      <td>NaN</td>\n",
       "    </tr>\n",
       "    <tr>\n",
       "      <th>5</th>\n",
       "      <td>bbfb19d2-6b9c-a15a-0cda-55c0a6af5334</td>\n",
       "      <td>2016-10-18</td>\n",
       "      <td>2016-11-24</td>\n",
       "      <td>ff3708b4-748c-ae52-2430-bc60dd9fb5dd</td>\n",
       "      <td>e715b323-f531-b9bc-c478-df8fa32e883c</td>\n",
       "      <td>53950000</td>\n",
       "      <td>Respiratory therapy (procedure)</td>\n",
       "      <td>NaN</td>\n",
       "      <td>NaN</td>\n",
       "    </tr>\n",
       "    <tr>\n",
       "      <th>6</th>\n",
       "      <td>5c0e3fbd-f4cc-6707-c453-399f4ac4c9f8</td>\n",
       "      <td>2016-11-03</td>\n",
       "      <td>2017-06-08</td>\n",
       "      <td>ff3708b4-748c-ae52-2430-bc60dd9fb5dd</td>\n",
       "      <td>4a5e541d-40b7-aa51-c17d-7f87ddc388a7</td>\n",
       "      <td>134435003</td>\n",
       "      <td>Routine antenatal care (regime/therapy)</td>\n",
       "      <td>NaN</td>\n",
       "      <td>NaN</td>\n",
       "    </tr>\n",
       "    <tr>\n",
       "      <th>7</th>\n",
       "      <td>b82e700b-53aa-2e7a-4e54-f0b842c457b8</td>\n",
       "      <td>2020-04-05</td>\n",
       "      <td>2020-04-05</td>\n",
       "      <td>ff3708b4-748c-ae52-2430-bc60dd9fb5dd</td>\n",
       "      <td>b84f6900-c5a6-86fc-4221-6e7543bddaf2</td>\n",
       "      <td>736376001</td>\n",
       "      <td>Infectious disease care plan (record artifact)</td>\n",
       "      <td>NaN</td>\n",
       "      <td>NaN</td>\n",
       "    </tr>\n",
       "    <tr>\n",
       "      <th>8</th>\n",
       "      <td>fb4c24bd-0872-83d7-b077-daea32d812c2</td>\n",
       "      <td>2020-04-05</td>\n",
       "      <td>2020-04-26</td>\n",
       "      <td>ff3708b4-748c-ae52-2430-bc60dd9fb5dd</td>\n",
       "      <td>b84f6900-c5a6-86fc-4221-6e7543bddaf2</td>\n",
       "      <td>736376001</td>\n",
       "      <td>Infectious disease care plan (record artifact)</td>\n",
       "      <td>NaN</td>\n",
       "      <td>NaN</td>\n",
       "    </tr>\n",
       "    <tr>\n",
       "      <th>9</th>\n",
       "      <td>1f0b56c3-6587-b490-e0f5-1b0faabc9ed1</td>\n",
       "      <td>2024-08-15</td>\n",
       "      <td>NaN</td>\n",
       "      <td>ff3708b4-748c-ae52-2430-bc60dd9fb5dd</td>\n",
       "      <td>66fb3887-fe6d-98fd-c2c4-4c4b0e882928</td>\n",
       "      <td>134435003</td>\n",
       "      <td>Routine antenatal care (regime/therapy)</td>\n",
       "      <td>NaN</td>\n",
       "      <td>NaN</td>\n",
       "    </tr>\n",
       "    <tr>\n",
       "      <th>10</th>\n",
       "      <td>fd62dbc1-8c7c-d21a-67b8-c24e42aa2d69</td>\n",
       "      <td>2014-08-26</td>\n",
       "      <td>NaN</td>\n",
       "      <td>8cc46582-8727-0024-6010-c5e7e2943578</td>\n",
       "      <td>35a7d61d-b0d1-94ea-3f7d-a74e09482aba</td>\n",
       "      <td>718361005</td>\n",
       "      <td>Weight management program (regime/therapy)</td>\n",
       "      <td>NaN</td>\n",
       "      <td>NaN</td>\n",
       "    </tr>\n",
       "    <tr>\n",
       "      <th>11</th>\n",
       "      <td>244d72d3-69a0-85b5-ffce-bc2ed42d0a65</td>\n",
       "      <td>2020-09-22</td>\n",
       "      <td>2021-04-20</td>\n",
       "      <td>8cc46582-8727-0024-6010-c5e7e2943578</td>\n",
       "      <td>2a07b3a5-0e66-01bb-058d-f8502e8eaada</td>\n",
       "      <td>134435003</td>\n",
       "      <td>Routine antenatal care (regime/therapy)</td>\n",
       "      <td>NaN</td>\n",
       "      <td>NaN</td>\n",
       "    </tr>\n",
       "    <tr>\n",
       "      <th>12</th>\n",
       "      <td>3576a72b-1242-c5db-555e-01884fb2f892</td>\n",
       "      <td>2021-08-08</td>\n",
       "      <td>2021-08-21</td>\n",
       "      <td>8cc46582-8727-0024-6010-c5e7e2943578</td>\n",
       "      <td>fccb11b9-243e-78c0-d725-f313bd608e3e</td>\n",
       "      <td>736376001</td>\n",
       "      <td>Infectious disease care plan (record artifact)</td>\n",
       "      <td>NaN</td>\n",
       "      <td>NaN</td>\n",
       "    </tr>\n",
       "    <tr>\n",
       "      <th>13</th>\n",
       "      <td>591916e7-0d89-6850-2e85-6912804158d1</td>\n",
       "      <td>2024-12-03</td>\n",
       "      <td>NaN</td>\n",
       "      <td>8cc46582-8727-0024-6010-c5e7e2943578</td>\n",
       "      <td>20d0a9bd-0efd-263a-dbdb-d8f6a13dabd3</td>\n",
       "      <td>134435003</td>\n",
       "      <td>Routine antenatal care (regime/therapy)</td>\n",
       "      <td>NaN</td>\n",
       "      <td>NaN</td>\n",
       "    </tr>\n",
       "    <tr>\n",
       "      <th>14</th>\n",
       "      <td>d1e9aae9-78de-39a5-6f33-0276d0df81e3</td>\n",
       "      <td>2014-04-15</td>\n",
       "      <td>NaN</td>\n",
       "      <td>6da671b7-6462-2ced-5b86-5b0fced4308b</td>\n",
       "      <td>d81c8d49-952b-5f31-1d6f-8e4cc478bd08</td>\n",
       "      <td>276239002</td>\n",
       "      <td>Therapy (regime/therapy)</td>\n",
       "      <td>NaN</td>\n",
       "      <td>NaN</td>\n",
       "    </tr>\n",
       "  </tbody>\n",
       "</table>\n",
       "</div>"
      ],
      "text/plain": [
       "                                      Id       START        STOP  \\\n",
       "0   01612794-cb3e-02ac-1e6f-857a03b9bc69  2018-11-18  2018-12-13   \n",
       "1   7ca9b0a8-2941-8c67-0778-0f132ea1a29e  2022-10-06  2023-02-02   \n",
       "2   2f17bca4-8478-8a83-b2bd-33a2d53485ce  2024-03-08  2024-04-19   \n",
       "3   ae9b05d7-b88b-0a25-5f98-bcb2101baea9  2024-09-19         NaN   \n",
       "4   c6e88795-3d78-21a4-3ffa-12bbf59e7ae9  2014-03-25         NaN   \n",
       "5   bbfb19d2-6b9c-a15a-0cda-55c0a6af5334  2016-10-18  2016-11-24   \n",
       "6   5c0e3fbd-f4cc-6707-c453-399f4ac4c9f8  2016-11-03  2017-06-08   \n",
       "7   b82e700b-53aa-2e7a-4e54-f0b842c457b8  2020-04-05  2020-04-05   \n",
       "8   fb4c24bd-0872-83d7-b077-daea32d812c2  2020-04-05  2020-04-26   \n",
       "9   1f0b56c3-6587-b490-e0f5-1b0faabc9ed1  2024-08-15         NaN   \n",
       "10  fd62dbc1-8c7c-d21a-67b8-c24e42aa2d69  2014-08-26         NaN   \n",
       "11  244d72d3-69a0-85b5-ffce-bc2ed42d0a65  2020-09-22  2021-04-20   \n",
       "12  3576a72b-1242-c5db-555e-01884fb2f892  2021-08-08  2021-08-21   \n",
       "13  591916e7-0d89-6850-2e85-6912804158d1  2024-12-03         NaN   \n",
       "14  d1e9aae9-78de-39a5-6f33-0276d0df81e3  2014-04-15         NaN   \n",
       "\n",
       "                                 PATIENT  \\\n",
       "0   d778d02c-1b71-582e-0c64-e9ce715996fc   \n",
       "1   d778d02c-1b71-582e-0c64-e9ce715996fc   \n",
       "2   958cbaed-4a32-40ff-f2ee-d55edc4f7611   \n",
       "3   d778d02c-1b71-582e-0c64-e9ce715996fc   \n",
       "4   ff3708b4-748c-ae52-2430-bc60dd9fb5dd   \n",
       "5   ff3708b4-748c-ae52-2430-bc60dd9fb5dd   \n",
       "6   ff3708b4-748c-ae52-2430-bc60dd9fb5dd   \n",
       "7   ff3708b4-748c-ae52-2430-bc60dd9fb5dd   \n",
       "8   ff3708b4-748c-ae52-2430-bc60dd9fb5dd   \n",
       "9   ff3708b4-748c-ae52-2430-bc60dd9fb5dd   \n",
       "10  8cc46582-8727-0024-6010-c5e7e2943578   \n",
       "11  8cc46582-8727-0024-6010-c5e7e2943578   \n",
       "12  8cc46582-8727-0024-6010-c5e7e2943578   \n",
       "13  8cc46582-8727-0024-6010-c5e7e2943578   \n",
       "14  6da671b7-6462-2ced-5b86-5b0fced4308b   \n",
       "\n",
       "                               ENCOUNTER       CODE  \\\n",
       "0   f549ca01-9e59-e01c-0b2d-c583240c3ab1  225358003   \n",
       "1   aa60e9ca-6271-8103-97ad-052099369212   53950000   \n",
       "2   e839b319-4afe-187b-219c-374d7529e79b   47387005   \n",
       "3   0a723901-5534-ddd3-dfd3-4bee300feb41  134435003   \n",
       "4   dbe4c0db-e925-25a1-d666-1a4b962aa43b  276239002   \n",
       "5   e715b323-f531-b9bc-c478-df8fa32e883c   53950000   \n",
       "6   4a5e541d-40b7-aa51-c17d-7f87ddc388a7  134435003   \n",
       "7   b84f6900-c5a6-86fc-4221-6e7543bddaf2  736376001   \n",
       "8   b84f6900-c5a6-86fc-4221-6e7543bddaf2  736376001   \n",
       "9   66fb3887-fe6d-98fd-c2c4-4c4b0e882928  134435003   \n",
       "10  35a7d61d-b0d1-94ea-3f7d-a74e09482aba  718361005   \n",
       "11  2a07b3a5-0e66-01bb-058d-f8502e8eaada  134435003   \n",
       "12  fccb11b9-243e-78c0-d725-f313bd608e3e  736376001   \n",
       "13  20d0a9bd-0efd-263a-dbdb-d8f6a13dabd3  134435003   \n",
       "14  d81c8d49-952b-5f31-1d6f-8e4cc478bd08  276239002   \n",
       "\n",
       "                                       DESCRIPTION   REASONCODE  \\\n",
       "0                      Wound care (regime/therapy)  284549007.0   \n",
       "1                  Respiratory therapy (procedure)          NaN   \n",
       "2      Head injury rehabilitation (regime/therapy)   62564004.0   \n",
       "3          Routine antenatal care (regime/therapy)          NaN   \n",
       "4                         Therapy (regime/therapy)          NaN   \n",
       "5                  Respiratory therapy (procedure)          NaN   \n",
       "6          Routine antenatal care (regime/therapy)          NaN   \n",
       "7   Infectious disease care plan (record artifact)          NaN   \n",
       "8   Infectious disease care plan (record artifact)          NaN   \n",
       "9          Routine antenatal care (regime/therapy)          NaN   \n",
       "10      Weight management program (regime/therapy)          NaN   \n",
       "11         Routine antenatal care (regime/therapy)          NaN   \n",
       "12  Infectious disease care plan (record artifact)          NaN   \n",
       "13         Routine antenatal care (regime/therapy)          NaN   \n",
       "14                        Therapy (regime/therapy)          NaN   \n",
       "\n",
       "                                   REASONDESCRIPTION  \n",
       "0                      Laceration of hand (disorder)  \n",
       "1                                                NaN  \n",
       "2   Concussion with loss of consciousness (disorder)  \n",
       "3                                                NaN  \n",
       "4                                                NaN  \n",
       "5                                                NaN  \n",
       "6                                                NaN  \n",
       "7                                                NaN  \n",
       "8                                                NaN  \n",
       "9                                                NaN  \n",
       "10                                               NaN  \n",
       "11                                               NaN  \n",
       "12                                               NaN  \n",
       "13                                               NaN  \n",
       "14                                               NaN  "
      ]
     },
     "execution_count": 57,
     "metadata": {},
     "output_type": "execute_result"
    }
   ],
   "source": [
    "careplans.head(15)"
   ]
  },
  {
   "cell_type": "code",
   "execution_count": 64,
   "id": "8eaf7f71-bd5e-4062-a9c9-dd4a249bad12",
   "metadata": {},
   "outputs": [
    {
     "data": {
      "text/html": [
       "<div>\n",
       "<style scoped>\n",
       "    .dataframe tbody tr th:only-of-type {\n",
       "        vertical-align: middle;\n",
       "    }\n",
       "\n",
       "    .dataframe tbody tr th {\n",
       "        vertical-align: top;\n",
       "    }\n",
       "\n",
       "    .dataframe thead th {\n",
       "        text-align: right;\n",
       "    }\n",
       "</style>\n",
       "<table border=\"1\" class=\"dataframe\">\n",
       "  <thead>\n",
       "    <tr style=\"text-align: right;\">\n",
       "      <th></th>\n",
       "      <th>Id</th>\n",
       "      <th>START</th>\n",
       "      <th>STOP</th>\n",
       "      <th>PATIENT</th>\n",
       "      <th>ORGANIZATION</th>\n",
       "      <th>PROVIDER</th>\n",
       "      <th>PAYER</th>\n",
       "      <th>ENCOUNTERCLASS</th>\n",
       "      <th>CODE</th>\n",
       "      <th>DESCRIPTION</th>\n",
       "      <th>BASE_ENCOUNTER_COST</th>\n",
       "      <th>TOTAL_CLAIM_COST</th>\n",
       "      <th>PAYER_COVERAGE</th>\n",
       "      <th>REASONCODE</th>\n",
       "      <th>REASONDESCRIPTION</th>\n",
       "    </tr>\n",
       "  </thead>\n",
       "  <tbody>\n",
       "    <tr>\n",
       "      <th>0</th>\n",
       "      <td>9c7664c0-33a3-6778-7845-7b08030a230c</td>\n",
       "      <td>2014-10-27T23:58:08Z</td>\n",
       "      <td>2014-10-28T00:13:08Z</td>\n",
       "      <td>958cbaed-4a32-40ff-f2ee-d55edc4f7611</td>\n",
       "      <td>d6c165ec-d9ca-35a5-9bc8-2061cbfb83a2</td>\n",
       "      <td>b9c0c3c3-14b8-3b3d-8934-5b89b2b6475b</td>\n",
       "      <td>26aab0cd-6aba-3e1b-ac5b-05c8867e762c</td>\n",
       "      <td>wellness</td>\n",
       "      <td>410620009</td>\n",
       "      <td>Well child visit (procedure)</td>\n",
       "      <td>136.80</td>\n",
       "      <td>1186.78</td>\n",
       "      <td>0.00</td>\n",
       "      <td>NaN</td>\n",
       "      <td>NaN</td>\n",
       "    </tr>\n",
       "    <tr>\n",
       "      <th>1</th>\n",
       "      <td>75f6d06e-01e4-999f-656e-a4def079a8f6</td>\n",
       "      <td>2015-11-02T23:58:08Z</td>\n",
       "      <td>2015-11-03T00:17:06Z</td>\n",
       "      <td>958cbaed-4a32-40ff-f2ee-d55edc4f7611</td>\n",
       "      <td>d6c165ec-d9ca-35a5-9bc8-2061cbfb83a2</td>\n",
       "      <td>b9c0c3c3-14b8-3b3d-8934-5b89b2b6475b</td>\n",
       "      <td>26aab0cd-6aba-3e1b-ac5b-05c8867e762c</td>\n",
       "      <td>wellness</td>\n",
       "      <td>410620009</td>\n",
       "      <td>Well child visit (procedure)</td>\n",
       "      <td>136.80</td>\n",
       "      <td>840.20</td>\n",
       "      <td>0.00</td>\n",
       "      <td>NaN</td>\n",
       "      <td>NaN</td>\n",
       "    </tr>\n",
       "    <tr>\n",
       "      <th>2</th>\n",
       "      <td>3682fee4-9f43-f8ae-bc5c-8a0b8b42528f</td>\n",
       "      <td>2014-12-18T14:59:14Z</td>\n",
       "      <td>2014-12-18T15:14:14Z</td>\n",
       "      <td>d778d02c-1b71-582e-0c64-e9ce715996fc</td>\n",
       "      <td>5fa5e611-be3d-3ebb-8f71-124325f6005f</td>\n",
       "      <td>236e8b0e-dba1-31a5-a5ac-f8b4dff4ecc6</td>\n",
       "      <td>0133f751-9229-3cfd-815f-b6d4979bdd6a</td>\n",
       "      <td>wellness</td>\n",
       "      <td>410620009</td>\n",
       "      <td>Well child visit (procedure)</td>\n",
       "      <td>136.80</td>\n",
       "      <td>272.80</td>\n",
       "      <td>0.00</td>\n",
       "      <td>NaN</td>\n",
       "      <td>NaN</td>\n",
       "    </tr>\n",
       "    <tr>\n",
       "      <th>3</th>\n",
       "      <td>c77234be-e24b-5ebf-0e7a-0c835da53642</td>\n",
       "      <td>2015-05-01T04:59:14Z</td>\n",
       "      <td>2015-05-01T05:14:14Z</td>\n",
       "      <td>d778d02c-1b71-582e-0c64-e9ce715996fc</td>\n",
       "      <td>9d989fcf-4ad9-3972-ada3-f275d967781e</td>\n",
       "      <td>dc678fc2-279d-3be8-be3f-b28dc4e317fb</td>\n",
       "      <td>0133f751-9229-3cfd-815f-b6d4979bdd6a</td>\n",
       "      <td>ambulatory</td>\n",
       "      <td>185345009</td>\n",
       "      <td>Encounter for symptom (procedure)</td>\n",
       "      <td>85.55</td>\n",
       "      <td>85.55</td>\n",
       "      <td>0.00</td>\n",
       "      <td>195662009.0</td>\n",
       "      <td>Acute viral pharyngitis (disorder)</td>\n",
       "    </tr>\n",
       "    <tr>\n",
       "      <th>4</th>\n",
       "      <td>b22ac215-c066-f45c-8201-673d1d33f67b</td>\n",
       "      <td>2016-11-07T23:58:08Z</td>\n",
       "      <td>2016-11-08T00:13:08Z</td>\n",
       "      <td>958cbaed-4a32-40ff-f2ee-d55edc4f7611</td>\n",
       "      <td>d6c165ec-d9ca-35a5-9bc8-2061cbfb83a2</td>\n",
       "      <td>b9c0c3c3-14b8-3b3d-8934-5b89b2b6475b</td>\n",
       "      <td>26aab0cd-6aba-3e1b-ac5b-05c8867e762c</td>\n",
       "      <td>wellness</td>\n",
       "      <td>410620009</td>\n",
       "      <td>Well child visit (procedure)</td>\n",
       "      <td>136.80</td>\n",
       "      <td>1305.43</td>\n",
       "      <td>0.00</td>\n",
       "      <td>NaN</td>\n",
       "      <td>NaN</td>\n",
       "    </tr>\n",
       "    <tr>\n",
       "      <th>...</th>\n",
       "      <td>...</td>\n",
       "      <td>...</td>\n",
       "      <td>...</td>\n",
       "      <td>...</td>\n",
       "      <td>...</td>\n",
       "      <td>...</td>\n",
       "      <td>...</td>\n",
       "      <td>...</td>\n",
       "      <td>...</td>\n",
       "      <td>...</td>\n",
       "      <td>...</td>\n",
       "      <td>...</td>\n",
       "      <td>...</td>\n",
       "      <td>...</td>\n",
       "      <td>...</td>\n",
       "    </tr>\n",
       "    <tr>\n",
       "      <th>32745</th>\n",
       "      <td>4c2c13fc-389c-5305-dfe8-84cb7ff2f300</td>\n",
       "      <td>2022-12-26T00:29:08Z</td>\n",
       "      <td>2022-12-26T01:02:33Z</td>\n",
       "      <td>5c25efe7-fc0a-3afa-5577-72c3f5cfc7f0</td>\n",
       "      <td>e5b9db6a-8dd8-3622-b9ce-3dc593e111d1</td>\n",
       "      <td>bee22fdb-0ccc-32aa-80d3-f9e677dc8d4f</td>\n",
       "      <td>df166300-5a78-3502-a46a-832842197811</td>\n",
       "      <td>wellness</td>\n",
       "      <td>162673000</td>\n",
       "      <td>General examination of patient (procedure)</td>\n",
       "      <td>136.80</td>\n",
       "      <td>853.36</td>\n",
       "      <td>753.36</td>\n",
       "      <td>NaN</td>\n",
       "      <td>NaN</td>\n",
       "    </tr>\n",
       "    <tr>\n",
       "      <th>32746</th>\n",
       "      <td>9827a5ac-0451-516d-031b-eab536d839d2</td>\n",
       "      <td>2023-09-25T05:29:08Z</td>\n",
       "      <td>2023-09-25T05:44:08Z</td>\n",
       "      <td>5c25efe7-fc0a-3afa-5577-72c3f5cfc7f0</td>\n",
       "      <td>c7542447-e06e-32cb-b6db-243c23a0dbc2</td>\n",
       "      <td>a8287324-f8d6-31e1-beae-004b795fa507</td>\n",
       "      <td>df166300-5a78-3502-a46a-832842197811</td>\n",
       "      <td>ambulatory</td>\n",
       "      <td>185345009</td>\n",
       "      <td>Encounter for symptom (procedure)</td>\n",
       "      <td>85.55</td>\n",
       "      <td>85.55</td>\n",
       "      <td>35.55</td>\n",
       "      <td>75498004.0</td>\n",
       "      <td>Acute bacterial sinusitis (disorder)</td>\n",
       "    </tr>\n",
       "    <tr>\n",
       "      <th>32747</th>\n",
       "      <td>19ab31ad-8140-02fb-d3d9-04ef7225ef99</td>\n",
       "      <td>2023-10-28T05:29:08Z</td>\n",
       "      <td>2023-10-28T05:44:08Z</td>\n",
       "      <td>5c25efe7-fc0a-3afa-5577-72c3f5cfc7f0</td>\n",
       "      <td>c7542447-e06e-32cb-b6db-243c23a0dbc2</td>\n",
       "      <td>a8287324-f8d6-31e1-beae-004b795fa507</td>\n",
       "      <td>df166300-5a78-3502-a46a-832842197811</td>\n",
       "      <td>ambulatory</td>\n",
       "      <td>185345009</td>\n",
       "      <td>Encounter for symptom (procedure)</td>\n",
       "      <td>85.55</td>\n",
       "      <td>92.93</td>\n",
       "      <td>42.93</td>\n",
       "      <td>75498004.0</td>\n",
       "      <td>Acute bacterial sinusitis (disorder)</td>\n",
       "    </tr>\n",
       "    <tr>\n",
       "      <th>32748</th>\n",
       "      <td>b8bdd2bf-b6e0-85d8-2f13-fac2c1bbcdcf</td>\n",
       "      <td>2024-01-01T00:29:08Z</td>\n",
       "      <td>2024-01-01T01:14:49Z</td>\n",
       "      <td>5c25efe7-fc0a-3afa-5577-72c3f5cfc7f0</td>\n",
       "      <td>e5b9db6a-8dd8-3622-b9ce-3dc593e111d1</td>\n",
       "      <td>bee22fdb-0ccc-32aa-80d3-f9e677dc8d4f</td>\n",
       "      <td>df166300-5a78-3502-a46a-832842197811</td>\n",
       "      <td>wellness</td>\n",
       "      <td>162673000</td>\n",
       "      <td>General examination of patient (procedure)</td>\n",
       "      <td>136.80</td>\n",
       "      <td>1632.30</td>\n",
       "      <td>1532.30</td>\n",
       "      <td>NaN</td>\n",
       "      <td>NaN</td>\n",
       "    </tr>\n",
       "    <tr>\n",
       "      <th>32749</th>\n",
       "      <td>5ba32706-26d8-e131-a6c3-947943ba895e</td>\n",
       "      <td>2024-01-15T00:29:08Z</td>\n",
       "      <td>2024-01-15T03:22:08Z</td>\n",
       "      <td>5c25efe7-fc0a-3afa-5577-72c3f5cfc7f0</td>\n",
       "      <td>c7542447-e06e-32cb-b6db-243c23a0dbc2</td>\n",
       "      <td>a8287324-f8d6-31e1-beae-004b795fa507</td>\n",
       "      <td>df166300-5a78-3502-a46a-832842197811</td>\n",
       "      <td>ambulatory</td>\n",
       "      <td>185349003</td>\n",
       "      <td>Encounter for check up (procedure)</td>\n",
       "      <td>85.55</td>\n",
       "      <td>2673.95</td>\n",
       "      <td>2623.95</td>\n",
       "      <td>103697008.0</td>\n",
       "      <td>Patient referral for dental care (procedure)</td>\n",
       "    </tr>\n",
       "  </tbody>\n",
       "</table>\n",
       "<p>32750 rows × 15 columns</p>\n",
       "</div>"
      ],
      "text/plain": [
       "                                         Id                 START  \\\n",
       "0      9c7664c0-33a3-6778-7845-7b08030a230c  2014-10-27T23:58:08Z   \n",
       "1      75f6d06e-01e4-999f-656e-a4def079a8f6  2015-11-02T23:58:08Z   \n",
       "2      3682fee4-9f43-f8ae-bc5c-8a0b8b42528f  2014-12-18T14:59:14Z   \n",
       "3      c77234be-e24b-5ebf-0e7a-0c835da53642  2015-05-01T04:59:14Z   \n",
       "4      b22ac215-c066-f45c-8201-673d1d33f67b  2016-11-07T23:58:08Z   \n",
       "...                                     ...                   ...   \n",
       "32745  4c2c13fc-389c-5305-dfe8-84cb7ff2f300  2022-12-26T00:29:08Z   \n",
       "32746  9827a5ac-0451-516d-031b-eab536d839d2  2023-09-25T05:29:08Z   \n",
       "32747  19ab31ad-8140-02fb-d3d9-04ef7225ef99  2023-10-28T05:29:08Z   \n",
       "32748  b8bdd2bf-b6e0-85d8-2f13-fac2c1bbcdcf  2024-01-01T00:29:08Z   \n",
       "32749  5ba32706-26d8-e131-a6c3-947943ba895e  2024-01-15T00:29:08Z   \n",
       "\n",
       "                       STOP                               PATIENT  \\\n",
       "0      2014-10-28T00:13:08Z  958cbaed-4a32-40ff-f2ee-d55edc4f7611   \n",
       "1      2015-11-03T00:17:06Z  958cbaed-4a32-40ff-f2ee-d55edc4f7611   \n",
       "2      2014-12-18T15:14:14Z  d778d02c-1b71-582e-0c64-e9ce715996fc   \n",
       "3      2015-05-01T05:14:14Z  d778d02c-1b71-582e-0c64-e9ce715996fc   \n",
       "4      2016-11-08T00:13:08Z  958cbaed-4a32-40ff-f2ee-d55edc4f7611   \n",
       "...                     ...                                   ...   \n",
       "32745  2022-12-26T01:02:33Z  5c25efe7-fc0a-3afa-5577-72c3f5cfc7f0   \n",
       "32746  2023-09-25T05:44:08Z  5c25efe7-fc0a-3afa-5577-72c3f5cfc7f0   \n",
       "32747  2023-10-28T05:44:08Z  5c25efe7-fc0a-3afa-5577-72c3f5cfc7f0   \n",
       "32748  2024-01-01T01:14:49Z  5c25efe7-fc0a-3afa-5577-72c3f5cfc7f0   \n",
       "32749  2024-01-15T03:22:08Z  5c25efe7-fc0a-3afa-5577-72c3f5cfc7f0   \n",
       "\n",
       "                               ORGANIZATION  \\\n",
       "0      d6c165ec-d9ca-35a5-9bc8-2061cbfb83a2   \n",
       "1      d6c165ec-d9ca-35a5-9bc8-2061cbfb83a2   \n",
       "2      5fa5e611-be3d-3ebb-8f71-124325f6005f   \n",
       "3      9d989fcf-4ad9-3972-ada3-f275d967781e   \n",
       "4      d6c165ec-d9ca-35a5-9bc8-2061cbfb83a2   \n",
       "...                                     ...   \n",
       "32745  e5b9db6a-8dd8-3622-b9ce-3dc593e111d1   \n",
       "32746  c7542447-e06e-32cb-b6db-243c23a0dbc2   \n",
       "32747  c7542447-e06e-32cb-b6db-243c23a0dbc2   \n",
       "32748  e5b9db6a-8dd8-3622-b9ce-3dc593e111d1   \n",
       "32749  c7542447-e06e-32cb-b6db-243c23a0dbc2   \n",
       "\n",
       "                                   PROVIDER  \\\n",
       "0      b9c0c3c3-14b8-3b3d-8934-5b89b2b6475b   \n",
       "1      b9c0c3c3-14b8-3b3d-8934-5b89b2b6475b   \n",
       "2      236e8b0e-dba1-31a5-a5ac-f8b4dff4ecc6   \n",
       "3      dc678fc2-279d-3be8-be3f-b28dc4e317fb   \n",
       "4      b9c0c3c3-14b8-3b3d-8934-5b89b2b6475b   \n",
       "...                                     ...   \n",
       "32745  bee22fdb-0ccc-32aa-80d3-f9e677dc8d4f   \n",
       "32746  a8287324-f8d6-31e1-beae-004b795fa507   \n",
       "32747  a8287324-f8d6-31e1-beae-004b795fa507   \n",
       "32748  bee22fdb-0ccc-32aa-80d3-f9e677dc8d4f   \n",
       "32749  a8287324-f8d6-31e1-beae-004b795fa507   \n",
       "\n",
       "                                      PAYER ENCOUNTERCLASS       CODE  \\\n",
       "0      26aab0cd-6aba-3e1b-ac5b-05c8867e762c       wellness  410620009   \n",
       "1      26aab0cd-6aba-3e1b-ac5b-05c8867e762c       wellness  410620009   \n",
       "2      0133f751-9229-3cfd-815f-b6d4979bdd6a       wellness  410620009   \n",
       "3      0133f751-9229-3cfd-815f-b6d4979bdd6a     ambulatory  185345009   \n",
       "4      26aab0cd-6aba-3e1b-ac5b-05c8867e762c       wellness  410620009   \n",
       "...                                     ...            ...        ...   \n",
       "32745  df166300-5a78-3502-a46a-832842197811       wellness  162673000   \n",
       "32746  df166300-5a78-3502-a46a-832842197811     ambulatory  185345009   \n",
       "32747  df166300-5a78-3502-a46a-832842197811     ambulatory  185345009   \n",
       "32748  df166300-5a78-3502-a46a-832842197811       wellness  162673000   \n",
       "32749  df166300-5a78-3502-a46a-832842197811     ambulatory  185349003   \n",
       "\n",
       "                                      DESCRIPTION  BASE_ENCOUNTER_COST  \\\n",
       "0                    Well child visit (procedure)               136.80   \n",
       "1                    Well child visit (procedure)               136.80   \n",
       "2                    Well child visit (procedure)               136.80   \n",
       "3               Encounter for symptom (procedure)                85.55   \n",
       "4                    Well child visit (procedure)               136.80   \n",
       "...                                           ...                  ...   \n",
       "32745  General examination of patient (procedure)               136.80   \n",
       "32746           Encounter for symptom (procedure)                85.55   \n",
       "32747           Encounter for symptom (procedure)                85.55   \n",
       "32748  General examination of patient (procedure)               136.80   \n",
       "32749          Encounter for check up (procedure)                85.55   \n",
       "\n",
       "       TOTAL_CLAIM_COST  PAYER_COVERAGE   REASONCODE  \\\n",
       "0               1186.78            0.00          NaN   \n",
       "1                840.20            0.00          NaN   \n",
       "2                272.80            0.00          NaN   \n",
       "3                 85.55            0.00  195662009.0   \n",
       "4               1305.43            0.00          NaN   \n",
       "...                 ...             ...          ...   \n",
       "32745            853.36          753.36          NaN   \n",
       "32746             85.55           35.55   75498004.0   \n",
       "32747             92.93           42.93   75498004.0   \n",
       "32748           1632.30         1532.30          NaN   \n",
       "32749           2673.95         2623.95  103697008.0   \n",
       "\n",
       "                                  REASONDESCRIPTION  \n",
       "0                                               NaN  \n",
       "1                                               NaN  \n",
       "2                                               NaN  \n",
       "3                Acute viral pharyngitis (disorder)  \n",
       "4                                               NaN  \n",
       "...                                             ...  \n",
       "32745                                           NaN  \n",
       "32746          Acute bacterial sinusitis (disorder)  \n",
       "32747          Acute bacterial sinusitis (disorder)  \n",
       "32748                                           NaN  \n",
       "32749  Patient referral for dental care (procedure)  \n",
       "\n",
       "[32750 rows x 15 columns]"
      ]
     },
     "execution_count": 64,
     "metadata": {},
     "output_type": "execute_result"
    }
   ],
   "source": [
    "encounters"
   ]
  },
  {
   "cell_type": "code",
   "execution_count": 68,
   "id": "02b8a669-8985-4e3a-919b-bb5a5c44b5d2",
   "metadata": {},
   "outputs": [
    {
     "data": {
      "text/html": [
       "<div>\n",
       "<style scoped>\n",
       "    .dataframe tbody tr th:only-of-type {\n",
       "        vertical-align: middle;\n",
       "    }\n",
       "\n",
       "    .dataframe tbody tr th {\n",
       "        vertical-align: top;\n",
       "    }\n",
       "\n",
       "    .dataframe thead th {\n",
       "        text-align: right;\n",
       "    }\n",
       "</style>\n",
       "<table border=\"1\" class=\"dataframe\">\n",
       "  <thead>\n",
       "    <tr style=\"text-align: right;\">\n",
       "      <th></th>\n",
       "      <th>Id</th>\n",
       "      <th>BIRTHDATE</th>\n",
       "      <th>DEATHDATE</th>\n",
       "      <th>SSN</th>\n",
       "      <th>DRIVERS</th>\n",
       "      <th>PASSPORT</th>\n",
       "      <th>PREFIX</th>\n",
       "      <th>FIRST</th>\n",
       "      <th>MIDDLE</th>\n",
       "      <th>LAST</th>\n",
       "      <th>...</th>\n",
       "      <th>CITY</th>\n",
       "      <th>STATE</th>\n",
       "      <th>COUNTY</th>\n",
       "      <th>FIPS</th>\n",
       "      <th>ZIP</th>\n",
       "      <th>LAT</th>\n",
       "      <th>LON</th>\n",
       "      <th>HEALTHCARE_EXPENSES</th>\n",
       "      <th>HEALTHCARE_COVERAGE</th>\n",
       "      <th>INCOME</th>\n",
       "    </tr>\n",
       "  </thead>\n",
       "  <tbody>\n",
       "    <tr>\n",
       "      <th>0</th>\n",
       "      <td>958cbaed-4a32-40ff-f2ee-d55edc4f7611</td>\n",
       "      <td>2003-10-13</td>\n",
       "      <td>NaN</td>\n",
       "      <td>999-46-5780</td>\n",
       "      <td>S99985773</td>\n",
       "      <td>X43751887X</td>\n",
       "      <td>Ms.</td>\n",
       "      <td>Sol312</td>\n",
       "      <td>Ciara810</td>\n",
       "      <td>Baumbach677</td>\n",
       "      <td>...</td>\n",
       "      <td>Tyngsborough</td>\n",
       "      <td>Massachusetts</td>\n",
       "      <td>Middlesex County</td>\n",
       "      <td>NaN</td>\n",
       "      <td>0</td>\n",
       "      <td>42.678887</td>\n",
       "      <td>-71.466652</td>\n",
       "      <td>83748.67</td>\n",
       "      <td>8386.12</td>\n",
       "      <td>847165</td>\n",
       "    </tr>\n",
       "    <tr>\n",
       "      <th>1</th>\n",
       "      <td>d778d02c-1b71-582e-0c64-e9ce715996fc</td>\n",
       "      <td>2004-12-09</td>\n",
       "      <td>NaN</td>\n",
       "      <td>999-44-8153</td>\n",
       "      <td>S99922963</td>\n",
       "      <td>X17785689X</td>\n",
       "      <td>Ms.</td>\n",
       "      <td>Irma773</td>\n",
       "      <td>Terresa418</td>\n",
       "      <td>Shields502</td>\n",
       "      <td>...</td>\n",
       "      <td>Barnstable</td>\n",
       "      <td>Massachusetts</td>\n",
       "      <td>Barnstable County</td>\n",
       "      <td>25001.0</td>\n",
       "      <td>2648</td>\n",
       "      <td>41.712246</td>\n",
       "      <td>-70.451110</td>\n",
       "      <td>80934.70</td>\n",
       "      <td>70863.00</td>\n",
       "      <td>62412</td>\n",
       "    </tr>\n",
       "    <tr>\n",
       "      <th>2</th>\n",
       "      <td>ff3708b4-748c-ae52-2430-bc60dd9fb5dd</td>\n",
       "      <td>1991-09-05</td>\n",
       "      <td>NaN</td>\n",
       "      <td>999-31-9506</td>\n",
       "      <td>S99963368</td>\n",
       "      <td>X48163920X</td>\n",
       "      <td>Mrs.</td>\n",
       "      <td>Rocio28</td>\n",
       "      <td>Ángela136</td>\n",
       "      <td>Bermúdez789</td>\n",
       "      <td>...</td>\n",
       "      <td>Chicopee</td>\n",
       "      <td>Massachusetts</td>\n",
       "      <td>Hampden County</td>\n",
       "      <td>25013.0</td>\n",
       "      <td>1020</td>\n",
       "      <td>42.175006</td>\n",
       "      <td>-72.570417</td>\n",
       "      <td>10853.87</td>\n",
       "      <td>707739.51</td>\n",
       "      <td>1348</td>\n",
       "    </tr>\n",
       "    <tr>\n",
       "      <th>3</th>\n",
       "      <td>8cc46582-8727-0024-6010-c5e7e2943578</td>\n",
       "      <td>2000-07-25</td>\n",
       "      <td>NaN</td>\n",
       "      <td>999-55-8680</td>\n",
       "      <td>S99950926</td>\n",
       "      <td>X19763814X</td>\n",
       "      <td>Ms.</td>\n",
       "      <td>Lelah386</td>\n",
       "      <td>Crystal2</td>\n",
       "      <td>Leannon79</td>\n",
       "      <td>...</td>\n",
       "      <td>Worcester</td>\n",
       "      <td>Massachusetts</td>\n",
       "      <td>Worcester County</td>\n",
       "      <td>25027.0</td>\n",
       "      <td>1605</td>\n",
       "      <td>42.192066</td>\n",
       "      <td>-71.751869</td>\n",
       "      <td>122151.80</td>\n",
       "      <td>144375.81</td>\n",
       "      <td>95771</td>\n",
       "    </tr>\n",
       "    <tr>\n",
       "      <th>4</th>\n",
       "      <td>6da671b7-6462-2ced-5b86-5b0fced4308b</td>\n",
       "      <td>1974-02-04</td>\n",
       "      <td>NaN</td>\n",
       "      <td>999-31-4155</td>\n",
       "      <td>S99970004</td>\n",
       "      <td>X2187110X</td>\n",
       "      <td>Mrs.</td>\n",
       "      <td>Olympia319</td>\n",
       "      <td>Pamula578</td>\n",
       "      <td>Huels583</td>\n",
       "      <td>...</td>\n",
       "      <td>Revere</td>\n",
       "      <td>Massachusetts</td>\n",
       "      <td>Suffolk County</td>\n",
       "      <td>25025.0</td>\n",
       "      <td>2151</td>\n",
       "      <td>42.461726</td>\n",
       "      <td>-71.000002</td>\n",
       "      <td>186763.75</td>\n",
       "      <td>853299.76</td>\n",
       "      <td>26068</td>\n",
       "    </tr>\n",
       "    <tr>\n",
       "      <th>...</th>\n",
       "      <td>...</td>\n",
       "      <td>...</td>\n",
       "      <td>...</td>\n",
       "      <td>...</td>\n",
       "      <td>...</td>\n",
       "      <td>...</td>\n",
       "      <td>...</td>\n",
       "      <td>...</td>\n",
       "      <td>...</td>\n",
       "      <td>...</td>\n",
       "      <td>...</td>\n",
       "      <td>...</td>\n",
       "      <td>...</td>\n",
       "      <td>...</td>\n",
       "      <td>...</td>\n",
       "      <td>...</td>\n",
       "      <td>...</td>\n",
       "      <td>...</td>\n",
       "      <td>...</td>\n",
       "      <td>...</td>\n",
       "      <td>...</td>\n",
       "    </tr>\n",
       "    <tr>\n",
       "      <th>359</th>\n",
       "      <td>3eae3f10-5a0a-06ed-0394-ce31eee9dcad</td>\n",
       "      <td>1968-11-22</td>\n",
       "      <td>1998-04-10</td>\n",
       "      <td>999-29-1885</td>\n",
       "      <td>S99917657</td>\n",
       "      <td>X24168209X</td>\n",
       "      <td>Ms.</td>\n",
       "      <td>Glenna97</td>\n",
       "      <td>Sherry479</td>\n",
       "      <td>Friesen796</td>\n",
       "      <td>...</td>\n",
       "      <td>Barnstable</td>\n",
       "      <td>Massachusetts</td>\n",
       "      <td>Barnstable County</td>\n",
       "      <td>25001.0</td>\n",
       "      <td>2630</td>\n",
       "      <td>41.724517</td>\n",
       "      <td>-70.300414</td>\n",
       "      <td>11151.16</td>\n",
       "      <td>1108113.17</td>\n",
       "      <td>22800</td>\n",
       "    </tr>\n",
       "    <tr>\n",
       "      <th>360</th>\n",
       "      <td>4c5b8cb6-f5e5-8610-5200-2d85076188b7</td>\n",
       "      <td>1971-05-27</td>\n",
       "      <td>2016-07-31</td>\n",
       "      <td>999-91-8201</td>\n",
       "      <td>S99932905</td>\n",
       "      <td>X74962575X</td>\n",
       "      <td>Mrs.</td>\n",
       "      <td>Freeda113</td>\n",
       "      <td>Charlyn749</td>\n",
       "      <td>Larson43</td>\n",
       "      <td>...</td>\n",
       "      <td>Barnstable</td>\n",
       "      <td>Massachusetts</td>\n",
       "      <td>Barnstable County</td>\n",
       "      <td>25001.0</td>\n",
       "      <td>2601</td>\n",
       "      <td>41.621519</td>\n",
       "      <td>-70.306881</td>\n",
       "      <td>579292.23</td>\n",
       "      <td>314816.37</td>\n",
       "      <td>52934</td>\n",
       "    </tr>\n",
       "    <tr>\n",
       "      <th>361</th>\n",
       "      <td>e00f0d3b-e390-b39c-d2e5-8c2db6b7feba</td>\n",
       "      <td>1967-12-26</td>\n",
       "      <td>1993-08-29</td>\n",
       "      <td>999-33-1496</td>\n",
       "      <td>S99997260</td>\n",
       "      <td>X87678265X</td>\n",
       "      <td>Ms.</td>\n",
       "      <td>Senaida415</td>\n",
       "      <td>Ying817</td>\n",
       "      <td>Kiehn525</td>\n",
       "      <td>...</td>\n",
       "      <td>Boston</td>\n",
       "      <td>Massachusetts</td>\n",
       "      <td>Suffolk County</td>\n",
       "      <td>25025.0</td>\n",
       "      <td>2129</td>\n",
       "      <td>42.384591</td>\n",
       "      <td>-71.117556</td>\n",
       "      <td>7950.16</td>\n",
       "      <td>519376.83</td>\n",
       "      <td>7445</td>\n",
       "    </tr>\n",
       "    <tr>\n",
       "      <th>362</th>\n",
       "      <td>c98c8053-9db4-940c-60f8-afc6f27d26a1</td>\n",
       "      <td>1966-10-20</td>\n",
       "      <td>1999-02-04</td>\n",
       "      <td>999-40-1502</td>\n",
       "      <td>S99988166</td>\n",
       "      <td>X44490311X</td>\n",
       "      <td>Ms.</td>\n",
       "      <td>Ivory697</td>\n",
       "      <td>Alise864</td>\n",
       "      <td>Stracke611</td>\n",
       "      <td>...</td>\n",
       "      <td>Longmeadow</td>\n",
       "      <td>Massachusetts</td>\n",
       "      <td>Hampden County</td>\n",
       "      <td>25013.0</td>\n",
       "      <td>1106</td>\n",
       "      <td>42.074314</td>\n",
       "      <td>-72.578348</td>\n",
       "      <td>156624.98</td>\n",
       "      <td>266749.55</td>\n",
       "      <td>336199</td>\n",
       "    </tr>\n",
       "    <tr>\n",
       "      <th>363</th>\n",
       "      <td>5c25efe7-fc0a-3afa-5577-72c3f5cfc7f0</td>\n",
       "      <td>1965-11-15</td>\n",
       "      <td>NaN</td>\n",
       "      <td>999-90-5411</td>\n",
       "      <td>S99962276</td>\n",
       "      <td>X16675215X</td>\n",
       "      <td>Ms.</td>\n",
       "      <td>Rachell479</td>\n",
       "      <td>Lashawna733</td>\n",
       "      <td>Halvorson124</td>\n",
       "      <td>...</td>\n",
       "      <td>Somerville</td>\n",
       "      <td>Massachusetts</td>\n",
       "      <td>Middlesex County</td>\n",
       "      <td>25017.0</td>\n",
       "      <td>2143</td>\n",
       "      <td>42.348699</td>\n",
       "      <td>-71.120723</td>\n",
       "      <td>16739.41</td>\n",
       "      <td>1185964.65</td>\n",
       "      <td>17839</td>\n",
       "    </tr>\n",
       "  </tbody>\n",
       "</table>\n",
       "<p>364 rows × 28 columns</p>\n",
       "</div>"
      ],
      "text/plain": [
       "                                       Id   BIRTHDATE   DEATHDATE  \\\n",
       "0    958cbaed-4a32-40ff-f2ee-d55edc4f7611  2003-10-13         NaN   \n",
       "1    d778d02c-1b71-582e-0c64-e9ce715996fc  2004-12-09         NaN   \n",
       "2    ff3708b4-748c-ae52-2430-bc60dd9fb5dd  1991-09-05         NaN   \n",
       "3    8cc46582-8727-0024-6010-c5e7e2943578  2000-07-25         NaN   \n",
       "4    6da671b7-6462-2ced-5b86-5b0fced4308b  1974-02-04         NaN   \n",
       "..                                    ...         ...         ...   \n",
       "359  3eae3f10-5a0a-06ed-0394-ce31eee9dcad  1968-11-22  1998-04-10   \n",
       "360  4c5b8cb6-f5e5-8610-5200-2d85076188b7  1971-05-27  2016-07-31   \n",
       "361  e00f0d3b-e390-b39c-d2e5-8c2db6b7feba  1967-12-26  1993-08-29   \n",
       "362  c98c8053-9db4-940c-60f8-afc6f27d26a1  1966-10-20  1999-02-04   \n",
       "363  5c25efe7-fc0a-3afa-5577-72c3f5cfc7f0  1965-11-15         NaN   \n",
       "\n",
       "             SSN    DRIVERS    PASSPORT PREFIX       FIRST       MIDDLE  \\\n",
       "0    999-46-5780  S99985773  X43751887X    Ms.      Sol312     Ciara810   \n",
       "1    999-44-8153  S99922963  X17785689X    Ms.     Irma773   Terresa418   \n",
       "2    999-31-9506  S99963368  X48163920X   Mrs.     Rocio28    Ángela136   \n",
       "3    999-55-8680  S99950926  X19763814X    Ms.    Lelah386     Crystal2   \n",
       "4    999-31-4155  S99970004   X2187110X   Mrs.  Olympia319    Pamula578   \n",
       "..           ...        ...         ...    ...         ...          ...   \n",
       "359  999-29-1885  S99917657  X24168209X    Ms.    Glenna97    Sherry479   \n",
       "360  999-91-8201  S99932905  X74962575X   Mrs.   Freeda113   Charlyn749   \n",
       "361  999-33-1496  S99997260  X87678265X    Ms.  Senaida415      Ying817   \n",
       "362  999-40-1502  S99988166  X44490311X    Ms.    Ivory697     Alise864   \n",
       "363  999-90-5411  S99962276  X16675215X    Ms.  Rachell479  Lashawna733   \n",
       "\n",
       "             LAST  ...          CITY          STATE             COUNTY  \\\n",
       "0     Baumbach677  ...  Tyngsborough  Massachusetts   Middlesex County   \n",
       "1      Shields502  ...    Barnstable  Massachusetts  Barnstable County   \n",
       "2     Bermúdez789  ...      Chicopee  Massachusetts     Hampden County   \n",
       "3       Leannon79  ...     Worcester  Massachusetts   Worcester County   \n",
       "4        Huels583  ...        Revere  Massachusetts     Suffolk County   \n",
       "..            ...  ...           ...            ...                ...   \n",
       "359    Friesen796  ...    Barnstable  Massachusetts  Barnstable County   \n",
       "360      Larson43  ...    Barnstable  Massachusetts  Barnstable County   \n",
       "361      Kiehn525  ...        Boston  Massachusetts     Suffolk County   \n",
       "362    Stracke611  ...    Longmeadow  Massachusetts     Hampden County   \n",
       "363  Halvorson124  ...    Somerville  Massachusetts   Middlesex County   \n",
       "\n",
       "        FIPS   ZIP        LAT        LON HEALTHCARE_EXPENSES  \\\n",
       "0        NaN     0  42.678887 -71.466652            83748.67   \n",
       "1    25001.0  2648  41.712246 -70.451110            80934.70   \n",
       "2    25013.0  1020  42.175006 -72.570417            10853.87   \n",
       "3    25027.0  1605  42.192066 -71.751869           122151.80   \n",
       "4    25025.0  2151  42.461726 -71.000002           186763.75   \n",
       "..       ...   ...        ...        ...                 ...   \n",
       "359  25001.0  2630  41.724517 -70.300414            11151.16   \n",
       "360  25001.0  2601  41.621519 -70.306881           579292.23   \n",
       "361  25025.0  2129  42.384591 -71.117556             7950.16   \n",
       "362  25013.0  1106  42.074314 -72.578348           156624.98   \n",
       "363  25017.0  2143  42.348699 -71.120723            16739.41   \n",
       "\n",
       "    HEALTHCARE_COVERAGE  INCOME  \n",
       "0               8386.12  847165  \n",
       "1              70863.00   62412  \n",
       "2             707739.51    1348  \n",
       "3             144375.81   95771  \n",
       "4             853299.76   26068  \n",
       "..                  ...     ...  \n",
       "359          1108113.17   22800  \n",
       "360           314816.37   52934  \n",
       "361           519376.83    7445  \n",
       "362           266749.55  336199  \n",
       "363          1185964.65   17839  \n",
       "\n",
       "[364 rows x 28 columns]"
      ]
     },
     "execution_count": 68,
     "metadata": {},
     "output_type": "execute_result"
    }
   ],
   "source": [
    "patients"
   ]
  },
  {
   "cell_type": "markdown",
   "id": "e1a78a64-fb17-4264-91a1-182a2ea95d04",
   "metadata": {},
   "source": [
    "# OBJETIVOS DEL CUADERNO"
   ]
  },
  {
   "cell_type": "markdown",
   "id": "cdecb734-9be3-4ef1-9ac3-5dc4295151bb",
   "metadata": {},
   "source": [
    "De los datos sintéticos obtenidos con el software opensource de <a href=\"https://mitre.github.io/fhir-for-research/modules/synthea-overview#generic-modules\">synthea</a>, vamos a obtener tres datasets, uno dedicado para cada algoritmo y que sirvan de modelo para replicar y extender oomo datos del wearable. \n",
    "<p>Los datasets a crear son:</p>\n",
    "<ul>\n",
    "    <li><code>vitalSignsEncounter</code>: con datos sobre IMC, Presión arterial sistólica y diastólica, temperatura corporal, ritmo cardíaco y glucosa en sangre. A ello se suma un ID para identificar al usuario, la fecha de la medición y la edad del paciente.</li>\n",
    "    <li><code>glucoseAssessment</code>: con datos sobre la glucosa en sangre, niveles de hemoglobina en sangre, HDL y BMI. Además tendrán el userID, la fecha de la medida y la edad de la paciente.</li>\n",
    "    <li><code>hypertensionAssessment</code>: con datos de niveles de proteínas en la orina, BMI, presión arteriañ sistólica y diastólica, niveles de hemglobina, edad de la paciente y semana de embarazo. </li>\n",
    "</ul>\n",
    "\n",
    "Para esta tarea, primero en el dataset <code>careplan</code>, filtramos a las pacientes para quedarnos sólo con aquellas que estén siendo tratadas como un embarazo normal, ya que las ya diagnosticadas servirán para validar la precisión del sistema. Tras esto, queremos quedarnos con las que más información tengan registradas, es decir, las que hayan ido al menos una vez al trimestre a la consultaa mediante el dataset <code>encounters</code>, y finalmente filtramos el dataset <code>observations</code> para quedarnos con estas pacientes. \n",
    "\n",
    "La fecha de observación se fija desde 01/01/2024 hasta 01/10/2024. "
   ]
  },
  {
   "cell_type": "markdown",
   "id": "6620150f-b0e5-49cc-97a5-722cb6ba12ea",
   "metadata": {},
   "source": [
    "## 1. FILTRO DE PACIENTES SEGÚN TRATAMIENTO Y FECHA DE OBSERVACIÓN"
   ]
  },
  {
   "cell_type": "markdown",
   "id": "fad7c2ab-7fd0-4e12-85cb-7b5be06ed307",
   "metadata": {},
   "source": [
    "El código de tratamiento que estamos buscando es: 134435003 - Routine Antenatal Care"
   ]
  },
  {
   "cell_type": "code",
   "execution_count": 264,
   "id": "24be3956-44cf-4a4c-aaee-3899210eaef4",
   "metadata": {},
   "outputs": [],
   "source": [
    "careplans['START'] = pd.to_datetime(careplans['START'])\n",
    "careplans['STOP'] = pd.to_datetime(careplans['STOP'])"
   ]
  },
  {
   "cell_type": "code",
   "execution_count": 266,
   "id": "a6c7a043-4a39-4d11-8043-261d6c214487",
   "metadata": {},
   "outputs": [
    {
     "name": "stdout",
     "output_type": "stream",
     "text": [
      "null values en la columna start 0\n"
     ]
    }
   ],
   "source": [
    "nullDates = careplans['START'].isnull().sum()\n",
    "print(f\"null values en la columna start {nullDates}\")"
   ]
  },
  {
   "cell_type": "code",
   "execution_count": 268,
   "id": "88569a0e-01c9-4057-9d80-5e2f807efcc4",
   "metadata": {},
   "outputs": [],
   "source": [
    "antenatalCarePlan = careplans.query(\"CODE == 134435003\")"
   ]
  },
  {
   "cell_type": "code",
   "execution_count": 270,
   "id": "810fe139-5491-4c71-88f8-dc5ced33ba31",
   "metadata": {},
   "outputs": [
    {
     "name": "stdout",
     "output_type": "stream",
     "text": [
      "<class 'pandas.core.frame.DataFrame'>\n",
      "Index: 755 entries, 3 to 1816\n",
      "Data columns (total 9 columns):\n",
      " #   Column             Non-Null Count  Dtype         \n",
      "---  ------             --------------  -----         \n",
      " 0   Id                 755 non-null    object        \n",
      " 1   START              755 non-null    datetime64[ns]\n",
      " 2   STOP               425 non-null    datetime64[ns]\n",
      " 3   PATIENT            755 non-null    object        \n",
      " 4   ENCOUNTER          755 non-null    object        \n",
      " 5   CODE               755 non-null    int64         \n",
      " 6   DESCRIPTION        755 non-null    object        \n",
      " 7   REASONCODE         0 non-null      float64       \n",
      " 8   REASONDESCRIPTION  0 non-null      object        \n",
      "dtypes: datetime64[ns](2), float64(1), int64(1), object(5)\n",
      "memory usage: 59.0+ KB\n"
     ]
    }
   ],
   "source": [
    "antenatalCarePlan.info()"
   ]
  },
  {
   "cell_type": "code",
   "execution_count": 272,
   "id": "74859954-428d-479e-9699-5163b272c3f9",
   "metadata": {},
   "outputs": [
    {
     "name": "stderr",
     "output_type": "stream",
     "text": [
      "C:\\Users\\virginia.anton\\AppData\\Local\\Temp\\ipykernel_31524\\2338180506.py:1: SettingWithCopyWarning:\n",
      "\n",
      "\n",
      "A value is trying to be set on a copy of a slice from a DataFrame.\n",
      "Try using .loc[row_indexer,col_indexer] = value instead\n",
      "\n",
      "See the caveats in the documentation: https://pandas.pydata.org/pandas-docs/stable/user_guide/indexing.html#returning-a-view-versus-a-copy\n",
      "\n"
     ]
    },
    {
     "data": {
      "text/html": [
       "<div>\n",
       "<style scoped>\n",
       "    .dataframe tbody tr th:only-of-type {\n",
       "        vertical-align: middle;\n",
       "    }\n",
       "\n",
       "    .dataframe tbody tr th {\n",
       "        vertical-align: top;\n",
       "    }\n",
       "\n",
       "    .dataframe thead th {\n",
       "        text-align: right;\n",
       "    }\n",
       "</style>\n",
       "<table border=\"1\" class=\"dataframe\">\n",
       "  <thead>\n",
       "    <tr style=\"text-align: right;\">\n",
       "      <th></th>\n",
       "      <th>Id</th>\n",
       "      <th>START</th>\n",
       "      <th>STOP</th>\n",
       "      <th>PATIENT</th>\n",
       "      <th>ENCOUNTER</th>\n",
       "      <th>CODE</th>\n",
       "      <th>DESCRIPTION</th>\n",
       "      <th>REASONCODE</th>\n",
       "      <th>REASONDESCRIPTION</th>\n",
       "    </tr>\n",
       "  </thead>\n",
       "  <tbody>\n",
       "    <tr>\n",
       "      <th>3</th>\n",
       "      <td>ae9b05d7-b88b-0a25-5f98-bcb2101baea9</td>\n",
       "      <td>2024-08-19</td>\n",
       "      <td>NaT</td>\n",
       "      <td>d778d02c-1b71-582e-0c64-e9ce715996fc</td>\n",
       "      <td>0a723901-5534-ddd3-dfd3-4bee300feb41</td>\n",
       "      <td>134435003</td>\n",
       "      <td>Routine antenatal care (regime/therapy)</td>\n",
       "      <td>NaN</td>\n",
       "      <td>NaN</td>\n",
       "    </tr>\n",
       "    <tr>\n",
       "      <th>6</th>\n",
       "      <td>5c0e3fbd-f4cc-6707-c453-399f4ac4c9f8</td>\n",
       "      <td>2024-12-12</td>\n",
       "      <td>2017-06-08</td>\n",
       "      <td>ff3708b4-748c-ae52-2430-bc60dd9fb5dd</td>\n",
       "      <td>4a5e541d-40b7-aa51-c17d-7f87ddc388a7</td>\n",
       "      <td>134435003</td>\n",
       "      <td>Routine antenatal care (regime/therapy)</td>\n",
       "      <td>NaN</td>\n",
       "      <td>NaN</td>\n",
       "    </tr>\n",
       "    <tr>\n",
       "      <th>9</th>\n",
       "      <td>1f0b56c3-6587-b490-e0f5-1b0faabc9ed1</td>\n",
       "      <td>2024-12-08</td>\n",
       "      <td>NaT</td>\n",
       "      <td>ff3708b4-748c-ae52-2430-bc60dd9fb5dd</td>\n",
       "      <td>66fb3887-fe6d-98fd-c2c4-4c4b0e882928</td>\n",
       "      <td>134435003</td>\n",
       "      <td>Routine antenatal care (regime/therapy)</td>\n",
       "      <td>NaN</td>\n",
       "      <td>NaN</td>\n",
       "    </tr>\n",
       "    <tr>\n",
       "      <th>11</th>\n",
       "      <td>244d72d3-69a0-85b5-ffce-bc2ed42d0a65</td>\n",
       "      <td>2024-10-14</td>\n",
       "      <td>2021-04-20</td>\n",
       "      <td>8cc46582-8727-0024-6010-c5e7e2943578</td>\n",
       "      <td>2a07b3a5-0e66-01bb-058d-f8502e8eaada</td>\n",
       "      <td>134435003</td>\n",
       "      <td>Routine antenatal care (regime/therapy)</td>\n",
       "      <td>NaN</td>\n",
       "      <td>NaN</td>\n",
       "    </tr>\n",
       "    <tr>\n",
       "      <th>13</th>\n",
       "      <td>591916e7-0d89-6850-2e85-6912804158d1</td>\n",
       "      <td>2024-09-21</td>\n",
       "      <td>NaT</td>\n",
       "      <td>8cc46582-8727-0024-6010-c5e7e2943578</td>\n",
       "      <td>20d0a9bd-0efd-263a-dbdb-d8f6a13dabd3</td>\n",
       "      <td>134435003</td>\n",
       "      <td>Routine antenatal care (regime/therapy)</td>\n",
       "      <td>NaN</td>\n",
       "      <td>NaN</td>\n",
       "    </tr>\n",
       "    <tr>\n",
       "      <th>17</th>\n",
       "      <td>f0ec5d0f-1205-b273-20c4-daeb7bf3a45e</td>\n",
       "      <td>2024-06-17</td>\n",
       "      <td>NaT</td>\n",
       "      <td>6da671b7-6462-2ced-5b86-5b0fced4308b</td>\n",
       "      <td>d256a96a-1312-c908-e11b-7f412ddc2efa</td>\n",
       "      <td>134435003</td>\n",
       "      <td>Routine antenatal care (regime/therapy)</td>\n",
       "      <td>NaN</td>\n",
       "      <td>NaN</td>\n",
       "    </tr>\n",
       "    <tr>\n",
       "      <th>18</th>\n",
       "      <td>7309b141-7ec2-42b4-a310-2fdca6d7fa06</td>\n",
       "      <td>2024-10-26</td>\n",
       "      <td>2016-08-21</td>\n",
       "      <td>1921a3af-f53d-0a0a-9dfe-3be55779424c</td>\n",
       "      <td>4ea265ea-e1e5-c8a4-4193-4d65f5084ca0</td>\n",
       "      <td>134435003</td>\n",
       "      <td>Routine antenatal care (regime/therapy)</td>\n",
       "      <td>NaN</td>\n",
       "      <td>NaN</td>\n",
       "    </tr>\n",
       "    <tr>\n",
       "      <th>19</th>\n",
       "      <td>5ccec3de-f099-c233-b6c8-4dab69fd5e8b</td>\n",
       "      <td>2024-07-26</td>\n",
       "      <td>2017-08-13</td>\n",
       "      <td>1921a3af-f53d-0a0a-9dfe-3be55779424c</td>\n",
       "      <td>bae493c3-4513-6cc9-c21c-d5d9c49ac13a</td>\n",
       "      <td>134435003</td>\n",
       "      <td>Routine antenatal care (regime/therapy)</td>\n",
       "      <td>NaN</td>\n",
       "      <td>NaN</td>\n",
       "    </tr>\n",
       "    <tr>\n",
       "      <th>22</th>\n",
       "      <td>0311c7a2-0e6b-8f92-936e-e70b0d5d8097</td>\n",
       "      <td>2024-10-02</td>\n",
       "      <td>2015-01-17</td>\n",
       "      <td>4f004e54-d70e-8897-2727-5a57e1a7b9b6</td>\n",
       "      <td>50f28eda-d24f-1000-7623-b20e4c45de0a</td>\n",
       "      <td>134435003</td>\n",
       "      <td>Routine antenatal care (regime/therapy)</td>\n",
       "      <td>NaN</td>\n",
       "      <td>NaN</td>\n",
       "    </tr>\n",
       "    <tr>\n",
       "      <th>24</th>\n",
       "      <td>4ea93d27-6e8a-a264-0463-e7fef6ec04dd</td>\n",
       "      <td>2024-09-15</td>\n",
       "      <td>2018-08-18</td>\n",
       "      <td>4f004e54-d70e-8897-2727-5a57e1a7b9b6</td>\n",
       "      <td>db0b7618-d8d8-ea04-2987-9ead5149a42a</td>\n",
       "      <td>134435003</td>\n",
       "      <td>Routine antenatal care (regime/therapy)</td>\n",
       "      <td>NaN</td>\n",
       "      <td>NaN</td>\n",
       "    </tr>\n",
       "    <tr>\n",
       "      <th>26</th>\n",
       "      <td>06a19730-4392-16e4-833c-7184e23e2d3f</td>\n",
       "      <td>2024-12-05</td>\n",
       "      <td>2019-06-13</td>\n",
       "      <td>4551d27f-d5fc-2b84-1f53-74645d8ba7db</td>\n",
       "      <td>47d18dab-8285-4fa0-ff1e-2d9866d1172d</td>\n",
       "      <td>134435003</td>\n",
       "      <td>Routine antenatal care (regime/therapy)</td>\n",
       "      <td>NaN</td>\n",
       "      <td>NaN</td>\n",
       "    </tr>\n",
       "    <tr>\n",
       "      <th>28</th>\n",
       "      <td>2e57bc55-f638-aaa1-70ed-8001b7a6bedd</td>\n",
       "      <td>2024-09-29</td>\n",
       "      <td>2020-10-22</td>\n",
       "      <td>4551d27f-d5fc-2b84-1f53-74645d8ba7db</td>\n",
       "      <td>47c05db4-25e0-faad-b2b1-331db6c7c01c</td>\n",
       "      <td>134435003</td>\n",
       "      <td>Routine antenatal care (regime/therapy)</td>\n",
       "      <td>NaN</td>\n",
       "      <td>NaN</td>\n",
       "    </tr>\n",
       "    <tr>\n",
       "      <th>30</th>\n",
       "      <td>94c89593-7073-f075-e380-98990ed0df0b</td>\n",
       "      <td>2024-08-14</td>\n",
       "      <td>NaT</td>\n",
       "      <td>4f004e54-d70e-8897-2727-5a57e1a7b9b6</td>\n",
       "      <td>e6771c2c-ce15-84c7-7fb3-02a8efe5553c</td>\n",
       "      <td>134435003</td>\n",
       "      <td>Routine antenatal care (regime/therapy)</td>\n",
       "      <td>NaN</td>\n",
       "      <td>NaN</td>\n",
       "    </tr>\n",
       "    <tr>\n",
       "      <th>31</th>\n",
       "      <td>db422a0b-ae17-eb46-c748-1d738b4d9305</td>\n",
       "      <td>2024-05-20</td>\n",
       "      <td>2021-12-23</td>\n",
       "      <td>4551d27f-d5fc-2b84-1f53-74645d8ba7db</td>\n",
       "      <td>1ec99728-2ab4-b3e5-f287-cddcb3de1f9b</td>\n",
       "      <td>134435003</td>\n",
       "      <td>Routine antenatal care (regime/therapy)</td>\n",
       "      <td>NaN</td>\n",
       "      <td>NaN</td>\n",
       "    </tr>\n",
       "    <tr>\n",
       "      <th>32</th>\n",
       "      <td>ba3e4296-e8cb-b7d3-ad68-c9497b729bcd</td>\n",
       "      <td>2024-05-22</td>\n",
       "      <td>NaT</td>\n",
       "      <td>4551d27f-d5fc-2b84-1f53-74645d8ba7db</td>\n",
       "      <td>b10d7161-3b77-74b9-ef28-8e1df1b5af61</td>\n",
       "      <td>134435003</td>\n",
       "      <td>Routine antenatal care (regime/therapy)</td>\n",
       "      <td>NaN</td>\n",
       "      <td>NaN</td>\n",
       "    </tr>\n",
       "  </tbody>\n",
       "</table>\n",
       "</div>"
      ],
      "text/plain": [
       "                                      Id      START       STOP  \\\n",
       "3   ae9b05d7-b88b-0a25-5f98-bcb2101baea9 2024-08-19        NaT   \n",
       "6   5c0e3fbd-f4cc-6707-c453-399f4ac4c9f8 2024-12-12 2017-06-08   \n",
       "9   1f0b56c3-6587-b490-e0f5-1b0faabc9ed1 2024-12-08        NaT   \n",
       "11  244d72d3-69a0-85b5-ffce-bc2ed42d0a65 2024-10-14 2021-04-20   \n",
       "13  591916e7-0d89-6850-2e85-6912804158d1 2024-09-21        NaT   \n",
       "17  f0ec5d0f-1205-b273-20c4-daeb7bf3a45e 2024-06-17        NaT   \n",
       "18  7309b141-7ec2-42b4-a310-2fdca6d7fa06 2024-10-26 2016-08-21   \n",
       "19  5ccec3de-f099-c233-b6c8-4dab69fd5e8b 2024-07-26 2017-08-13   \n",
       "22  0311c7a2-0e6b-8f92-936e-e70b0d5d8097 2024-10-02 2015-01-17   \n",
       "24  4ea93d27-6e8a-a264-0463-e7fef6ec04dd 2024-09-15 2018-08-18   \n",
       "26  06a19730-4392-16e4-833c-7184e23e2d3f 2024-12-05 2019-06-13   \n",
       "28  2e57bc55-f638-aaa1-70ed-8001b7a6bedd 2024-09-29 2020-10-22   \n",
       "30  94c89593-7073-f075-e380-98990ed0df0b 2024-08-14        NaT   \n",
       "31  db422a0b-ae17-eb46-c748-1d738b4d9305 2024-05-20 2021-12-23   \n",
       "32  ba3e4296-e8cb-b7d3-ad68-c9497b729bcd 2024-05-22        NaT   \n",
       "\n",
       "                                 PATIENT  \\\n",
       "3   d778d02c-1b71-582e-0c64-e9ce715996fc   \n",
       "6   ff3708b4-748c-ae52-2430-bc60dd9fb5dd   \n",
       "9   ff3708b4-748c-ae52-2430-bc60dd9fb5dd   \n",
       "11  8cc46582-8727-0024-6010-c5e7e2943578   \n",
       "13  8cc46582-8727-0024-6010-c5e7e2943578   \n",
       "17  6da671b7-6462-2ced-5b86-5b0fced4308b   \n",
       "18  1921a3af-f53d-0a0a-9dfe-3be55779424c   \n",
       "19  1921a3af-f53d-0a0a-9dfe-3be55779424c   \n",
       "22  4f004e54-d70e-8897-2727-5a57e1a7b9b6   \n",
       "24  4f004e54-d70e-8897-2727-5a57e1a7b9b6   \n",
       "26  4551d27f-d5fc-2b84-1f53-74645d8ba7db   \n",
       "28  4551d27f-d5fc-2b84-1f53-74645d8ba7db   \n",
       "30  4f004e54-d70e-8897-2727-5a57e1a7b9b6   \n",
       "31  4551d27f-d5fc-2b84-1f53-74645d8ba7db   \n",
       "32  4551d27f-d5fc-2b84-1f53-74645d8ba7db   \n",
       "\n",
       "                               ENCOUNTER       CODE  \\\n",
       "3   0a723901-5534-ddd3-dfd3-4bee300feb41  134435003   \n",
       "6   4a5e541d-40b7-aa51-c17d-7f87ddc388a7  134435003   \n",
       "9   66fb3887-fe6d-98fd-c2c4-4c4b0e882928  134435003   \n",
       "11  2a07b3a5-0e66-01bb-058d-f8502e8eaada  134435003   \n",
       "13  20d0a9bd-0efd-263a-dbdb-d8f6a13dabd3  134435003   \n",
       "17  d256a96a-1312-c908-e11b-7f412ddc2efa  134435003   \n",
       "18  4ea265ea-e1e5-c8a4-4193-4d65f5084ca0  134435003   \n",
       "19  bae493c3-4513-6cc9-c21c-d5d9c49ac13a  134435003   \n",
       "22  50f28eda-d24f-1000-7623-b20e4c45de0a  134435003   \n",
       "24  db0b7618-d8d8-ea04-2987-9ead5149a42a  134435003   \n",
       "26  47d18dab-8285-4fa0-ff1e-2d9866d1172d  134435003   \n",
       "28  47c05db4-25e0-faad-b2b1-331db6c7c01c  134435003   \n",
       "30  e6771c2c-ce15-84c7-7fb3-02a8efe5553c  134435003   \n",
       "31  1ec99728-2ab4-b3e5-f287-cddcb3de1f9b  134435003   \n",
       "32  b10d7161-3b77-74b9-ef28-8e1df1b5af61  134435003   \n",
       "\n",
       "                                DESCRIPTION  REASONCODE REASONDESCRIPTION  \n",
       "3   Routine antenatal care (regime/therapy)         NaN               NaN  \n",
       "6   Routine antenatal care (regime/therapy)         NaN               NaN  \n",
       "9   Routine antenatal care (regime/therapy)         NaN               NaN  \n",
       "11  Routine antenatal care (regime/therapy)         NaN               NaN  \n",
       "13  Routine antenatal care (regime/therapy)         NaN               NaN  \n",
       "17  Routine antenatal care (regime/therapy)         NaN               NaN  \n",
       "18  Routine antenatal care (regime/therapy)         NaN               NaN  \n",
       "19  Routine antenatal care (regime/therapy)         NaN               NaN  \n",
       "22  Routine antenatal care (regime/therapy)         NaN               NaN  \n",
       "24  Routine antenatal care (regime/therapy)         NaN               NaN  \n",
       "26  Routine antenatal care (regime/therapy)         NaN               NaN  \n",
       "28  Routine antenatal care (regime/therapy)         NaN               NaN  \n",
       "30  Routine antenatal care (regime/therapy)         NaN               NaN  \n",
       "31  Routine antenatal care (regime/therapy)         NaN               NaN  \n",
       "32  Routine antenatal care (regime/therapy)         NaN               NaN  "
      ]
     },
     "execution_count": 272,
     "metadata": {},
     "output_type": "execute_result"
    }
   ],
   "source": [
    "antenatalCarePlan['START'] = antenatalCarePlan[antenatalCarePlan['START'] >= '2024-01-01']['START'].reset_index(drop=True)\n",
    "antenatalCarePlan.head(15)"
   ]
  },
  {
   "cell_type": "markdown",
   "id": "fb9ec109-8a1d-4c5a-a968-d938cf7714c8",
   "metadata": {},
   "source": [
    "Vamos a comprobar cuantos valores nulos hay en la columna START del df:"
   ]
  },
  {
   "cell_type": "code",
   "execution_count": 275,
   "id": "149bbaee-2484-4dba-8619-a692c84c7890",
   "metadata": {},
   "outputs": [
    {
     "name": "stdout",
     "output_type": "stream",
     "text": [
      "Valores nulos en la columna START: 673 de 755\n"
     ]
    }
   ],
   "source": [
    "startNullCount = antenatalCarePlan['START'].isnull().sum()\n",
    "print(f\"Valores nulos en la columna START: {startNullCount} de {antenatalCarePlan['START'].shape[0]}\")"
   ]
  },
  {
   "cell_type": "code",
   "execution_count": 277,
   "id": "ad07952c-c08c-4bb3-8d41-f31975dbf616",
   "metadata": {},
   "outputs": [],
   "source": [
    "antenatalCarePlanFiltered = antenatalCarePlan[antenatalCarePlan['START'].notnull()]"
   ]
  },
  {
   "cell_type": "code",
   "execution_count": 279,
   "id": "d3e350e8-1be4-4dcc-ba62-e7eedf0302a4",
   "metadata": {},
   "outputs": [
    {
     "name": "stdout",
     "output_type": "stream",
     "text": [
      "<class 'pandas.core.frame.DataFrame'>\n",
      "Index: 82 entries, 3 to 183\n",
      "Data columns (total 9 columns):\n",
      " #   Column             Non-Null Count  Dtype         \n",
      "---  ------             --------------  -----         \n",
      " 0   Id                 82 non-null     object        \n",
      " 1   START              82 non-null     datetime64[ns]\n",
      " 2   STOP               42 non-null     datetime64[ns]\n",
      " 3   PATIENT            82 non-null     object        \n",
      " 4   ENCOUNTER          82 non-null     object        \n",
      " 5   CODE               82 non-null     int64         \n",
      " 6   DESCRIPTION        82 non-null     object        \n",
      " 7   REASONCODE         0 non-null      float64       \n",
      " 8   REASONDESCRIPTION  0 non-null      object        \n",
      "dtypes: datetime64[ns](2), float64(1), int64(1), object(5)\n",
      "memory usage: 6.4+ KB\n"
     ]
    }
   ],
   "source": [
    "antenatalCarePlanFiltered.info()"
   ]
  },
  {
   "cell_type": "code",
   "execution_count": 281,
   "id": "586ebfaf-cddf-4237-a92c-e19eb75b7846",
   "metadata": {},
   "outputs": [
    {
     "data": {
      "text/html": [
       "<div>\n",
       "<style scoped>\n",
       "    .dataframe tbody tr th:only-of-type {\n",
       "        vertical-align: middle;\n",
       "    }\n",
       "\n",
       "    .dataframe tbody tr th {\n",
       "        vertical-align: top;\n",
       "    }\n",
       "\n",
       "    .dataframe thead th {\n",
       "        text-align: right;\n",
       "    }\n",
       "</style>\n",
       "<table border=\"1\" class=\"dataframe\">\n",
       "  <thead>\n",
       "    <tr style=\"text-align: right;\">\n",
       "      <th></th>\n",
       "      <th>Id</th>\n",
       "      <th>START</th>\n",
       "      <th>STOP</th>\n",
       "      <th>PATIENT</th>\n",
       "      <th>ENCOUNTER</th>\n",
       "      <th>CODE</th>\n",
       "      <th>DESCRIPTION</th>\n",
       "      <th>REASONCODE</th>\n",
       "      <th>REASONDESCRIPTION</th>\n",
       "    </tr>\n",
       "  </thead>\n",
       "  <tbody>\n",
       "    <tr>\n",
       "      <th>3</th>\n",
       "      <td>ae9b05d7-b88b-0a25-5f98-bcb2101baea9</td>\n",
       "      <td>2024-08-19</td>\n",
       "      <td>NaT</td>\n",
       "      <td>d778d02c-1b71-582e-0c64-e9ce715996fc</td>\n",
       "      <td>0a723901-5534-ddd3-dfd3-4bee300feb41</td>\n",
       "      <td>134435003</td>\n",
       "      <td>Routine antenatal care (regime/therapy)</td>\n",
       "      <td>NaN</td>\n",
       "      <td>NaN</td>\n",
       "    </tr>\n",
       "    <tr>\n",
       "      <th>6</th>\n",
       "      <td>5c0e3fbd-f4cc-6707-c453-399f4ac4c9f8</td>\n",
       "      <td>2024-12-12</td>\n",
       "      <td>2017-06-08</td>\n",
       "      <td>ff3708b4-748c-ae52-2430-bc60dd9fb5dd</td>\n",
       "      <td>4a5e541d-40b7-aa51-c17d-7f87ddc388a7</td>\n",
       "      <td>134435003</td>\n",
       "      <td>Routine antenatal care (regime/therapy)</td>\n",
       "      <td>NaN</td>\n",
       "      <td>NaN</td>\n",
       "    </tr>\n",
       "    <tr>\n",
       "      <th>9</th>\n",
       "      <td>1f0b56c3-6587-b490-e0f5-1b0faabc9ed1</td>\n",
       "      <td>2024-12-08</td>\n",
       "      <td>NaT</td>\n",
       "      <td>ff3708b4-748c-ae52-2430-bc60dd9fb5dd</td>\n",
       "      <td>66fb3887-fe6d-98fd-c2c4-4c4b0e882928</td>\n",
       "      <td>134435003</td>\n",
       "      <td>Routine antenatal care (regime/therapy)</td>\n",
       "      <td>NaN</td>\n",
       "      <td>NaN</td>\n",
       "    </tr>\n",
       "    <tr>\n",
       "      <th>11</th>\n",
       "      <td>244d72d3-69a0-85b5-ffce-bc2ed42d0a65</td>\n",
       "      <td>2024-10-14</td>\n",
       "      <td>2021-04-20</td>\n",
       "      <td>8cc46582-8727-0024-6010-c5e7e2943578</td>\n",
       "      <td>2a07b3a5-0e66-01bb-058d-f8502e8eaada</td>\n",
       "      <td>134435003</td>\n",
       "      <td>Routine antenatal care (regime/therapy)</td>\n",
       "      <td>NaN</td>\n",
       "      <td>NaN</td>\n",
       "    </tr>\n",
       "    <tr>\n",
       "      <th>13</th>\n",
       "      <td>591916e7-0d89-6850-2e85-6912804158d1</td>\n",
       "      <td>2024-09-21</td>\n",
       "      <td>NaT</td>\n",
       "      <td>8cc46582-8727-0024-6010-c5e7e2943578</td>\n",
       "      <td>20d0a9bd-0efd-263a-dbdb-d8f6a13dabd3</td>\n",
       "      <td>134435003</td>\n",
       "      <td>Routine antenatal care (regime/therapy)</td>\n",
       "      <td>NaN</td>\n",
       "      <td>NaN</td>\n",
       "    </tr>\n",
       "    <tr>\n",
       "      <th>...</th>\n",
       "      <td>...</td>\n",
       "      <td>...</td>\n",
       "      <td>...</td>\n",
       "      <td>...</td>\n",
       "      <td>...</td>\n",
       "      <td>...</td>\n",
       "      <td>...</td>\n",
       "      <td>...</td>\n",
       "      <td>...</td>\n",
       "    </tr>\n",
       "    <tr>\n",
       "      <th>174</th>\n",
       "      <td>474f3ca0-74e7-64cc-a673-851de5a9e6c5</td>\n",
       "      <td>2024-09-09</td>\n",
       "      <td>NaT</td>\n",
       "      <td>6266756a-304d-4dee-4f2c-6b1055e8b586</td>\n",
       "      <td>fad0e6bd-cd40-3d19-67e6-46cbfaa8fe3a</td>\n",
       "      <td>134435003</td>\n",
       "      <td>Routine antenatal care (regime/therapy)</td>\n",
       "      <td>NaN</td>\n",
       "      <td>NaN</td>\n",
       "    </tr>\n",
       "    <tr>\n",
       "      <th>176</th>\n",
       "      <td>36924061-2a51-0d3f-af09-e82c1fcdb9eb</td>\n",
       "      <td>2024-06-15</td>\n",
       "      <td>2017-06-27</td>\n",
       "      <td>bbe262a6-238d-365d-73d4-3c5eb36426b3</td>\n",
       "      <td>d4fe1d65-45d9-7577-f24e-dd1a468b1773</td>\n",
       "      <td>134435003</td>\n",
       "      <td>Routine antenatal care (regime/therapy)</td>\n",
       "      <td>NaN</td>\n",
       "      <td>NaN</td>\n",
       "    </tr>\n",
       "    <tr>\n",
       "      <th>177</th>\n",
       "      <td>2621682c-4ef0-c9cb-c875-6b0a14528d35</td>\n",
       "      <td>2024-11-17</td>\n",
       "      <td>2019-10-08</td>\n",
       "      <td>bbe262a6-238d-365d-73d4-3c5eb36426b3</td>\n",
       "      <td>e7e8ecad-9bb4-4259-b481-8ea257916c74</td>\n",
       "      <td>134435003</td>\n",
       "      <td>Routine antenatal care (regime/therapy)</td>\n",
       "      <td>NaN</td>\n",
       "      <td>NaN</td>\n",
       "    </tr>\n",
       "    <tr>\n",
       "      <th>178</th>\n",
       "      <td>527705e4-bb5b-b9ac-edd5-de8e47830d1a</td>\n",
       "      <td>2024-10-17</td>\n",
       "      <td>NaT</td>\n",
       "      <td>bbe262a6-238d-365d-73d4-3c5eb36426b3</td>\n",
       "      <td>0283bea5-248d-b588-cf41-c505caad4f1f</td>\n",
       "      <td>134435003</td>\n",
       "      <td>Routine antenatal care (regime/therapy)</td>\n",
       "      <td>NaN</td>\n",
       "      <td>NaN</td>\n",
       "    </tr>\n",
       "    <tr>\n",
       "      <th>183</th>\n",
       "      <td>e1a87651-8507-10e0-5ea4-b49fd1df0024</td>\n",
       "      <td>2024-08-10</td>\n",
       "      <td>NaT</td>\n",
       "      <td>0cbe423a-9510-4d99-18e4-fb00ad5d7f50</td>\n",
       "      <td>4bccc333-3e32-3a80-1b15-47dbe1144ca7</td>\n",
       "      <td>134435003</td>\n",
       "      <td>Routine antenatal care (regime/therapy)</td>\n",
       "      <td>NaN</td>\n",
       "      <td>NaN</td>\n",
       "    </tr>\n",
       "  </tbody>\n",
       "</table>\n",
       "<p>82 rows × 9 columns</p>\n",
       "</div>"
      ],
      "text/plain": [
       "                                       Id      START       STOP  \\\n",
       "3    ae9b05d7-b88b-0a25-5f98-bcb2101baea9 2024-08-19        NaT   \n",
       "6    5c0e3fbd-f4cc-6707-c453-399f4ac4c9f8 2024-12-12 2017-06-08   \n",
       "9    1f0b56c3-6587-b490-e0f5-1b0faabc9ed1 2024-12-08        NaT   \n",
       "11   244d72d3-69a0-85b5-ffce-bc2ed42d0a65 2024-10-14 2021-04-20   \n",
       "13   591916e7-0d89-6850-2e85-6912804158d1 2024-09-21        NaT   \n",
       "..                                    ...        ...        ...   \n",
       "174  474f3ca0-74e7-64cc-a673-851de5a9e6c5 2024-09-09        NaT   \n",
       "176  36924061-2a51-0d3f-af09-e82c1fcdb9eb 2024-06-15 2017-06-27   \n",
       "177  2621682c-4ef0-c9cb-c875-6b0a14528d35 2024-11-17 2019-10-08   \n",
       "178  527705e4-bb5b-b9ac-edd5-de8e47830d1a 2024-10-17        NaT   \n",
       "183  e1a87651-8507-10e0-5ea4-b49fd1df0024 2024-08-10        NaT   \n",
       "\n",
       "                                  PATIENT  \\\n",
       "3    d778d02c-1b71-582e-0c64-e9ce715996fc   \n",
       "6    ff3708b4-748c-ae52-2430-bc60dd9fb5dd   \n",
       "9    ff3708b4-748c-ae52-2430-bc60dd9fb5dd   \n",
       "11   8cc46582-8727-0024-6010-c5e7e2943578   \n",
       "13   8cc46582-8727-0024-6010-c5e7e2943578   \n",
       "..                                    ...   \n",
       "174  6266756a-304d-4dee-4f2c-6b1055e8b586   \n",
       "176  bbe262a6-238d-365d-73d4-3c5eb36426b3   \n",
       "177  bbe262a6-238d-365d-73d4-3c5eb36426b3   \n",
       "178  bbe262a6-238d-365d-73d4-3c5eb36426b3   \n",
       "183  0cbe423a-9510-4d99-18e4-fb00ad5d7f50   \n",
       "\n",
       "                                ENCOUNTER       CODE  \\\n",
       "3    0a723901-5534-ddd3-dfd3-4bee300feb41  134435003   \n",
       "6    4a5e541d-40b7-aa51-c17d-7f87ddc388a7  134435003   \n",
       "9    66fb3887-fe6d-98fd-c2c4-4c4b0e882928  134435003   \n",
       "11   2a07b3a5-0e66-01bb-058d-f8502e8eaada  134435003   \n",
       "13   20d0a9bd-0efd-263a-dbdb-d8f6a13dabd3  134435003   \n",
       "..                                    ...        ...   \n",
       "174  fad0e6bd-cd40-3d19-67e6-46cbfaa8fe3a  134435003   \n",
       "176  d4fe1d65-45d9-7577-f24e-dd1a468b1773  134435003   \n",
       "177  e7e8ecad-9bb4-4259-b481-8ea257916c74  134435003   \n",
       "178  0283bea5-248d-b588-cf41-c505caad4f1f  134435003   \n",
       "183  4bccc333-3e32-3a80-1b15-47dbe1144ca7  134435003   \n",
       "\n",
       "                                 DESCRIPTION  REASONCODE REASONDESCRIPTION  \n",
       "3    Routine antenatal care (regime/therapy)         NaN               NaN  \n",
       "6    Routine antenatal care (regime/therapy)         NaN               NaN  \n",
       "9    Routine antenatal care (regime/therapy)         NaN               NaN  \n",
       "11   Routine antenatal care (regime/therapy)         NaN               NaN  \n",
       "13   Routine antenatal care (regime/therapy)         NaN               NaN  \n",
       "..                                       ...         ...               ...  \n",
       "174  Routine antenatal care (regime/therapy)         NaN               NaN  \n",
       "176  Routine antenatal care (regime/therapy)         NaN               NaN  \n",
       "177  Routine antenatal care (regime/therapy)         NaN               NaN  \n",
       "178  Routine antenatal care (regime/therapy)         NaN               NaN  \n",
       "183  Routine antenatal care (regime/therapy)         NaN               NaN  \n",
       "\n",
       "[82 rows x 9 columns]"
      ]
     },
     "execution_count": 281,
     "metadata": {},
     "output_type": "execute_result"
    }
   ],
   "source": [
    "antenatalCarePlanFiltered"
   ]
  },
  {
   "cell_type": "markdown",
   "id": "304a0e1e-d717-455e-99a1-1006111cada2",
   "metadata": {},
   "source": [
    "De aquí sacamos los ID y de las pacientes y la fecha de start para mirar cuántas veces son atendidas para este tratamiento a lo largo de la gestacion"
   ]
  },
  {
   "cell_type": "code",
   "execution_count": 284,
   "id": "0d5c8fd1-f317-4c5a-9f94-1fc8729ce6fa",
   "metadata": {},
   "outputs": [],
   "source": [
    "encounters['antenatal_careplan'] = encounters['PATIENT'].isin(antenatalCarePlanFiltered['PATIENT'])"
   ]
  },
  {
   "cell_type": "code",
   "execution_count": 286,
   "id": "d5b64cd9-be33-4254-8f04-d01d884666f3",
   "metadata": {},
   "outputs": [
    {
     "data": {
      "text/html": [
       "<div>\n",
       "<style scoped>\n",
       "    .dataframe tbody tr th:only-of-type {\n",
       "        vertical-align: middle;\n",
       "    }\n",
       "\n",
       "    .dataframe tbody tr th {\n",
       "        vertical-align: top;\n",
       "    }\n",
       "\n",
       "    .dataframe thead th {\n",
       "        text-align: right;\n",
       "    }\n",
       "</style>\n",
       "<table border=\"1\" class=\"dataframe\">\n",
       "  <thead>\n",
       "    <tr style=\"text-align: right;\">\n",
       "      <th></th>\n",
       "      <th>Id</th>\n",
       "      <th>START</th>\n",
       "      <th>STOP</th>\n",
       "      <th>PATIENT</th>\n",
       "      <th>ORGANIZATION</th>\n",
       "      <th>PROVIDER</th>\n",
       "      <th>PAYER</th>\n",
       "      <th>ENCOUNTERCLASS</th>\n",
       "      <th>CODE</th>\n",
       "      <th>DESCRIPTION</th>\n",
       "      <th>BASE_ENCOUNTER_COST</th>\n",
       "      <th>TOTAL_CLAIM_COST</th>\n",
       "      <th>PAYER_COVERAGE</th>\n",
       "      <th>REASONCODE</th>\n",
       "      <th>REASONDESCRIPTION</th>\n",
       "      <th>antenatal_careplan</th>\n",
       "    </tr>\n",
       "  </thead>\n",
       "  <tbody>\n",
       "    <tr>\n",
       "      <th>2</th>\n",
       "      <td>3682fee4-9f43-f8ae-bc5c-8a0b8b42528f</td>\n",
       "      <td>2014-12-18T14:59:14Z</td>\n",
       "      <td>2014-12-18T15:14:14Z</td>\n",
       "      <td>d778d02c-1b71-582e-0c64-e9ce715996fc</td>\n",
       "      <td>5fa5e611-be3d-3ebb-8f71-124325f6005f</td>\n",
       "      <td>236e8b0e-dba1-31a5-a5ac-f8b4dff4ecc6</td>\n",
       "      <td>0133f751-9229-3cfd-815f-b6d4979bdd6a</td>\n",
       "      <td>wellness</td>\n",
       "      <td>410620009</td>\n",
       "      <td>Well child visit (procedure)</td>\n",
       "      <td>136.80</td>\n",
       "      <td>272.80</td>\n",
       "      <td>0.00</td>\n",
       "      <td>NaN</td>\n",
       "      <td>NaN</td>\n",
       "      <td>True</td>\n",
       "    </tr>\n",
       "    <tr>\n",
       "      <th>3</th>\n",
       "      <td>c77234be-e24b-5ebf-0e7a-0c835da53642</td>\n",
       "      <td>2015-05-01T04:59:14Z</td>\n",
       "      <td>2015-05-01T05:14:14Z</td>\n",
       "      <td>d778d02c-1b71-582e-0c64-e9ce715996fc</td>\n",
       "      <td>9d989fcf-4ad9-3972-ada3-f275d967781e</td>\n",
       "      <td>dc678fc2-279d-3be8-be3f-b28dc4e317fb</td>\n",
       "      <td>0133f751-9229-3cfd-815f-b6d4979bdd6a</td>\n",
       "      <td>ambulatory</td>\n",
       "      <td>185345009</td>\n",
       "      <td>Encounter for symptom (procedure)</td>\n",
       "      <td>85.55</td>\n",
       "      <td>85.55</td>\n",
       "      <td>0.00</td>\n",
       "      <td>195662009.0</td>\n",
       "      <td>Acute viral pharyngitis (disorder)</td>\n",
       "      <td>True</td>\n",
       "    </tr>\n",
       "    <tr>\n",
       "      <th>5</th>\n",
       "      <td>dec60578-6d45-e7a1-ccbf-5c8a031f93c7</td>\n",
       "      <td>2015-09-13T16:59:14Z</td>\n",
       "      <td>2015-09-13T17:14:14Z</td>\n",
       "      <td>d778d02c-1b71-582e-0c64-e9ce715996fc</td>\n",
       "      <td>9d989fcf-4ad9-3972-ada3-f275d967781e</td>\n",
       "      <td>dc678fc2-279d-3be8-be3f-b28dc4e317fb</td>\n",
       "      <td>0133f751-9229-3cfd-815f-b6d4979bdd6a</td>\n",
       "      <td>ambulatory</td>\n",
       "      <td>185345009</td>\n",
       "      <td>Encounter for symptom (procedure)</td>\n",
       "      <td>85.55</td>\n",
       "      <td>85.55</td>\n",
       "      <td>0.00</td>\n",
       "      <td>444814009.0</td>\n",
       "      <td>Viral sinusitis (disorder)</td>\n",
       "      <td>True</td>\n",
       "    </tr>\n",
       "    <tr>\n",
       "      <th>6</th>\n",
       "      <td>99b291c0-18a3-afd1-f002-cb3bf4367b4e</td>\n",
       "      <td>2015-12-24T14:59:14Z</td>\n",
       "      <td>2015-12-24T15:14:14Z</td>\n",
       "      <td>d778d02c-1b71-582e-0c64-e9ce715996fc</td>\n",
       "      <td>5fa5e611-be3d-3ebb-8f71-124325f6005f</td>\n",
       "      <td>236e8b0e-dba1-31a5-a5ac-f8b4dff4ecc6</td>\n",
       "      <td>0133f751-9229-3cfd-815f-b6d4979bdd6a</td>\n",
       "      <td>wellness</td>\n",
       "      <td>410620009</td>\n",
       "      <td>Well child visit (procedure)</td>\n",
       "      <td>136.80</td>\n",
       "      <td>1467.35</td>\n",
       "      <td>0.00</td>\n",
       "      <td>NaN</td>\n",
       "      <td>NaN</td>\n",
       "      <td>True</td>\n",
       "    </tr>\n",
       "    <tr>\n",
       "      <th>7</th>\n",
       "      <td>00999c4a-7760-e0f8-faca-533d26ef6687</td>\n",
       "      <td>2015-12-31T14:59:14Z</td>\n",
       "      <td>2015-12-31T23:03:11Z</td>\n",
       "      <td>d778d02c-1b71-582e-0c64-e9ce715996fc</td>\n",
       "      <td>9d989fcf-4ad9-3972-ada3-f275d967781e</td>\n",
       "      <td>dc678fc2-279d-3be8-be3f-b28dc4e317fb</td>\n",
       "      <td>0133f751-9229-3cfd-815f-b6d4979bdd6a</td>\n",
       "      <td>ambulatory</td>\n",
       "      <td>185349003</td>\n",
       "      <td>Encounter for check up (procedure)</td>\n",
       "      <td>85.55</td>\n",
       "      <td>4830.95</td>\n",
       "      <td>200.54</td>\n",
       "      <td>66383009.0</td>\n",
       "      <td>Gingivitis (disorder)</td>\n",
       "      <td>True</td>\n",
       "    </tr>\n",
       "    <tr>\n",
       "      <th>...</th>\n",
       "      <td>...</td>\n",
       "      <td>...</td>\n",
       "      <td>...</td>\n",
       "      <td>...</td>\n",
       "      <td>...</td>\n",
       "      <td>...</td>\n",
       "      <td>...</td>\n",
       "      <td>...</td>\n",
       "      <td>...</td>\n",
       "      <td>...</td>\n",
       "      <td>...</td>\n",
       "      <td>...</td>\n",
       "      <td>...</td>\n",
       "      <td>...</td>\n",
       "      <td>...</td>\n",
       "      <td>...</td>\n",
       "    </tr>\n",
       "    <tr>\n",
       "      <th>2983</th>\n",
       "      <td>8c60c42f-4287-200c-82c0-ab5e5354bb46</td>\n",
       "      <td>2024-09-10T16:04:04Z</td>\n",
       "      <td>2024-09-10T16:19:04Z</td>\n",
       "      <td>0cbe423a-9510-4d99-18e4-fb00ad5d7f50</td>\n",
       "      <td>901c2d40-1ca3-3879-9a20-c663b8adc0a9</td>\n",
       "      <td>68cb0a13-a299-3add-89bf-586ffb3cb473</td>\n",
       "      <td>e03e23c9-4df1-3eb6-a62d-f70f02301496</td>\n",
       "      <td>ambulatory</td>\n",
       "      <td>424619006</td>\n",
       "      <td>Prenatal visit (regime/therapy)</td>\n",
       "      <td>142.58</td>\n",
       "      <td>8262.20</td>\n",
       "      <td>0.00</td>\n",
       "      <td>72892002.0</td>\n",
       "      <td>Normal pregnancy (finding)</td>\n",
       "      <td>True</td>\n",
       "    </tr>\n",
       "    <tr>\n",
       "      <th>2984</th>\n",
       "      <td>e9b097f3-bb22-918e-acbb-f543ab5ebce0</td>\n",
       "      <td>2024-10-08T16:04:04Z</td>\n",
       "      <td>2024-10-08T16:19:04Z</td>\n",
       "      <td>0cbe423a-9510-4d99-18e4-fb00ad5d7f50</td>\n",
       "      <td>901c2d40-1ca3-3879-9a20-c663b8adc0a9</td>\n",
       "      <td>68cb0a13-a299-3add-89bf-586ffb3cb473</td>\n",
       "      <td>e03e23c9-4df1-3eb6-a62d-f70f02301496</td>\n",
       "      <td>ambulatory</td>\n",
       "      <td>424619006</td>\n",
       "      <td>Prenatal visit (regime/therapy)</td>\n",
       "      <td>142.58</td>\n",
       "      <td>14977.36</td>\n",
       "      <td>0.00</td>\n",
       "      <td>72892002.0</td>\n",
       "      <td>Normal pregnancy (finding)</td>\n",
       "      <td>True</td>\n",
       "    </tr>\n",
       "    <tr>\n",
       "      <th>2985</th>\n",
       "      <td>8c8c8c65-a7ab-afa9-9420-204a26a8cdc1</td>\n",
       "      <td>2024-11-05T16:04:04Z</td>\n",
       "      <td>2024-11-05T16:19:04Z</td>\n",
       "      <td>0cbe423a-9510-4d99-18e4-fb00ad5d7f50</td>\n",
       "      <td>901c2d40-1ca3-3879-9a20-c663b8adc0a9</td>\n",
       "      <td>68cb0a13-a299-3add-89bf-586ffb3cb473</td>\n",
       "      <td>e03e23c9-4df1-3eb6-a62d-f70f02301496</td>\n",
       "      <td>ambulatory</td>\n",
       "      <td>424619006</td>\n",
       "      <td>Prenatal visit (regime/therapy)</td>\n",
       "      <td>142.58</td>\n",
       "      <td>11451.02</td>\n",
       "      <td>0.00</td>\n",
       "      <td>72892002.0</td>\n",
       "      <td>Normal pregnancy (finding)</td>\n",
       "      <td>True</td>\n",
       "    </tr>\n",
       "    <tr>\n",
       "      <th>2986</th>\n",
       "      <td>df1308bc-3f0a-5697-c0be-35143dedbde6</td>\n",
       "      <td>2024-12-03T16:04:04Z</td>\n",
       "      <td>2024-12-03T16:19:04Z</td>\n",
       "      <td>0cbe423a-9510-4d99-18e4-fb00ad5d7f50</td>\n",
       "      <td>901c2d40-1ca3-3879-9a20-c663b8adc0a9</td>\n",
       "      <td>68cb0a13-a299-3add-89bf-586ffb3cb473</td>\n",
       "      <td>e03e23c9-4df1-3eb6-a62d-f70f02301496</td>\n",
       "      <td>ambulatory</td>\n",
       "      <td>424619006</td>\n",
       "      <td>Prenatal visit (regime/therapy)</td>\n",
       "      <td>142.58</td>\n",
       "      <td>9005.68</td>\n",
       "      <td>0.00</td>\n",
       "      <td>72892002.0</td>\n",
       "      <td>Normal pregnancy (finding)</td>\n",
       "      <td>True</td>\n",
       "    </tr>\n",
       "    <tr>\n",
       "      <th>2987</th>\n",
       "      <td>c6986156-aa9c-33f8-c187-55c51a95c9c4</td>\n",
       "      <td>2024-12-17T16:04:04Z</td>\n",
       "      <td>2024-12-17T16:19:04Z</td>\n",
       "      <td>0cbe423a-9510-4d99-18e4-fb00ad5d7f50</td>\n",
       "      <td>901c2d40-1ca3-3879-9a20-c663b8adc0a9</td>\n",
       "      <td>68cb0a13-a299-3add-89bf-586ffb3cb473</td>\n",
       "      <td>e03e23c9-4df1-3eb6-a62d-f70f02301496</td>\n",
       "      <td>ambulatory</td>\n",
       "      <td>424619006</td>\n",
       "      <td>Prenatal visit (regime/therapy)</td>\n",
       "      <td>142.58</td>\n",
       "      <td>8524.56</td>\n",
       "      <td>0.00</td>\n",
       "      <td>72892002.0</td>\n",
       "      <td>Normal pregnancy (finding)</td>\n",
       "      <td>True</td>\n",
       "    </tr>\n",
       "  </tbody>\n",
       "</table>\n",
       "<p>2868 rows × 16 columns</p>\n",
       "</div>"
      ],
      "text/plain": [
       "                                        Id                 START  \\\n",
       "2     3682fee4-9f43-f8ae-bc5c-8a0b8b42528f  2014-12-18T14:59:14Z   \n",
       "3     c77234be-e24b-5ebf-0e7a-0c835da53642  2015-05-01T04:59:14Z   \n",
       "5     dec60578-6d45-e7a1-ccbf-5c8a031f93c7  2015-09-13T16:59:14Z   \n",
       "6     99b291c0-18a3-afd1-f002-cb3bf4367b4e  2015-12-24T14:59:14Z   \n",
       "7     00999c4a-7760-e0f8-faca-533d26ef6687  2015-12-31T14:59:14Z   \n",
       "...                                    ...                   ...   \n",
       "2983  8c60c42f-4287-200c-82c0-ab5e5354bb46  2024-09-10T16:04:04Z   \n",
       "2984  e9b097f3-bb22-918e-acbb-f543ab5ebce0  2024-10-08T16:04:04Z   \n",
       "2985  8c8c8c65-a7ab-afa9-9420-204a26a8cdc1  2024-11-05T16:04:04Z   \n",
       "2986  df1308bc-3f0a-5697-c0be-35143dedbde6  2024-12-03T16:04:04Z   \n",
       "2987  c6986156-aa9c-33f8-c187-55c51a95c9c4  2024-12-17T16:04:04Z   \n",
       "\n",
       "                      STOP                               PATIENT  \\\n",
       "2     2014-12-18T15:14:14Z  d778d02c-1b71-582e-0c64-e9ce715996fc   \n",
       "3     2015-05-01T05:14:14Z  d778d02c-1b71-582e-0c64-e9ce715996fc   \n",
       "5     2015-09-13T17:14:14Z  d778d02c-1b71-582e-0c64-e9ce715996fc   \n",
       "6     2015-12-24T15:14:14Z  d778d02c-1b71-582e-0c64-e9ce715996fc   \n",
       "7     2015-12-31T23:03:11Z  d778d02c-1b71-582e-0c64-e9ce715996fc   \n",
       "...                    ...                                   ...   \n",
       "2983  2024-09-10T16:19:04Z  0cbe423a-9510-4d99-18e4-fb00ad5d7f50   \n",
       "2984  2024-10-08T16:19:04Z  0cbe423a-9510-4d99-18e4-fb00ad5d7f50   \n",
       "2985  2024-11-05T16:19:04Z  0cbe423a-9510-4d99-18e4-fb00ad5d7f50   \n",
       "2986  2024-12-03T16:19:04Z  0cbe423a-9510-4d99-18e4-fb00ad5d7f50   \n",
       "2987  2024-12-17T16:19:04Z  0cbe423a-9510-4d99-18e4-fb00ad5d7f50   \n",
       "\n",
       "                              ORGANIZATION  \\\n",
       "2     5fa5e611-be3d-3ebb-8f71-124325f6005f   \n",
       "3     9d989fcf-4ad9-3972-ada3-f275d967781e   \n",
       "5     9d989fcf-4ad9-3972-ada3-f275d967781e   \n",
       "6     5fa5e611-be3d-3ebb-8f71-124325f6005f   \n",
       "7     9d989fcf-4ad9-3972-ada3-f275d967781e   \n",
       "...                                    ...   \n",
       "2983  901c2d40-1ca3-3879-9a20-c663b8adc0a9   \n",
       "2984  901c2d40-1ca3-3879-9a20-c663b8adc0a9   \n",
       "2985  901c2d40-1ca3-3879-9a20-c663b8adc0a9   \n",
       "2986  901c2d40-1ca3-3879-9a20-c663b8adc0a9   \n",
       "2987  901c2d40-1ca3-3879-9a20-c663b8adc0a9   \n",
       "\n",
       "                                  PROVIDER  \\\n",
       "2     236e8b0e-dba1-31a5-a5ac-f8b4dff4ecc6   \n",
       "3     dc678fc2-279d-3be8-be3f-b28dc4e317fb   \n",
       "5     dc678fc2-279d-3be8-be3f-b28dc4e317fb   \n",
       "6     236e8b0e-dba1-31a5-a5ac-f8b4dff4ecc6   \n",
       "7     dc678fc2-279d-3be8-be3f-b28dc4e317fb   \n",
       "...                                    ...   \n",
       "2983  68cb0a13-a299-3add-89bf-586ffb3cb473   \n",
       "2984  68cb0a13-a299-3add-89bf-586ffb3cb473   \n",
       "2985  68cb0a13-a299-3add-89bf-586ffb3cb473   \n",
       "2986  68cb0a13-a299-3add-89bf-586ffb3cb473   \n",
       "2987  68cb0a13-a299-3add-89bf-586ffb3cb473   \n",
       "\n",
       "                                     PAYER ENCOUNTERCLASS       CODE  \\\n",
       "2     0133f751-9229-3cfd-815f-b6d4979bdd6a       wellness  410620009   \n",
       "3     0133f751-9229-3cfd-815f-b6d4979bdd6a     ambulatory  185345009   \n",
       "5     0133f751-9229-3cfd-815f-b6d4979bdd6a     ambulatory  185345009   \n",
       "6     0133f751-9229-3cfd-815f-b6d4979bdd6a       wellness  410620009   \n",
       "7     0133f751-9229-3cfd-815f-b6d4979bdd6a     ambulatory  185349003   \n",
       "...                                    ...            ...        ...   \n",
       "2983  e03e23c9-4df1-3eb6-a62d-f70f02301496     ambulatory  424619006   \n",
       "2984  e03e23c9-4df1-3eb6-a62d-f70f02301496     ambulatory  424619006   \n",
       "2985  e03e23c9-4df1-3eb6-a62d-f70f02301496     ambulatory  424619006   \n",
       "2986  e03e23c9-4df1-3eb6-a62d-f70f02301496     ambulatory  424619006   \n",
       "2987  e03e23c9-4df1-3eb6-a62d-f70f02301496     ambulatory  424619006   \n",
       "\n",
       "                             DESCRIPTION  BASE_ENCOUNTER_COST  \\\n",
       "2           Well child visit (procedure)               136.80   \n",
       "3      Encounter for symptom (procedure)                85.55   \n",
       "5      Encounter for symptom (procedure)                85.55   \n",
       "6           Well child visit (procedure)               136.80   \n",
       "7     Encounter for check up (procedure)                85.55   \n",
       "...                                  ...                  ...   \n",
       "2983     Prenatal visit (regime/therapy)               142.58   \n",
       "2984     Prenatal visit (regime/therapy)               142.58   \n",
       "2985     Prenatal visit (regime/therapy)               142.58   \n",
       "2986     Prenatal visit (regime/therapy)               142.58   \n",
       "2987     Prenatal visit (regime/therapy)               142.58   \n",
       "\n",
       "      TOTAL_CLAIM_COST  PAYER_COVERAGE   REASONCODE  \\\n",
       "2               272.80            0.00          NaN   \n",
       "3                85.55            0.00  195662009.0   \n",
       "5                85.55            0.00  444814009.0   \n",
       "6              1467.35            0.00          NaN   \n",
       "7              4830.95          200.54   66383009.0   \n",
       "...                ...             ...          ...   \n",
       "2983           8262.20            0.00   72892002.0   \n",
       "2984          14977.36            0.00   72892002.0   \n",
       "2985          11451.02            0.00   72892002.0   \n",
       "2986           9005.68            0.00   72892002.0   \n",
       "2987           8524.56            0.00   72892002.0   \n",
       "\n",
       "                       REASONDESCRIPTION  antenatal_careplan  \n",
       "2                                    NaN                True  \n",
       "3     Acute viral pharyngitis (disorder)                True  \n",
       "5             Viral sinusitis (disorder)                True  \n",
       "6                                    NaN                True  \n",
       "7                  Gingivitis (disorder)                True  \n",
       "...                                  ...                 ...  \n",
       "2983          Normal pregnancy (finding)                True  \n",
       "2984          Normal pregnancy (finding)                True  \n",
       "2985          Normal pregnancy (finding)                True  \n",
       "2986          Normal pregnancy (finding)                True  \n",
       "2987          Normal pregnancy (finding)                True  \n",
       "\n",
       "[2868 rows x 16 columns]"
      ]
     },
     "execution_count": 286,
     "metadata": {},
     "output_type": "execute_result"
    }
   ],
   "source": [
    "encounters.query(\"antenatal_careplan == True\")"
   ]
  },
  {
   "cell_type": "markdown",
   "id": "cfcd3f12-3b84-4346-938d-3bd5910c8435",
   "metadata": {},
   "source": [
    "Filtramos para que nos salgan las consultas a partir del 01/01/2024"
   ]
  },
  {
   "cell_type": "code",
   "execution_count": 289,
   "id": "a81680a6-7f25-4e5b-9079-f4765a2d9eb8",
   "metadata": {},
   "outputs": [],
   "source": [
    "#CONVERTIMOS A DATETIME LAS COLUMNAS START Y STOP\n",
    "encounters['START'] = pd.to_datetime(encounters['START'])\n",
    "encounters['STOP'] = pd.to_datetime(encounters['STOP'])\n",
    "\n",
    "#Filtramos las filas donde START sea a partir del 01/01/2024\n",
    "encountersFiltered = encounters[encounters['START'] >= '2024-01-01'].reset_index(drop=True)"
   ]
  },
  {
   "cell_type": "code",
   "execution_count": 291,
   "id": "2a991414-b639-4cef-ae9b-d24d30e8428b",
   "metadata": {},
   "outputs": [
    {
     "name": "stdout",
     "output_type": "stream",
     "text": [
      "<class 'pandas.core.frame.DataFrame'>\n",
      "RangeIndex: 2177 entries, 0 to 2176\n",
      "Data columns (total 16 columns):\n",
      " #   Column               Non-Null Count  Dtype              \n",
      "---  ------               --------------  -----              \n",
      " 0   Id                   2177 non-null   object             \n",
      " 1   START                2177 non-null   datetime64[ns, UTC]\n",
      " 2   STOP                 2177 non-null   datetime64[ns, UTC]\n",
      " 3   PATIENT              2177 non-null   object             \n",
      " 4   ORGANIZATION         2177 non-null   object             \n",
      " 5   PROVIDER             2177 non-null   object             \n",
      " 6   PAYER                2177 non-null   object             \n",
      " 7   ENCOUNTERCLASS       2177 non-null   object             \n",
      " 8   CODE                 2177 non-null   int64              \n",
      " 9   DESCRIPTION          2177 non-null   object             \n",
      " 10  BASE_ENCOUNTER_COST  2177 non-null   float64            \n",
      " 11  TOTAL_CLAIM_COST     2177 non-null   float64            \n",
      " 12  PAYER_COVERAGE       2177 non-null   float64            \n",
      " 13  REASONCODE           1882 non-null   float64            \n",
      " 14  REASONDESCRIPTION    1882 non-null   object             \n",
      " 15  antenatal_careplan   2177 non-null   bool               \n",
      "dtypes: bool(1), datetime64[ns, UTC](2), float64(4), int64(1), object(8)\n",
      "memory usage: 257.4+ KB\n"
     ]
    }
   ],
   "source": [
    "encountersFiltered.info()"
   ]
  },
  {
   "cell_type": "code",
   "execution_count": 293,
   "id": "86dd8560-2831-4bd0-93e0-e05a816bb632",
   "metadata": {},
   "outputs": [
    {
     "data": {
      "text/html": [
       "<div>\n",
       "<style scoped>\n",
       "    .dataframe tbody tr th:only-of-type {\n",
       "        vertical-align: middle;\n",
       "    }\n",
       "\n",
       "    .dataframe tbody tr th {\n",
       "        vertical-align: top;\n",
       "    }\n",
       "\n",
       "    .dataframe thead th {\n",
       "        text-align: right;\n",
       "    }\n",
       "</style>\n",
       "<table border=\"1\" class=\"dataframe\">\n",
       "  <thead>\n",
       "    <tr style=\"text-align: right;\">\n",
       "      <th></th>\n",
       "      <th>Id</th>\n",
       "      <th>START</th>\n",
       "      <th>STOP</th>\n",
       "      <th>PATIENT</th>\n",
       "      <th>ORGANIZATION</th>\n",
       "      <th>PROVIDER</th>\n",
       "      <th>PAYER</th>\n",
       "      <th>ENCOUNTERCLASS</th>\n",
       "      <th>CODE</th>\n",
       "      <th>DESCRIPTION</th>\n",
       "      <th>BASE_ENCOUNTER_COST</th>\n",
       "      <th>TOTAL_CLAIM_COST</th>\n",
       "      <th>PAYER_COVERAGE</th>\n",
       "      <th>REASONCODE</th>\n",
       "      <th>REASONDESCRIPTION</th>\n",
       "      <th>antenatal_careplan</th>\n",
       "    </tr>\n",
       "  </thead>\n",
       "  <tbody>\n",
       "    <tr>\n",
       "      <th>0</th>\n",
       "      <td>b485a224-78c9-3e6f-d18d-bf93764cc350</td>\n",
       "      <td>2024-02-08 14:59:14+00:00</td>\n",
       "      <td>2024-02-08 15:53:58+00:00</td>\n",
       "      <td>d778d02c-1b71-582e-0c64-e9ce715996fc</td>\n",
       "      <td>5fa5e611-be3d-3ebb-8f71-124325f6005f</td>\n",
       "      <td>236e8b0e-dba1-31a5-a5ac-f8b4dff4ecc6</td>\n",
       "      <td>8fa6c185-e44e-3e34-8bd8-39be8694f4ce</td>\n",
       "      <td>wellness</td>\n",
       "      <td>162673000</td>\n",
       "      <td>General examination of patient (procedure)</td>\n",
       "      <td>136.80</td>\n",
       "      <td>704.20</td>\n",
       "      <td>0.00</td>\n",
       "      <td>NaN</td>\n",
       "      <td>NaN</td>\n",
       "      <td>True</td>\n",
       "    </tr>\n",
       "    <tr>\n",
       "      <th>1</th>\n",
       "      <td>dcedf098-d307-b5bc-0609-7acf86c52b02</td>\n",
       "      <td>2024-02-22 14:59:14+00:00</td>\n",
       "      <td>2024-02-22 18:40:30+00:00</td>\n",
       "      <td>d778d02c-1b71-582e-0c64-e9ce715996fc</td>\n",
       "      <td>9d989fcf-4ad9-3972-ada3-f275d967781e</td>\n",
       "      <td>dc678fc2-279d-3be8-be3f-b28dc4e317fb</td>\n",
       "      <td>8fa6c185-e44e-3e34-8bd8-39be8694f4ce</td>\n",
       "      <td>ambulatory</td>\n",
       "      <td>185349003</td>\n",
       "      <td>Encounter for check up (procedure)</td>\n",
       "      <td>85.55</td>\n",
       "      <td>3105.35</td>\n",
       "      <td>0.00</td>\n",
       "      <td>66383009.0</td>\n",
       "      <td>Gingivitis (disorder)</td>\n",
       "      <td>True</td>\n",
       "    </tr>\n",
       "    <tr>\n",
       "      <th>2</th>\n",
       "      <td>0a723901-5534-ddd3-dfd3-4bee300feb41</td>\n",
       "      <td>2024-09-19 14:59:14+00:00</td>\n",
       "      <td>2024-09-19 15:14:14+00:00</td>\n",
       "      <td>d778d02c-1b71-582e-0c64-e9ce715996fc</td>\n",
       "      <td>9d989fcf-4ad9-3972-ada3-f275d967781e</td>\n",
       "      <td>dc678fc2-279d-3be8-be3f-b28dc4e317fb</td>\n",
       "      <td>8fa6c185-e44e-3e34-8bd8-39be8694f4ce</td>\n",
       "      <td>ambulatory</td>\n",
       "      <td>424441002</td>\n",
       "      <td>Prenatal initial visit (regime/therapy)</td>\n",
       "      <td>142.58</td>\n",
       "      <td>55053.32</td>\n",
       "      <td>38144.95</td>\n",
       "      <td>72892002.0</td>\n",
       "      <td>Normal pregnancy (finding)</td>\n",
       "      <td>True</td>\n",
       "    </tr>\n",
       "    <tr>\n",
       "      <th>3</th>\n",
       "      <td>e839b319-4afe-187b-219c-374d7529e79b</td>\n",
       "      <td>2024-03-08 00:34:47+00:00</td>\n",
       "      <td>2024-03-08 01:34:47+00:00</td>\n",
       "      <td>958cbaed-4a32-40ff-f2ee-d55edc4f7611</td>\n",
       "      <td>f0e3e152-0b08-3819-b962-b043f63f6dc1</td>\n",
       "      <td>a8b071aa-59c6-3d54-b799-c28a697ed75f</td>\n",
       "      <td>26aab0cd-6aba-3e1b-ac5b-05c8867e762c</td>\n",
       "      <td>emergency</td>\n",
       "      <td>50849002</td>\n",
       "      <td>Emergency room admission (procedure)</td>\n",
       "      <td>146.18</td>\n",
       "      <td>146.18</td>\n",
       "      <td>0.00</td>\n",
       "      <td>110030002.0</td>\n",
       "      <td>Concussion injury of brain (disorder)</td>\n",
       "      <td>False</td>\n",
       "    </tr>\n",
       "    <tr>\n",
       "      <th>4</th>\n",
       "      <td>acae6c36-ec9e-d1f6-c95f-0d2d22580597</td>\n",
       "      <td>2024-04-19 00:34:47+00:00</td>\n",
       "      <td>2024-04-19 00:49:47+00:00</td>\n",
       "      <td>958cbaed-4a32-40ff-f2ee-d55edc4f7611</td>\n",
       "      <td>06cc2462-430f-3322-9c87-7e971125f510</td>\n",
       "      <td>e90cb995-6e59-31e7-9e03-512081d49303</td>\n",
       "      <td>26aab0cd-6aba-3e1b-ac5b-05c8867e762c</td>\n",
       "      <td>ambulatory</td>\n",
       "      <td>185349003</td>\n",
       "      <td>Encounter for check up (procedure)</td>\n",
       "      <td>85.55</td>\n",
       "      <td>85.55</td>\n",
       "      <td>0.00</td>\n",
       "      <td>62564004.0</td>\n",
       "      <td>Concussion with loss of consciousness (disorder)</td>\n",
       "      <td>False</td>\n",
       "    </tr>\n",
       "    <tr>\n",
       "      <th>...</th>\n",
       "      <td>...</td>\n",
       "      <td>...</td>\n",
       "      <td>...</td>\n",
       "      <td>...</td>\n",
       "      <td>...</td>\n",
       "      <td>...</td>\n",
       "      <td>...</td>\n",
       "      <td>...</td>\n",
       "      <td>...</td>\n",
       "      <td>...</td>\n",
       "      <td>...</td>\n",
       "      <td>...</td>\n",
       "      <td>...</td>\n",
       "      <td>...</td>\n",
       "      <td>...</td>\n",
       "      <td>...</td>\n",
       "    </tr>\n",
       "    <tr>\n",
       "      <th>2172</th>\n",
       "      <td>45048f97-3e00-518f-fa52-b0f6387327bf</td>\n",
       "      <td>2024-11-04 15:58:38+00:00</td>\n",
       "      <td>2024-11-04 16:13:38+00:00</td>\n",
       "      <td>d722b722-99ef-37a7-f021-46a3afdca6d1</td>\n",
       "      <td>352f2e3b-0708-3eb4-9f7e-e73a685bf379</td>\n",
       "      <td>bf37e7f1-f7f7-320b-914c-b35197ad78f6</td>\n",
       "      <td>e03e23c9-4df1-3eb6-a62d-f70f02301496</td>\n",
       "      <td>ambulatory</td>\n",
       "      <td>424441002</td>\n",
       "      <td>Prenatal initial visit (regime/therapy)</td>\n",
       "      <td>142.58</td>\n",
       "      <td>45027.70</td>\n",
       "      <td>0.00</td>\n",
       "      <td>72892002.0</td>\n",
       "      <td>Normal pregnancy (finding)</td>\n",
       "      <td>False</td>\n",
       "    </tr>\n",
       "    <tr>\n",
       "      <th>2173</th>\n",
       "      <td>111b656b-cc8e-cb98-d5a4-fd0a06cb3932</td>\n",
       "      <td>2024-11-28 01:27:26+00:00</td>\n",
       "      <td>2024-11-28 10:27:26+00:00</td>\n",
       "      <td>d722b722-99ef-37a7-f021-46a3afdca6d1</td>\n",
       "      <td>7f32dd7d-5c35-3ddb-839b-8fbbb930d412</td>\n",
       "      <td>c8e8633b-4765-3f9d-923e-557e5001e34c</td>\n",
       "      <td>e03e23c9-4df1-3eb6-a62d-f70f02301496</td>\n",
       "      <td>emergency</td>\n",
       "      <td>50849002</td>\n",
       "      <td>Emergency room admission (procedure)</td>\n",
       "      <td>146.18</td>\n",
       "      <td>146.18</td>\n",
       "      <td>0.00</td>\n",
       "      <td>55680006.0</td>\n",
       "      <td>Drug overdose</td>\n",
       "      <td>False</td>\n",
       "    </tr>\n",
       "    <tr>\n",
       "      <th>2174</th>\n",
       "      <td>11a0ddb6-0c7a-92c5-50a0-a93d6de9a42f</td>\n",
       "      <td>2024-12-02 15:58:38+00:00</td>\n",
       "      <td>2024-12-02 16:13:38+00:00</td>\n",
       "      <td>d722b722-99ef-37a7-f021-46a3afdca6d1</td>\n",
       "      <td>352f2e3b-0708-3eb4-9f7e-e73a685bf379</td>\n",
       "      <td>bf37e7f1-f7f7-320b-914c-b35197ad78f6</td>\n",
       "      <td>e03e23c9-4df1-3eb6-a62d-f70f02301496</td>\n",
       "      <td>ambulatory</td>\n",
       "      <td>424619006</td>\n",
       "      <td>Prenatal visit (regime/therapy)</td>\n",
       "      <td>142.58</td>\n",
       "      <td>19098.88</td>\n",
       "      <td>0.00</td>\n",
       "      <td>72892002.0</td>\n",
       "      <td>Normal pregnancy (finding)</td>\n",
       "      <td>False</td>\n",
       "    </tr>\n",
       "    <tr>\n",
       "      <th>2175</th>\n",
       "      <td>b8bdd2bf-b6e0-85d8-2f13-fac2c1bbcdcf</td>\n",
       "      <td>2024-01-01 00:29:08+00:00</td>\n",
       "      <td>2024-01-01 01:14:49+00:00</td>\n",
       "      <td>5c25efe7-fc0a-3afa-5577-72c3f5cfc7f0</td>\n",
       "      <td>e5b9db6a-8dd8-3622-b9ce-3dc593e111d1</td>\n",
       "      <td>bee22fdb-0ccc-32aa-80d3-f9e677dc8d4f</td>\n",
       "      <td>df166300-5a78-3502-a46a-832842197811</td>\n",
       "      <td>wellness</td>\n",
       "      <td>162673000</td>\n",
       "      <td>General examination of patient (procedure)</td>\n",
       "      <td>136.80</td>\n",
       "      <td>1632.30</td>\n",
       "      <td>1532.30</td>\n",
       "      <td>NaN</td>\n",
       "      <td>NaN</td>\n",
       "      <td>False</td>\n",
       "    </tr>\n",
       "    <tr>\n",
       "      <th>2176</th>\n",
       "      <td>5ba32706-26d8-e131-a6c3-947943ba895e</td>\n",
       "      <td>2024-01-15 00:29:08+00:00</td>\n",
       "      <td>2024-01-15 03:22:08+00:00</td>\n",
       "      <td>5c25efe7-fc0a-3afa-5577-72c3f5cfc7f0</td>\n",
       "      <td>c7542447-e06e-32cb-b6db-243c23a0dbc2</td>\n",
       "      <td>a8287324-f8d6-31e1-beae-004b795fa507</td>\n",
       "      <td>df166300-5a78-3502-a46a-832842197811</td>\n",
       "      <td>ambulatory</td>\n",
       "      <td>185349003</td>\n",
       "      <td>Encounter for check up (procedure)</td>\n",
       "      <td>85.55</td>\n",
       "      <td>2673.95</td>\n",
       "      <td>2623.95</td>\n",
       "      <td>103697008.0</td>\n",
       "      <td>Patient referral for dental care (procedure)</td>\n",
       "      <td>False</td>\n",
       "    </tr>\n",
       "  </tbody>\n",
       "</table>\n",
       "<p>2177 rows × 16 columns</p>\n",
       "</div>"
      ],
      "text/plain": [
       "                                        Id                     START  \\\n",
       "0     b485a224-78c9-3e6f-d18d-bf93764cc350 2024-02-08 14:59:14+00:00   \n",
       "1     dcedf098-d307-b5bc-0609-7acf86c52b02 2024-02-22 14:59:14+00:00   \n",
       "2     0a723901-5534-ddd3-dfd3-4bee300feb41 2024-09-19 14:59:14+00:00   \n",
       "3     e839b319-4afe-187b-219c-374d7529e79b 2024-03-08 00:34:47+00:00   \n",
       "4     acae6c36-ec9e-d1f6-c95f-0d2d22580597 2024-04-19 00:34:47+00:00   \n",
       "...                                    ...                       ...   \n",
       "2172  45048f97-3e00-518f-fa52-b0f6387327bf 2024-11-04 15:58:38+00:00   \n",
       "2173  111b656b-cc8e-cb98-d5a4-fd0a06cb3932 2024-11-28 01:27:26+00:00   \n",
       "2174  11a0ddb6-0c7a-92c5-50a0-a93d6de9a42f 2024-12-02 15:58:38+00:00   \n",
       "2175  b8bdd2bf-b6e0-85d8-2f13-fac2c1bbcdcf 2024-01-01 00:29:08+00:00   \n",
       "2176  5ba32706-26d8-e131-a6c3-947943ba895e 2024-01-15 00:29:08+00:00   \n",
       "\n",
       "                          STOP                               PATIENT  \\\n",
       "0    2024-02-08 15:53:58+00:00  d778d02c-1b71-582e-0c64-e9ce715996fc   \n",
       "1    2024-02-22 18:40:30+00:00  d778d02c-1b71-582e-0c64-e9ce715996fc   \n",
       "2    2024-09-19 15:14:14+00:00  d778d02c-1b71-582e-0c64-e9ce715996fc   \n",
       "3    2024-03-08 01:34:47+00:00  958cbaed-4a32-40ff-f2ee-d55edc4f7611   \n",
       "4    2024-04-19 00:49:47+00:00  958cbaed-4a32-40ff-f2ee-d55edc4f7611   \n",
       "...                        ...                                   ...   \n",
       "2172 2024-11-04 16:13:38+00:00  d722b722-99ef-37a7-f021-46a3afdca6d1   \n",
       "2173 2024-11-28 10:27:26+00:00  d722b722-99ef-37a7-f021-46a3afdca6d1   \n",
       "2174 2024-12-02 16:13:38+00:00  d722b722-99ef-37a7-f021-46a3afdca6d1   \n",
       "2175 2024-01-01 01:14:49+00:00  5c25efe7-fc0a-3afa-5577-72c3f5cfc7f0   \n",
       "2176 2024-01-15 03:22:08+00:00  5c25efe7-fc0a-3afa-5577-72c3f5cfc7f0   \n",
       "\n",
       "                              ORGANIZATION  \\\n",
       "0     5fa5e611-be3d-3ebb-8f71-124325f6005f   \n",
       "1     9d989fcf-4ad9-3972-ada3-f275d967781e   \n",
       "2     9d989fcf-4ad9-3972-ada3-f275d967781e   \n",
       "3     f0e3e152-0b08-3819-b962-b043f63f6dc1   \n",
       "4     06cc2462-430f-3322-9c87-7e971125f510   \n",
       "...                                    ...   \n",
       "2172  352f2e3b-0708-3eb4-9f7e-e73a685bf379   \n",
       "2173  7f32dd7d-5c35-3ddb-839b-8fbbb930d412   \n",
       "2174  352f2e3b-0708-3eb4-9f7e-e73a685bf379   \n",
       "2175  e5b9db6a-8dd8-3622-b9ce-3dc593e111d1   \n",
       "2176  c7542447-e06e-32cb-b6db-243c23a0dbc2   \n",
       "\n",
       "                                  PROVIDER  \\\n",
       "0     236e8b0e-dba1-31a5-a5ac-f8b4dff4ecc6   \n",
       "1     dc678fc2-279d-3be8-be3f-b28dc4e317fb   \n",
       "2     dc678fc2-279d-3be8-be3f-b28dc4e317fb   \n",
       "3     a8b071aa-59c6-3d54-b799-c28a697ed75f   \n",
       "4     e90cb995-6e59-31e7-9e03-512081d49303   \n",
       "...                                    ...   \n",
       "2172  bf37e7f1-f7f7-320b-914c-b35197ad78f6   \n",
       "2173  c8e8633b-4765-3f9d-923e-557e5001e34c   \n",
       "2174  bf37e7f1-f7f7-320b-914c-b35197ad78f6   \n",
       "2175  bee22fdb-0ccc-32aa-80d3-f9e677dc8d4f   \n",
       "2176  a8287324-f8d6-31e1-beae-004b795fa507   \n",
       "\n",
       "                                     PAYER ENCOUNTERCLASS       CODE  \\\n",
       "0     8fa6c185-e44e-3e34-8bd8-39be8694f4ce       wellness  162673000   \n",
       "1     8fa6c185-e44e-3e34-8bd8-39be8694f4ce     ambulatory  185349003   \n",
       "2     8fa6c185-e44e-3e34-8bd8-39be8694f4ce     ambulatory  424441002   \n",
       "3     26aab0cd-6aba-3e1b-ac5b-05c8867e762c      emergency   50849002   \n",
       "4     26aab0cd-6aba-3e1b-ac5b-05c8867e762c     ambulatory  185349003   \n",
       "...                                    ...            ...        ...   \n",
       "2172  e03e23c9-4df1-3eb6-a62d-f70f02301496     ambulatory  424441002   \n",
       "2173  e03e23c9-4df1-3eb6-a62d-f70f02301496      emergency   50849002   \n",
       "2174  e03e23c9-4df1-3eb6-a62d-f70f02301496     ambulatory  424619006   \n",
       "2175  df166300-5a78-3502-a46a-832842197811       wellness  162673000   \n",
       "2176  df166300-5a78-3502-a46a-832842197811     ambulatory  185349003   \n",
       "\n",
       "                                     DESCRIPTION  BASE_ENCOUNTER_COST  \\\n",
       "0     General examination of patient (procedure)               136.80   \n",
       "1             Encounter for check up (procedure)                85.55   \n",
       "2        Prenatal initial visit (regime/therapy)               142.58   \n",
       "3           Emergency room admission (procedure)               146.18   \n",
       "4             Encounter for check up (procedure)                85.55   \n",
       "...                                          ...                  ...   \n",
       "2172     Prenatal initial visit (regime/therapy)               142.58   \n",
       "2173        Emergency room admission (procedure)               146.18   \n",
       "2174             Prenatal visit (regime/therapy)               142.58   \n",
       "2175  General examination of patient (procedure)               136.80   \n",
       "2176          Encounter for check up (procedure)                85.55   \n",
       "\n",
       "      TOTAL_CLAIM_COST  PAYER_COVERAGE   REASONCODE  \\\n",
       "0               704.20            0.00          NaN   \n",
       "1              3105.35            0.00   66383009.0   \n",
       "2             55053.32        38144.95   72892002.0   \n",
       "3               146.18            0.00  110030002.0   \n",
       "4                85.55            0.00   62564004.0   \n",
       "...                ...             ...          ...   \n",
       "2172          45027.70            0.00   72892002.0   \n",
       "2173            146.18            0.00   55680006.0   \n",
       "2174          19098.88            0.00   72892002.0   \n",
       "2175           1632.30         1532.30          NaN   \n",
       "2176           2673.95         2623.95  103697008.0   \n",
       "\n",
       "                                     REASONDESCRIPTION  antenatal_careplan  \n",
       "0                                                  NaN                True  \n",
       "1                                Gingivitis (disorder)                True  \n",
       "2                           Normal pregnancy (finding)                True  \n",
       "3                Concussion injury of brain (disorder)               False  \n",
       "4     Concussion with loss of consciousness (disorder)               False  \n",
       "...                                                ...                 ...  \n",
       "2172                        Normal pregnancy (finding)               False  \n",
       "2173                                     Drug overdose               False  \n",
       "2174                        Normal pregnancy (finding)               False  \n",
       "2175                                               NaN               False  \n",
       "2176      Patient referral for dental care (procedure)               False  \n",
       "\n",
       "[2177 rows x 16 columns]"
      ]
     },
     "execution_count": 293,
     "metadata": {},
     "output_type": "execute_result"
    }
   ],
   "source": [
    "encountersFiltered"
   ]
  },
  {
   "cell_type": "markdown",
   "id": "e5d18d50-896c-4b51-b29d-875c45e78ab2",
   "metadata": {},
   "source": [
    "Nos hemos quedado con las pacientes embarazdas en la fecha seleccionada, pero sólo estamos ineteresados en la información de las visitas prenatales o las obstétricas de emergencia. Así vamos a quedarnos con estas entradas. "
   ]
  },
  {
   "cell_type": "markdown",
   "id": "d3b47ffd-ae0d-4edc-b489-5f443f37f77c",
   "metadata": {},
   "source": [
    "Vamos a ver cuántas veces aparece cada paciente, va a la consulta. "
   ]
  },
  {
   "cell_type": "code",
   "execution_count": 297,
   "id": "8a9ec6a6-7515-42d2-91ab-3c520d425791",
   "metadata": {},
   "outputs": [
    {
     "data": {
      "text/html": [
       "<div>\n",
       "<style scoped>\n",
       "    .dataframe tbody tr th:only-of-type {\n",
       "        vertical-align: middle;\n",
       "    }\n",
       "\n",
       "    .dataframe tbody tr th {\n",
       "        vertical-align: top;\n",
       "    }\n",
       "\n",
       "    .dataframe thead th {\n",
       "        text-align: right;\n",
       "    }\n",
       "</style>\n",
       "<table border=\"1\" class=\"dataframe\">\n",
       "  <thead>\n",
       "    <tr style=\"text-align: right;\">\n",
       "      <th></th>\n",
       "      <th>Id</th>\n",
       "      <th>START</th>\n",
       "      <th>STOP</th>\n",
       "      <th>PATIENT</th>\n",
       "      <th>ORGANIZATION</th>\n",
       "      <th>PROVIDER</th>\n",
       "      <th>PAYER</th>\n",
       "      <th>ENCOUNTERCLASS</th>\n",
       "      <th>CODE</th>\n",
       "      <th>DESCRIPTION</th>\n",
       "      <th>BASE_ENCOUNTER_COST</th>\n",
       "      <th>TOTAL_CLAIM_COST</th>\n",
       "      <th>PAYER_COVERAGE</th>\n",
       "      <th>REASONCODE</th>\n",
       "      <th>REASONDESCRIPTION</th>\n",
       "      <th>antenatal_careplan</th>\n",
       "    </tr>\n",
       "  </thead>\n",
       "  <tbody>\n",
       "    <tr>\n",
       "      <th>7</th>\n",
       "      <td>eec0010f-e79c-f8ce-0f40-4bfda83aa93c</td>\n",
       "      <td>2024-10-17 14:59:14+00:00</td>\n",
       "      <td>2024-10-17 15:14:14+00:00</td>\n",
       "      <td>d778d02c-1b71-582e-0c64-e9ce715996fc</td>\n",
       "      <td>9d989fcf-4ad9-3972-ada3-f275d967781e</td>\n",
       "      <td>dc678fc2-279d-3be8-be3f-b28dc4e317fb</td>\n",
       "      <td>8fa6c185-e44e-3e34-8bd8-39be8694f4ce</td>\n",
       "      <td>ambulatory</td>\n",
       "      <td>424619006</td>\n",
       "      <td>Prenatal visit (regime/therapy)</td>\n",
       "      <td>142.58</td>\n",
       "      <td>10091.82</td>\n",
       "      <td>10091.82</td>\n",
       "      <td>72892002.0</td>\n",
       "      <td>Normal pregnancy (finding)</td>\n",
       "      <td>True</td>\n",
       "    </tr>\n",
       "    <tr>\n",
       "      <th>8</th>\n",
       "      <td>e7ed1b59-5a3a-21db-2c6a-694304854ba4</td>\n",
       "      <td>2024-11-14 14:59:14+00:00</td>\n",
       "      <td>2024-11-14 15:14:14+00:00</td>\n",
       "      <td>d778d02c-1b71-582e-0c64-e9ce715996fc</td>\n",
       "      <td>9d989fcf-4ad9-3972-ada3-f275d967781e</td>\n",
       "      <td>dc678fc2-279d-3be8-be3f-b28dc4e317fb</td>\n",
       "      <td>8fa6c185-e44e-3e34-8bd8-39be8694f4ce</td>\n",
       "      <td>ambulatory</td>\n",
       "      <td>424619006</td>\n",
       "      <td>Prenatal visit (regime/therapy)</td>\n",
       "      <td>142.58</td>\n",
       "      <td>8548.56</td>\n",
       "      <td>8548.56</td>\n",
       "      <td>72892002.0</td>\n",
       "      <td>Normal pregnancy (finding)</td>\n",
       "      <td>True</td>\n",
       "    </tr>\n",
       "    <tr>\n",
       "      <th>9</th>\n",
       "      <td>0ea068c2-5f08-754a-76ae-08078f1a1854</td>\n",
       "      <td>2024-12-12 14:59:14+00:00</td>\n",
       "      <td>2024-12-12 15:14:14+00:00</td>\n",
       "      <td>d778d02c-1b71-582e-0c64-e9ce715996fc</td>\n",
       "      <td>9d989fcf-4ad9-3972-ada3-f275d967781e</td>\n",
       "      <td>dc678fc2-279d-3be8-be3f-b28dc4e317fb</td>\n",
       "      <td>8fa6c185-e44e-3e34-8bd8-39be8694f4ce</td>\n",
       "      <td>ambulatory</td>\n",
       "      <td>424619006</td>\n",
       "      <td>Prenatal visit (regime/therapy)</td>\n",
       "      <td>142.58</td>\n",
       "      <td>11451.02</td>\n",
       "      <td>4865.71</td>\n",
       "      <td>72892002.0</td>\n",
       "      <td>Normal pregnancy (finding)</td>\n",
       "      <td>True</td>\n",
       "    </tr>\n",
       "    <tr>\n",
       "      <th>14</th>\n",
       "      <td>3006dcd8-f7d3-fede-4c4e-7b46c0c860b1</td>\n",
       "      <td>2024-09-12 18:23:00+00:00</td>\n",
       "      <td>2024-09-12 18:38:00+00:00</td>\n",
       "      <td>ff3708b4-748c-ae52-2430-bc60dd9fb5dd</td>\n",
       "      <td>0d9b0d22-585e-3fd8-ab02-26b5be7915d1</td>\n",
       "      <td>22f5aefd-a242-3292-89ee-00b423462eff</td>\n",
       "      <td>df166300-5a78-3502-a46a-832842197811</td>\n",
       "      <td>ambulatory</td>\n",
       "      <td>424619006</td>\n",
       "      <td>Prenatal visit (regime/therapy)</td>\n",
       "      <td>142.58</td>\n",
       "      <td>10870.23</td>\n",
       "      <td>10720.23</td>\n",
       "      <td>72892002.0</td>\n",
       "      <td>Normal pregnancy (finding)</td>\n",
       "      <td>True</td>\n",
       "    </tr>\n",
       "    <tr>\n",
       "      <th>15</th>\n",
       "      <td>ae8a274f-8609-4777-1af1-dd3e53caa05c</td>\n",
       "      <td>2024-10-10 18:23:00+00:00</td>\n",
       "      <td>2024-10-10 18:38:00+00:00</td>\n",
       "      <td>ff3708b4-748c-ae52-2430-bc60dd9fb5dd</td>\n",
       "      <td>0d9b0d22-585e-3fd8-ab02-26b5be7915d1</td>\n",
       "      <td>22f5aefd-a242-3292-89ee-00b423462eff</td>\n",
       "      <td>df166300-5a78-3502-a46a-832842197811</td>\n",
       "      <td>ambulatory</td>\n",
       "      <td>424619006</td>\n",
       "      <td>Prenatal visit (regime/therapy)</td>\n",
       "      <td>142.58</td>\n",
       "      <td>13595.53</td>\n",
       "      <td>13545.53</td>\n",
       "      <td>72892002.0</td>\n",
       "      <td>Normal pregnancy (finding)</td>\n",
       "      <td>True</td>\n",
       "    </tr>\n",
       "    <tr>\n",
       "      <th>...</th>\n",
       "      <td>...</td>\n",
       "      <td>...</td>\n",
       "      <td>...</td>\n",
       "      <td>...</td>\n",
       "      <td>...</td>\n",
       "      <td>...</td>\n",
       "      <td>...</td>\n",
       "      <td>...</td>\n",
       "      <td>...</td>\n",
       "      <td>...</td>\n",
       "      <td>...</td>\n",
       "      <td>...</td>\n",
       "      <td>...</td>\n",
       "      <td>...</td>\n",
       "      <td>...</td>\n",
       "      <td>...</td>\n",
       "    </tr>\n",
       "    <tr>\n",
       "      <th>2162</th>\n",
       "      <td>091b5987-73d5-96ed-bbb1-6fedffdcba86</td>\n",
       "      <td>2024-11-30 15:33:38+00:00</td>\n",
       "      <td>2024-11-30 15:48:38+00:00</td>\n",
       "      <td>faa32210-cefe-9df6-bac3-ba195e4d7247</td>\n",
       "      <td>ab16be57-62ea-39a5-8f7a-ee1285cf6934</td>\n",
       "      <td>c02068e9-4fd9-3809-bc32-6ff19ff27bcb</td>\n",
       "      <td>26aab0cd-6aba-3e1b-ac5b-05c8867e762c</td>\n",
       "      <td>ambulatory</td>\n",
       "      <td>424619006</td>\n",
       "      <td>Prenatal visit (regime/therapy)</td>\n",
       "      <td>142.58</td>\n",
       "      <td>18236.08</td>\n",
       "      <td>18236.08</td>\n",
       "      <td>72892002.0</td>\n",
       "      <td>Normal pregnancy (finding)</td>\n",
       "      <td>False</td>\n",
       "    </tr>\n",
       "    <tr>\n",
       "      <th>2166</th>\n",
       "      <td>b79ad78e-e12b-6e66-000b-ae9a3f1ed61f</td>\n",
       "      <td>2024-10-23 04:31:07+00:00</td>\n",
       "      <td>2024-10-23 04:46:07+00:00</td>\n",
       "      <td>3a4f7ecf-c03d-6d9d-af23-8ad9de7b7ca2</td>\n",
       "      <td>a5577e5c-b886-37a0-8eee-8ff6feb7ea6b</td>\n",
       "      <td>223e3e83-58f6-3b2a-8283-b2ad1c289991</td>\n",
       "      <td>a735bf55-83e9-331a-899d-a82a60b9f60c</td>\n",
       "      <td>ambulatory</td>\n",
       "      <td>424619006</td>\n",
       "      <td>Prenatal visit (regime/therapy)</td>\n",
       "      <td>142.58</td>\n",
       "      <td>13068.94</td>\n",
       "      <td>10455.15</td>\n",
       "      <td>72892002.0</td>\n",
       "      <td>Normal pregnancy (finding)</td>\n",
       "      <td>False</td>\n",
       "    </tr>\n",
       "    <tr>\n",
       "      <th>2168</th>\n",
       "      <td>ea8de101-a076-d03f-6413-adf5a092a254</td>\n",
       "      <td>2024-11-20 04:31:07+00:00</td>\n",
       "      <td>2024-11-20 04:46:07+00:00</td>\n",
       "      <td>3a4f7ecf-c03d-6d9d-af23-8ad9de7b7ca2</td>\n",
       "      <td>a5577e5c-b886-37a0-8eee-8ff6feb7ea6b</td>\n",
       "      <td>223e3e83-58f6-3b2a-8283-b2ad1c289991</td>\n",
       "      <td>a735bf55-83e9-331a-899d-a82a60b9f60c</td>\n",
       "      <td>ambulatory</td>\n",
       "      <td>424619006</td>\n",
       "      <td>Prenatal visit (regime/therapy)</td>\n",
       "      <td>142.58</td>\n",
       "      <td>14605.43</td>\n",
       "      <td>11684.34</td>\n",
       "      <td>72892002.0</td>\n",
       "      <td>Normal pregnancy (finding)</td>\n",
       "      <td>False</td>\n",
       "    </tr>\n",
       "    <tr>\n",
       "      <th>2169</th>\n",
       "      <td>79753b51-ad52-cb4c-1b6a-3a24a74308d7</td>\n",
       "      <td>2024-12-18 04:31:07+00:00</td>\n",
       "      <td>2024-12-18 04:46:07+00:00</td>\n",
       "      <td>3a4f7ecf-c03d-6d9d-af23-8ad9de7b7ca2</td>\n",
       "      <td>a5577e5c-b886-37a0-8eee-8ff6feb7ea6b</td>\n",
       "      <td>223e3e83-58f6-3b2a-8283-b2ad1c289991</td>\n",
       "      <td>a735bf55-83e9-331a-899d-a82a60b9f60c</td>\n",
       "      <td>ambulatory</td>\n",
       "      <td>424619006</td>\n",
       "      <td>Prenatal visit (regime/therapy)</td>\n",
       "      <td>142.58</td>\n",
       "      <td>7484.47</td>\n",
       "      <td>5987.57</td>\n",
       "      <td>72892002.0</td>\n",
       "      <td>Normal pregnancy (finding)</td>\n",
       "      <td>False</td>\n",
       "    </tr>\n",
       "    <tr>\n",
       "      <th>2174</th>\n",
       "      <td>11a0ddb6-0c7a-92c5-50a0-a93d6de9a42f</td>\n",
       "      <td>2024-12-02 15:58:38+00:00</td>\n",
       "      <td>2024-12-02 16:13:38+00:00</td>\n",
       "      <td>d722b722-99ef-37a7-f021-46a3afdca6d1</td>\n",
       "      <td>352f2e3b-0708-3eb4-9f7e-e73a685bf379</td>\n",
       "      <td>bf37e7f1-f7f7-320b-914c-b35197ad78f6</td>\n",
       "      <td>e03e23c9-4df1-3eb6-a62d-f70f02301496</td>\n",
       "      <td>ambulatory</td>\n",
       "      <td>424619006</td>\n",
       "      <td>Prenatal visit (regime/therapy)</td>\n",
       "      <td>142.58</td>\n",
       "      <td>19098.88</td>\n",
       "      <td>0.00</td>\n",
       "      <td>72892002.0</td>\n",
       "      <td>Normal pregnancy (finding)</td>\n",
       "      <td>False</td>\n",
       "    </tr>\n",
       "  </tbody>\n",
       "</table>\n",
       "<p>731 rows × 16 columns</p>\n",
       "</div>"
      ],
      "text/plain": [
       "                                        Id                     START  \\\n",
       "7     eec0010f-e79c-f8ce-0f40-4bfda83aa93c 2024-10-17 14:59:14+00:00   \n",
       "8     e7ed1b59-5a3a-21db-2c6a-694304854ba4 2024-11-14 14:59:14+00:00   \n",
       "9     0ea068c2-5f08-754a-76ae-08078f1a1854 2024-12-12 14:59:14+00:00   \n",
       "14    3006dcd8-f7d3-fede-4c4e-7b46c0c860b1 2024-09-12 18:23:00+00:00   \n",
       "15    ae8a274f-8609-4777-1af1-dd3e53caa05c 2024-10-10 18:23:00+00:00   \n",
       "...                                    ...                       ...   \n",
       "2162  091b5987-73d5-96ed-bbb1-6fedffdcba86 2024-11-30 15:33:38+00:00   \n",
       "2166  b79ad78e-e12b-6e66-000b-ae9a3f1ed61f 2024-10-23 04:31:07+00:00   \n",
       "2168  ea8de101-a076-d03f-6413-adf5a092a254 2024-11-20 04:31:07+00:00   \n",
       "2169  79753b51-ad52-cb4c-1b6a-3a24a74308d7 2024-12-18 04:31:07+00:00   \n",
       "2174  11a0ddb6-0c7a-92c5-50a0-a93d6de9a42f 2024-12-02 15:58:38+00:00   \n",
       "\n",
       "                          STOP                               PATIENT  \\\n",
       "7    2024-10-17 15:14:14+00:00  d778d02c-1b71-582e-0c64-e9ce715996fc   \n",
       "8    2024-11-14 15:14:14+00:00  d778d02c-1b71-582e-0c64-e9ce715996fc   \n",
       "9    2024-12-12 15:14:14+00:00  d778d02c-1b71-582e-0c64-e9ce715996fc   \n",
       "14   2024-09-12 18:38:00+00:00  ff3708b4-748c-ae52-2430-bc60dd9fb5dd   \n",
       "15   2024-10-10 18:38:00+00:00  ff3708b4-748c-ae52-2430-bc60dd9fb5dd   \n",
       "...                        ...                                   ...   \n",
       "2162 2024-11-30 15:48:38+00:00  faa32210-cefe-9df6-bac3-ba195e4d7247   \n",
       "2166 2024-10-23 04:46:07+00:00  3a4f7ecf-c03d-6d9d-af23-8ad9de7b7ca2   \n",
       "2168 2024-11-20 04:46:07+00:00  3a4f7ecf-c03d-6d9d-af23-8ad9de7b7ca2   \n",
       "2169 2024-12-18 04:46:07+00:00  3a4f7ecf-c03d-6d9d-af23-8ad9de7b7ca2   \n",
       "2174 2024-12-02 16:13:38+00:00  d722b722-99ef-37a7-f021-46a3afdca6d1   \n",
       "\n",
       "                              ORGANIZATION  \\\n",
       "7     9d989fcf-4ad9-3972-ada3-f275d967781e   \n",
       "8     9d989fcf-4ad9-3972-ada3-f275d967781e   \n",
       "9     9d989fcf-4ad9-3972-ada3-f275d967781e   \n",
       "14    0d9b0d22-585e-3fd8-ab02-26b5be7915d1   \n",
       "15    0d9b0d22-585e-3fd8-ab02-26b5be7915d1   \n",
       "...                                    ...   \n",
       "2162  ab16be57-62ea-39a5-8f7a-ee1285cf6934   \n",
       "2166  a5577e5c-b886-37a0-8eee-8ff6feb7ea6b   \n",
       "2168  a5577e5c-b886-37a0-8eee-8ff6feb7ea6b   \n",
       "2169  a5577e5c-b886-37a0-8eee-8ff6feb7ea6b   \n",
       "2174  352f2e3b-0708-3eb4-9f7e-e73a685bf379   \n",
       "\n",
       "                                  PROVIDER  \\\n",
       "7     dc678fc2-279d-3be8-be3f-b28dc4e317fb   \n",
       "8     dc678fc2-279d-3be8-be3f-b28dc4e317fb   \n",
       "9     dc678fc2-279d-3be8-be3f-b28dc4e317fb   \n",
       "14    22f5aefd-a242-3292-89ee-00b423462eff   \n",
       "15    22f5aefd-a242-3292-89ee-00b423462eff   \n",
       "...                                    ...   \n",
       "2162  c02068e9-4fd9-3809-bc32-6ff19ff27bcb   \n",
       "2166  223e3e83-58f6-3b2a-8283-b2ad1c289991   \n",
       "2168  223e3e83-58f6-3b2a-8283-b2ad1c289991   \n",
       "2169  223e3e83-58f6-3b2a-8283-b2ad1c289991   \n",
       "2174  bf37e7f1-f7f7-320b-914c-b35197ad78f6   \n",
       "\n",
       "                                     PAYER ENCOUNTERCLASS       CODE  \\\n",
       "7     8fa6c185-e44e-3e34-8bd8-39be8694f4ce     ambulatory  424619006   \n",
       "8     8fa6c185-e44e-3e34-8bd8-39be8694f4ce     ambulatory  424619006   \n",
       "9     8fa6c185-e44e-3e34-8bd8-39be8694f4ce     ambulatory  424619006   \n",
       "14    df166300-5a78-3502-a46a-832842197811     ambulatory  424619006   \n",
       "15    df166300-5a78-3502-a46a-832842197811     ambulatory  424619006   \n",
       "...                                    ...            ...        ...   \n",
       "2162  26aab0cd-6aba-3e1b-ac5b-05c8867e762c     ambulatory  424619006   \n",
       "2166  a735bf55-83e9-331a-899d-a82a60b9f60c     ambulatory  424619006   \n",
       "2168  a735bf55-83e9-331a-899d-a82a60b9f60c     ambulatory  424619006   \n",
       "2169  a735bf55-83e9-331a-899d-a82a60b9f60c     ambulatory  424619006   \n",
       "2174  e03e23c9-4df1-3eb6-a62d-f70f02301496     ambulatory  424619006   \n",
       "\n",
       "                          DESCRIPTION  BASE_ENCOUNTER_COST  TOTAL_CLAIM_COST  \\\n",
       "7     Prenatal visit (regime/therapy)               142.58          10091.82   \n",
       "8     Prenatal visit (regime/therapy)               142.58           8548.56   \n",
       "9     Prenatal visit (regime/therapy)               142.58          11451.02   \n",
       "14    Prenatal visit (regime/therapy)               142.58          10870.23   \n",
       "15    Prenatal visit (regime/therapy)               142.58          13595.53   \n",
       "...                               ...                  ...               ...   \n",
       "2162  Prenatal visit (regime/therapy)               142.58          18236.08   \n",
       "2166  Prenatal visit (regime/therapy)               142.58          13068.94   \n",
       "2168  Prenatal visit (regime/therapy)               142.58          14605.43   \n",
       "2169  Prenatal visit (regime/therapy)               142.58           7484.47   \n",
       "2174  Prenatal visit (regime/therapy)               142.58          19098.88   \n",
       "\n",
       "      PAYER_COVERAGE  REASONCODE           REASONDESCRIPTION  \\\n",
       "7           10091.82  72892002.0  Normal pregnancy (finding)   \n",
       "8            8548.56  72892002.0  Normal pregnancy (finding)   \n",
       "9            4865.71  72892002.0  Normal pregnancy (finding)   \n",
       "14          10720.23  72892002.0  Normal pregnancy (finding)   \n",
       "15          13545.53  72892002.0  Normal pregnancy (finding)   \n",
       "...              ...         ...                         ...   \n",
       "2162        18236.08  72892002.0  Normal pregnancy (finding)   \n",
       "2166        10455.15  72892002.0  Normal pregnancy (finding)   \n",
       "2168        11684.34  72892002.0  Normal pregnancy (finding)   \n",
       "2169         5987.57  72892002.0  Normal pregnancy (finding)   \n",
       "2174            0.00  72892002.0  Normal pregnancy (finding)   \n",
       "\n",
       "      antenatal_careplan  \n",
       "7                   True  \n",
       "8                   True  \n",
       "9                   True  \n",
       "14                  True  \n",
       "15                  True  \n",
       "...                  ...  \n",
       "2162               False  \n",
       "2166               False  \n",
       "2168               False  \n",
       "2169               False  \n",
       "2174               False  \n",
       "\n",
       "[731 rows x 16 columns]"
      ]
     },
     "execution_count": 297,
     "metadata": {},
     "output_type": "execute_result"
    }
   ],
   "source": [
    "encountersFiltered.query(\"CODE == 424619006 or CODE == 183460006\")"
   ]
  },
  {
   "cell_type": "markdown",
   "id": "1244415f-a0cd-4ea2-bbe8-3978f4fa10e5",
   "metadata": {},
   "source": [
    "### Distribución visitas mensualmente"
   ]
  },
  {
   "cell_type": "code",
   "execution_count": 300,
   "id": "0177eca3-b07b-4512-8c04-627ce6679ced",
   "metadata": {},
   "outputs": [
    {
     "name": "stderr",
     "output_type": "stream",
     "text": [
      "C:\\Users\\virginia.anton\\AppData\\Local\\Temp\\ipykernel_31524\\1790469152.py:2: UserWarning:\n",
      "\n",
      "Converting to PeriodArray/Index representation will drop timezone information.\n",
      "\n"
     ]
    },
    {
     "data": {
      "image/png": "[encoded data removed]",
      "text/plain": [
       "<Figure size 1200x600 with 1 Axes>"
      ]
     },
     "metadata": {},
     "output_type": "display_data"
    }
   ],
   "source": [
    "#creamos una columna auxiliar por mes y año:\n",
    "encountersFiltered['Month_Year'] = encountersFiltered['START'].dt.to_period('M')\n",
    "\n",
    "#número de visitas por mes:\n",
    "monthly_visits = encountersFiltered['Month_Year'].value_counts().sort_index()\n",
    "\n",
    "plt.figure(figsize=(12,6))\n",
    "monthly_visits.plot(kind='bar')\n",
    "plt.title('Número de visitas por mes')\n",
    "plt.xlabel('Mes y año')\n",
    "plt.ylabel('Número de visitas')\n",
    "plt.xticks(rotation=45)\n",
    "plt.tight_layout()\n",
    "plt.show()"
   ]
  },
  {
   "cell_type": "markdown",
   "id": "09a6f3b4-85df-483f-b9c3-046810bc9a93",
   "metadata": {},
   "source": [
    "Tenemos bastantes visitas como para hacer seguimiento, vamos a mirar cuántas tiene cada usuario"
   ]
  },
  {
   "cell_type": "code",
   "execution_count": 303,
   "id": "447e5451-eed3-4012-98d2-61710aa44f05",
   "metadata": {},
   "outputs": [
    {
     "data": {
      "image/png": "[encoded data removed]",
      "text/plain": [
       "<Figure size 1000x800 with 1 Axes>"
      ]
     },
     "metadata": {},
     "output_type": "display_data"
    }
   ],
   "source": [
    "max_visits_user = encountersFiltered.groupby('PATIENT')['Id'].count()\n",
    "\n",
    "#cantidad de usuarios por cada máximo de visitas\n",
    "user_counts = max_visits_user.value_counts()\n",
    "user_percentages = (user_counts/user_counts.sum())*100\n",
    "\n",
    "plt.figure(figsize=(10,8))\n",
    "plt.pie(user_counts, labels=user_counts.index, autopct=lambda p: f'{p:.1f}%\\n({p*user_counts.sum()/100:.0f})', startangle=140)\n",
    "plt.title('\\nVisitas por Usuario\\n')\n",
    "plt.axis('equal')\n",
    "plt.legend(title='Número de Visitas', loc='upper right')\n",
    "plt.tight_layout()\n",
    "plt.show()"
   ]
  },
  {
   "cell_type": "markdown",
   "id": "23a2136c-661d-4c35-bfcf-4e83795bf38f",
   "metadata": {},
   "source": [
    "En general, las pacientes acuden más de tres veces, así, podemos descartar las que acuden menos de 3 veces, ya que apenas hay información sobre su estado. "
   ]
  },
  {
   "cell_type": "code",
   "execution_count": 306,
   "id": "fecb3379-696a-48b0-bd97-01b7b0b41e25",
   "metadata": {},
   "outputs": [],
   "source": [
    "patients_to_keep = max_visits_user[max_visits_user >= 3].index\n",
    "encountersFiltered = encountersFiltered[encountersFiltered['PATIENT'].isin(patients_to_keep)].reset_index(drop=True)"
   ]
  },
  {
   "cell_type": "code",
   "execution_count": 308,
   "id": "e4725f2f-0981-4b4f-8304-e5f9e468724e",
   "metadata": {},
   "outputs": [
    {
     "name": "stdout",
     "output_type": "stream",
     "text": [
      "<class 'pandas.core.frame.DataFrame'>\n",
      "RangeIndex: 2154 entries, 0 to 2153\n",
      "Data columns (total 17 columns):\n",
      " #   Column               Non-Null Count  Dtype              \n",
      "---  ------               --------------  -----              \n",
      " 0   Id                   2154 non-null   object             \n",
      " 1   START                2154 non-null   datetime64[ns, UTC]\n",
      " 2   STOP                 2154 non-null   datetime64[ns, UTC]\n",
      " 3   PATIENT              2154 non-null   object             \n",
      " 4   ORGANIZATION         2154 non-null   object             \n",
      " 5   PROVIDER             2154 non-null   object             \n",
      " 6   PAYER                2154 non-null   object             \n",
      " 7   ENCOUNTERCLASS       2154 non-null   object             \n",
      " 8   CODE                 2154 non-null   int64              \n",
      " 9   DESCRIPTION          2154 non-null   object             \n",
      " 10  BASE_ENCOUNTER_COST  2154 non-null   float64            \n",
      " 11  TOTAL_CLAIM_COST     2154 non-null   float64            \n",
      " 12  PAYER_COVERAGE       2154 non-null   float64            \n",
      " 13  REASONCODE           1867 non-null   float64            \n",
      " 14  REASONDESCRIPTION    1867 non-null   object             \n",
      " 15  antenatal_careplan   2154 non-null   bool               \n",
      " 16  Month_Year           2154 non-null   period[M]          \n",
      "dtypes: bool(1), datetime64[ns, UTC](2), float64(4), int64(1), object(8), period[M](1)\n",
      "memory usage: 271.5+ KB\n"
     ]
    }
   ],
   "source": [
    "encountersFiltered.info()"
   ]
  },
  {
   "cell_type": "markdown",
   "id": "5ae79b8d-a521-47f4-8ca8-05c5d24159f4",
   "metadata": {},
   "source": [
    "Vemos si falta algun identificador de usuario en la fila PATIENT:"
   ]
  },
  {
   "cell_type": "code",
   "execution_count": 311,
   "id": "037d90df-6ad5-449c-a33f-143d0b9419bd",
   "metadata": {},
   "outputs": [
    {
     "data": {
      "text/plain": [
       "0"
      ]
     },
     "execution_count": 311,
     "metadata": {},
     "output_type": "execute_result"
    }
   ],
   "source": [
    "encountersFiltered['PATIENT'].isnull().sum()"
   ]
  },
  {
   "cell_type": "markdown",
   "id": "bdd5cd10-f526-47a2-aee3-5175a8374553",
   "metadata": {},
   "source": [
    "# EDA DE LOS PACIENTES"
   ]
  },
  {
   "cell_type": "code",
   "execution_count": 314,
   "id": "ba7dc0ca-de98-499c-b4ab-08de8e0ed9cb",
   "metadata": {},
   "outputs": [],
   "source": [
    "patients = patients[patients['Id'].isin(encountersFiltered['PATIENT'])]"
   ]
  },
  {
   "cell_type": "code",
   "execution_count": 316,
   "id": "0c0b595b-0b43-4854-8bd7-31e7c5f06905",
   "metadata": {},
   "outputs": [
    {
     "name": "stdout",
     "output_type": "stream",
     "text": [
      "<class 'pandas.core.frame.DataFrame'>\n",
      "Index: 206 entries, 0 to 353\n",
      "Data columns (total 28 columns):\n",
      " #   Column               Non-Null Count  Dtype  \n",
      "---  ------               --------------  -----  \n",
      " 0   Id                   206 non-null    object \n",
      " 1   BIRTHDATE            206 non-null    object \n",
      " 2   DEATHDATE            0 non-null      object \n",
      " 3   SSN                  206 non-null    object \n",
      " 4   DRIVERS              206 non-null    object \n",
      " 5   PASSPORT             182 non-null    object \n",
      " 6   PREFIX               197 non-null    object \n",
      " 7   FIRST                206 non-null    object \n",
      " 8   MIDDLE               164 non-null    object \n",
      " 9   LAST                 206 non-null    object \n",
      " 10  SUFFIX               2 non-null      object \n",
      " 11  MAIDEN               122 non-null    object \n",
      " 12  MARITAL              149 non-null    object \n",
      " 13  RACE                 206 non-null    object \n",
      " 14  ETHNICITY            206 non-null    object \n",
      " 15  GENDER               206 non-null    object \n",
      " 16  BIRTHPLACE           206 non-null    object \n",
      " 17  ADDRESS              206 non-null    object \n",
      " 18  CITY                 206 non-null    object \n",
      " 19  STATE                206 non-null    object \n",
      " 20  COUNTY               206 non-null    object \n",
      " 21  FIPS                 156 non-null    float64\n",
      " 22  ZIP                  206 non-null    int64  \n",
      " 23  LAT                  206 non-null    float64\n",
      " 24  LON                  206 non-null    float64\n",
      " 25  HEALTHCARE_EXPENSES  206 non-null    float64\n",
      " 26  HEALTHCARE_COVERAGE  206 non-null    float64\n",
      " 27  INCOME               206 non-null    int64  \n",
      "dtypes: float64(5), int64(2), object(21)\n",
      "memory usage: 46.7+ KB\n"
     ]
    }
   ],
   "source": [
    "patients.info()"
   ]
  },
  {
   "cell_type": "code",
   "execution_count": 318,
   "id": "dd868ce6-fd40-4197-a15b-f9aacb589086",
   "metadata": {},
   "outputs": [
    {
     "data": {
      "text/html": [
       "<div>\n",
       "<style scoped>\n",
       "    .dataframe tbody tr th:only-of-type {\n",
       "        vertical-align: middle;\n",
       "    }\n",
       "\n",
       "    .dataframe tbody tr th {\n",
       "        vertical-align: top;\n",
       "    }\n",
       "\n",
       "    .dataframe thead th {\n",
       "        text-align: right;\n",
       "    }\n",
       "</style>\n",
       "<table border=\"1\" class=\"dataframe\">\n",
       "  <thead>\n",
       "    <tr style=\"text-align: right;\">\n",
       "      <th></th>\n",
       "      <th>Id</th>\n",
       "      <th>BIRTHDATE</th>\n",
       "      <th>DEATHDATE</th>\n",
       "      <th>SSN</th>\n",
       "      <th>DRIVERS</th>\n",
       "      <th>PASSPORT</th>\n",
       "      <th>PREFIX</th>\n",
       "      <th>FIRST</th>\n",
       "      <th>MIDDLE</th>\n",
       "      <th>LAST</th>\n",
       "      <th>...</th>\n",
       "      <th>CITY</th>\n",
       "      <th>STATE</th>\n",
       "      <th>COUNTY</th>\n",
       "      <th>FIPS</th>\n",
       "      <th>ZIP</th>\n",
       "      <th>LAT</th>\n",
       "      <th>LON</th>\n",
       "      <th>HEALTHCARE_EXPENSES</th>\n",
       "      <th>HEALTHCARE_COVERAGE</th>\n",
       "      <th>INCOME</th>\n",
       "    </tr>\n",
       "  </thead>\n",
       "  <tbody>\n",
       "    <tr>\n",
       "      <th>0</th>\n",
       "      <td>958cbaed-4a32-40ff-f2ee-d55edc4f7611</td>\n",
       "      <td>2003-10-13</td>\n",
       "      <td>NaN</td>\n",
       "      <td>999-46-5780</td>\n",
       "      <td>S99985773</td>\n",
       "      <td>X43751887X</td>\n",
       "      <td>Ms.</td>\n",
       "      <td>Sol312</td>\n",
       "      <td>Ciara810</td>\n",
       "      <td>Baumbach677</td>\n",
       "      <td>...</td>\n",
       "      <td>Tyngsborough</td>\n",
       "      <td>Massachusetts</td>\n",
       "      <td>Middlesex County</td>\n",
       "      <td>NaN</td>\n",
       "      <td>0</td>\n",
       "      <td>42.678887</td>\n",
       "      <td>-71.466652</td>\n",
       "      <td>83748.67</td>\n",
       "      <td>8386.12</td>\n",
       "      <td>847165</td>\n",
       "    </tr>\n",
       "    <tr>\n",
       "      <th>1</th>\n",
       "      <td>d778d02c-1b71-582e-0c64-e9ce715996fc</td>\n",
       "      <td>2004-12-09</td>\n",
       "      <td>NaN</td>\n",
       "      <td>999-44-8153</td>\n",
       "      <td>S99922963</td>\n",
       "      <td>X17785689X</td>\n",
       "      <td>Ms.</td>\n",
       "      <td>Irma773</td>\n",
       "      <td>Terresa418</td>\n",
       "      <td>Shields502</td>\n",
       "      <td>...</td>\n",
       "      <td>Barnstable</td>\n",
       "      <td>Massachusetts</td>\n",
       "      <td>Barnstable County</td>\n",
       "      <td>25001.0</td>\n",
       "      <td>2648</td>\n",
       "      <td>41.712246</td>\n",
       "      <td>-70.451110</td>\n",
       "      <td>80934.70</td>\n",
       "      <td>70863.00</td>\n",
       "      <td>62412</td>\n",
       "    </tr>\n",
       "    <tr>\n",
       "      <th>2</th>\n",
       "      <td>ff3708b4-748c-ae52-2430-bc60dd9fb5dd</td>\n",
       "      <td>1991-09-05</td>\n",
       "      <td>NaN</td>\n",
       "      <td>999-31-9506</td>\n",
       "      <td>S99963368</td>\n",
       "      <td>X48163920X</td>\n",
       "      <td>Mrs.</td>\n",
       "      <td>Rocio28</td>\n",
       "      <td>Ángela136</td>\n",
       "      <td>Bermúdez789</td>\n",
       "      <td>...</td>\n",
       "      <td>Chicopee</td>\n",
       "      <td>Massachusetts</td>\n",
       "      <td>Hampden County</td>\n",
       "      <td>25013.0</td>\n",
       "      <td>1020</td>\n",
       "      <td>42.175006</td>\n",
       "      <td>-72.570417</td>\n",
       "      <td>10853.87</td>\n",
       "      <td>707739.51</td>\n",
       "      <td>1348</td>\n",
       "    </tr>\n",
       "    <tr>\n",
       "      <th>4</th>\n",
       "      <td>6da671b7-6462-2ced-5b86-5b0fced4308b</td>\n",
       "      <td>1974-02-04</td>\n",
       "      <td>NaN</td>\n",
       "      <td>999-31-4155</td>\n",
       "      <td>S99970004</td>\n",
       "      <td>X2187110X</td>\n",
       "      <td>Mrs.</td>\n",
       "      <td>Olympia319</td>\n",
       "      <td>Pamula578</td>\n",
       "      <td>Huels583</td>\n",
       "      <td>...</td>\n",
       "      <td>Revere</td>\n",
       "      <td>Massachusetts</td>\n",
       "      <td>Suffolk County</td>\n",
       "      <td>25025.0</td>\n",
       "      <td>2151</td>\n",
       "      <td>42.461726</td>\n",
       "      <td>-71.000002</td>\n",
       "      <td>186763.75</td>\n",
       "      <td>853299.76</td>\n",
       "      <td>26068</td>\n",
       "    </tr>\n",
       "    <tr>\n",
       "      <th>6</th>\n",
       "      <td>4551d27f-d5fc-2b84-1f53-74645d8ba7db</td>\n",
       "      <td>1994-12-08</td>\n",
       "      <td>NaN</td>\n",
       "      <td>999-91-4820</td>\n",
       "      <td>S99959729</td>\n",
       "      <td>X8802711X</td>\n",
       "      <td>Mrs.</td>\n",
       "      <td>Sheryll569</td>\n",
       "      <td>Serafina151</td>\n",
       "      <td>Rodriguez71</td>\n",
       "      <td>...</td>\n",
       "      <td>Dalton</td>\n",
       "      <td>Massachusetts</td>\n",
       "      <td>Berkshire County</td>\n",
       "      <td>NaN</td>\n",
       "      <td>0</td>\n",
       "      <td>42.481856</td>\n",
       "      <td>-73.144685</td>\n",
       "      <td>115829.11</td>\n",
       "      <td>561024.32</td>\n",
       "      <td>78813</td>\n",
       "    </tr>\n",
       "  </tbody>\n",
       "</table>\n",
       "<p>5 rows × 28 columns</p>\n",
       "</div>"
      ],
      "text/plain": [
       "                                     Id   BIRTHDATE DEATHDATE          SSN  \\\n",
       "0  958cbaed-4a32-40ff-f2ee-d55edc4f7611  2003-10-13       NaN  999-46-5780   \n",
       "1  d778d02c-1b71-582e-0c64-e9ce715996fc  2004-12-09       NaN  999-44-8153   \n",
       "2  ff3708b4-748c-ae52-2430-bc60dd9fb5dd  1991-09-05       NaN  999-31-9506   \n",
       "4  6da671b7-6462-2ced-5b86-5b0fced4308b  1974-02-04       NaN  999-31-4155   \n",
       "6  4551d27f-d5fc-2b84-1f53-74645d8ba7db  1994-12-08       NaN  999-91-4820   \n",
       "\n",
       "     DRIVERS    PASSPORT PREFIX       FIRST       MIDDLE         LAST  ...  \\\n",
       "0  S99985773  X43751887X    Ms.      Sol312     Ciara810  Baumbach677  ...   \n",
       "1  S99922963  X17785689X    Ms.     Irma773   Terresa418   Shields502  ...   \n",
       "2  S99963368  X48163920X   Mrs.     Rocio28    Ángela136  Bermúdez789  ...   \n",
       "4  S99970004   X2187110X   Mrs.  Olympia319    Pamula578     Huels583  ...   \n",
       "6  S99959729   X8802711X   Mrs.  Sheryll569  Serafina151  Rodriguez71  ...   \n",
       "\n",
       "           CITY          STATE             COUNTY     FIPS   ZIP        LAT  \\\n",
       "0  Tyngsborough  Massachusetts   Middlesex County      NaN     0  42.678887   \n",
       "1    Barnstable  Massachusetts  Barnstable County  25001.0  2648  41.712246   \n",
       "2      Chicopee  Massachusetts     Hampden County  25013.0  1020  42.175006   \n",
       "4        Revere  Massachusetts     Suffolk County  25025.0  2151  42.461726   \n",
       "6        Dalton  Massachusetts   Berkshire County      NaN     0  42.481856   \n",
       "\n",
       "         LON HEALTHCARE_EXPENSES HEALTHCARE_COVERAGE  INCOME  \n",
       "0 -71.466652            83748.67             8386.12  847165  \n",
       "1 -70.451110            80934.70            70863.00   62412  \n",
       "2 -72.570417            10853.87           707739.51    1348  \n",
       "4 -71.000002           186763.75           853299.76   26068  \n",
       "6 -73.144685           115829.11           561024.32   78813  \n",
       "\n",
       "[5 rows x 28 columns]"
      ]
     },
     "execution_count": 318,
     "metadata": {},
     "output_type": "execute_result"
    }
   ],
   "source": [
    "patients.head()"
   ]
  },
  {
   "cell_type": "code",
   "execution_count": 320,
   "id": "f148a2b6-8895-4ca7-8600-571e623b8b77",
   "metadata": {},
   "outputs": [
    {
     "data": {
      "application/vnd.plotly.v1+json": {
       "config": {
        "plotlyServerURL": "https://plot.ly"
       },
       "data": [
        {
         "alignmentgroup": "True",
         "bingroup": "x",
         "hovertemplate": "COUNTY=%{x}<br>count=%{y}<extra></extra>",
         "legendgroup": "",
         "marker": {
          "color": "#636efa",
          "pattern": {
           "shape": ""
          }
         },
         "name": "",
         "offsetgroup": "",
         "orientation": "v",
         "showlegend": false,
         "type": "histogram",
         "x": [
          "Middlesex County",
          "Barnstable County",
          "Hampden County",
          "Suffolk County",
          "Berkshire County",
          "Essex County",
          "Middlesex County",
          "Suffolk County",
          "Suffolk County",
          "Plymouth County",
          "Norfolk County",
          "Berkshire County",
          "Suffolk County",
          "Norfolk County",
          "Bristol County",
          "Bristol County",
          "Middlesex County",
          "Hampshire County",
          "Barnstable County",
          "Bristol County",
          "Hampden County",
          "Middlesex County",
          "Worcester County",
          "Hampshire County",
          "Hampden County",
          "Hampden County",
          "Suffolk County",
          "Norfolk County",
          "Middlesex County",
          "Middlesex County",
          "Bristol County",
          "Suffolk County",
          "Plymouth County",
          "Plymouth County",
          "Middlesex County",
          "Worcester County",
          "Norfolk County",
          "Essex County",
          "Essex County",
          "Middlesex County",
          "Suffolk County",
          "Norfolk County",
          "Worcester County",
          "Worcester County",
          "Bristol County",
          "Middlesex County",
          "Berkshire County",
          "Barnstable County",
          "Middlesex County",
          "Hampshire County",
          "Essex County",
          "Hampden County",
          "Suffolk County",
          "Norfolk County",
          "Hampden County",
          "Bristol County",
          "Middlesex County",
          "Bristol County",
          "Worcester County",
          "Plymouth County",
          "Plymouth County",
          "Middlesex County",
          "Norfolk County",
          "Plymouth County",
          "Norfolk County",
          "Middlesex County",
          "Middlesex County",
          "Suffolk County",
          "Middlesex County",
          "Norfolk County",
          "Hampden County",
          "Worcester County",
          "Barnstable County",
          "Worcester County",
          "Bristol County",
          "Norfolk County",
          "Dukes County",
          "Hampshire County",
          "Bristol County",
          "Suffolk County",
          "Middlesex County",
          "Suffolk County",
          "Worcester County",
          "Middlesex County",
          "Bristol County",
          "Worcester County",
          "Middlesex County",
          "Barnstable County",
          "Middlesex County",
          "Worcester County",
          "Bristol County",
          "Bristol County",
          "Suffolk County",
          "Suffolk County",
          "Essex County",
          "Hampshire County",
          "Essex County",
          "Hampden County",
          "Plymouth County",
          "Norfolk County",
          "Suffolk County",
          "Berkshire County",
          "Worcester County",
          "Middlesex County",
          "Hampden County",
          "Suffolk County",
          "Hampden County",
          "Middlesex County",
          "Essex County",
          "Essex County",
          "Hampden County",
          "Hampshire County",
          "Middlesex County",
          "Plymouth County",
          "Plymouth County",
          "Middlesex County",
          "Middlesex County",
          "Middlesex County",
          "Essex County",
          "Middlesex County",
          "Barnstable County",
          "Hampden County",
          "Middlesex County",
          "Hampden County",
          "Essex County",
          "Norfolk County",
          "Bristol County",
          "Bristol County",
          "Norfolk County",
          "Bristol County",
          "Plymouth County",
          "Suffolk County",
          "Suffolk County",
          "Hampden County",
          "Norfolk County",
          "Suffolk County",
          "Worcester County",
          "Worcester County",
          "Middlesex County",
          "Barnstable County",
          "Norfolk County",
          "Middlesex County",
          "Nantucket County",
          "Suffolk County",
          "Middlesex County",
          "Suffolk County",
          "Middlesex County",
          "Middlesex County",
          "Berkshire County",
          "Essex County",
          "Norfolk County",
          "Essex County",
          "Suffolk County",
          "Worcester County",
          "Middlesex County",
          "Hampshire County",
          "Hampshire County",
          "Barnstable County",
          "Essex County",
          "Barnstable County",
          "Worcester County",
          "Middlesex County",
          "Bristol County",
          "Norfolk County",
          "Franklin County",
          "Hampden County",
          "Franklin County",
          "Middlesex County",
          "Worcester County",
          "Middlesex County",
          "Middlesex County",
          "Plymouth County",
          "Berkshire County",
          "Middlesex County",
          "Essex County",
          "Norfolk County",
          "Hampshire County",
          "Suffolk County",
          "Suffolk County",
          "Essex County",
          "Bristol County",
          "Bristol County",
          "Barnstable County",
          "Middlesex County",
          "Dukes County",
          "Middlesex County",
          "Suffolk County",
          "Suffolk County",
          "Worcester County",
          "Middlesex County",
          "Plymouth County",
          "Hampshire County",
          "Bristol County",
          "Suffolk County",
          "Essex County",
          "Bristol County",
          "Suffolk County",
          "Essex County",
          "Norfolk County",
          "Suffolk County",
          "Middlesex County",
          "Barnstable County",
          "Middlesex County",
          "Worcester County",
          "Suffolk County",
          "Middlesex County"
         ],
         "xaxis": "x",
         "yaxis": "y"
        }
       ],
       "layout": {
        "autosize": true,
        "barmode": "relative",
        "legend": {
         "tracegroupgap": 0
        },
        "margin": {
         "t": 60
        },
        "template": {
         "data": {
          "bar": [
           {
            "error_x": {
             "color": "#2a3f5f"
            },
            "error_y": {
             "color": "#2a3f5f"
            },
            "marker": {
             "line": {
              "color": "#E5ECF6",
              "width": 0.5
             },
             "pattern": {
              "fillmode": "overlay",
              "size": 10,
              "solidity": 0.2
             }
            },
            "type": "bar"
           }
          ],
          "barpolar": [
           {
            "marker": {
             "line": {
              "color": "#E5ECF6",
              "width": 0.5
             },
             "pattern": {
              "fillmode": "overlay",
              "size": 10,
              "solidity": 0.2
             }
            },
            "type": "barpolar"
           }
          ],
          "carpet": [
           {
            "aaxis": {
             "endlinecolor": "#2a3f5f",
             "gridcolor": "white",
             "linecolor": "white",
             "minorgridcolor": "white",
             "startlinecolor": "#2a3f5f"
            },
            "baxis": {
             "endlinecolor": "#2a3f5f",
             "gridcolor": "white",
             "linecolor": "white",
             "minorgridcolor": "white",
             "startlinecolor": "#2a3f5f"
            },
            "type": "carpet"
           }
          ],
          "choropleth": [
           {
            "colorbar": {
             "outlinewidth": 0,
             "ticks": ""
            },
            "type": "choropleth"
           }
          ],
          "contour": [
           {
            "colorbar": {
             "outlinewidth": 0,
             "ticks": ""
            },
            "colorscale": [
             [
              0,
              "#0d0887"
             ],
             [
              0.1111111111111111,
              "#46039f"
             ],
             [
              0.2222222222222222,
              "#7201a8"
             ],
             [
              0.3333333333333333,
              "#9c179e"
             ],
             [
              0.4444444444444444,
              "#bd3786"
             ],
             [
              0.5555555555555556,
              "#d8576b"
             ],
             [
              0.6666666666666666,
              "#ed7953"
             ],
             [
              0.7777777777777778,
              "#fb9f3a"
             ],
             [
              0.8888888888888888,
              "#fdca26"
             ],
             [
              1,
              "#f0f921"
             ]
            ],
            "type": "contour"
           }
          ],
          "contourcarpet": [
           {
            "colorbar": {
             "outlinewidth": 0,
             "ticks": ""
            },
            "type": "contourcarpet"
           }
          ],
          "heatmap": [
           {
            "colorbar": {
             "outlinewidth": 0,
             "ticks": ""
            },
            "colorscale": [
             [
              0,
              "#0d0887"
             ],
             [
              0.1111111111111111,
              "#46039f"
             ],
             [
              0.2222222222222222,
              "#7201a8"
             ],
             [
              0.3333333333333333,
              "#9c179e"
             ],
             [
              0.4444444444444444,
              "#bd3786"
             ],
             [
              0.5555555555555556,
              "#d8576b"
             ],
             [
              0.6666666666666666,
              "#ed7953"
             ],
             [
              0.7777777777777778,
              "#fb9f3a"
             ],
             [
              0.8888888888888888,
              "#fdca26"
             ],
             [
              1,
              "#f0f921"
             ]
            ],
            "type": "heatmap"
           }
          ],
          "heatmapgl": [
           {
            "colorbar": {
             "outlinewidth": 0,
             "ticks": ""
            },
            "colorscale": [
             [
              0,
              "#0d0887"
             ],
             [
              0.1111111111111111,
              "#46039f"
             ],
             [
              0.2222222222222222,
              "#7201a8"
             ],
             [
              0.3333333333333333,
              "#9c179e"
             ],
             [
              0.4444444444444444,
              "#bd3786"
             ],
             [
              0.5555555555555556,
              "#d8576b"
             ],
             [
              0.6666666666666666,
              "#ed7953"
             ],
             [
              0.7777777777777778,
              "#fb9f3a"
             ],
             [
              0.8888888888888888,
              "#fdca26"
             ],
             [
              1,
              "#f0f921"
             ]
            ],
            "type": "heatmapgl"
           }
          ],
          "histogram": [
           {
            "marker": {
             "pattern": {
              "fillmode": "overlay",
              "size": 10,
              "solidity": 0.2
             }
            },
            "type": "histogram"
           }
          ],
          "histogram2d": [
           {
            "colorbar": {
             "outlinewidth": 0,
             "ticks": ""
            },
            "colorscale": [
             [
              0,
              "#0d0887"
             ],
             [
              0.1111111111111111,
              "#46039f"
             ],
             [
              0.2222222222222222,
              "#7201a8"
             ],
             [
              0.3333333333333333,
              "#9c179e"
             ],
             [
              0.4444444444444444,
              "#bd3786"
             ],
             [
              0.5555555555555556,
              "#d8576b"
             ],
             [
              0.6666666666666666,
              "#ed7953"
             ],
             [
              0.7777777777777778,
              "#fb9f3a"
             ],
             [
              0.8888888888888888,
              "#fdca26"
             ],
             [
              1,
              "#f0f921"
             ]
            ],
            "type": "histogram2d"
           }
          ],
          "histogram2dcontour": [
           {
            "colorbar": {
             "outlinewidth": 0,
             "ticks": ""
            },
            "colorscale": [
             [
              0,
              "#0d0887"
             ],
             [
              0.1111111111111111,
              "#46039f"
             ],
             [
              0.2222222222222222,
              "#7201a8"
             ],
             [
              0.3333333333333333,
              "#9c179e"
             ],
             [
              0.4444444444444444,
              "#bd3786"
             ],
             [
              0.5555555555555556,
              "#d8576b"
             ],
             [
              0.6666666666666666,
              "#ed7953"
             ],
             [
              0.7777777777777778,
              "#fb9f3a"
             ],
             [
              0.8888888888888888,
              "#fdca26"
             ],
             [
              1,
              "#f0f921"
             ]
            ],
            "type": "histogram2dcontour"
           }
          ],
          "mesh3d": [
           {
            "colorbar": {
             "outlinewidth": 0,
             "ticks": ""
            },
            "type": "mesh3d"
           }
          ],
          "parcoords": [
           {
            "line": {
             "colorbar": {
              "outlinewidth": 0,
              "ticks": ""
             }
            },
            "type": "parcoords"
           }
          ],
          "pie": [
           {
            "automargin": true,
            "type": "pie"
           }
          ],
          "scatter": [
           {
            "fillpattern": {
             "fillmode": "overlay",
             "size": 10,
             "solidity": 0.2
            },
            "type": "scatter"
           }
          ],
          "scatter3d": [
           {
            "line": {
             "colorbar": {
              "outlinewidth": 0,
              "ticks": ""
             }
            },
            "marker": {
             "colorbar": {
              "outlinewidth": 0,
              "ticks": ""
             }
            },
            "type": "scatter3d"
           }
          ],
          "scattercarpet": [
           {
            "marker": {
             "colorbar": {
              "outlinewidth": 0,
              "ticks": ""
             }
            },
            "type": "scattercarpet"
           }
          ],
          "scattergeo": [
           {
            "marker": {
             "colorbar": {
              "outlinewidth": 0,
              "ticks": ""
             }
            },
            "type": "scattergeo"
           }
          ],
          "scattergl": [
           {
            "marker": {
             "colorbar": {
              "outlinewidth": 0,
              "ticks": ""
             }
            },
            "type": "scattergl"
           }
          ],
          "scattermapbox": [
           {
            "marker": {
             "colorbar": {
              "outlinewidth": 0,
              "ticks": ""
             }
            },
            "type": "scattermapbox"
           }
          ],
          "scatterpolar": [
           {
            "marker": {
             "colorbar": {
              "outlinewidth": 0,
              "ticks": ""
             }
            },
            "type": "scatterpolar"
           }
          ],
          "scatterpolargl": [
           {
            "marker": {
             "colorbar": {
              "outlinewidth": 0,
              "ticks": ""
             }
            },
            "type": "scatterpolargl"
           }
          ],
          "scatterternary": [
           {
            "marker": {
             "colorbar": {
              "outlinewidth": 0,
              "ticks": ""
             }
            },
            "type": "scatterternary"
           }
          ],
          "surface": [
           {
            "colorbar": {
             "outlinewidth": 0,
             "ticks": ""
            },
            "colorscale": [
             [
              0,
              "#0d0887"
             ],
             [
              0.1111111111111111,
              "#46039f"
             ],
             [
              0.2222222222222222,
              "#7201a8"
             ],
             [
              0.3333333333333333,
              "#9c179e"
             ],
             [
              0.4444444444444444,
              "#bd3786"
             ],
             [
              0.5555555555555556,
              "#d8576b"
             ],
             [
              0.6666666666666666,
              "#ed7953"
             ],
             [
              0.7777777777777778,
              "#fb9f3a"
             ],
             [
              0.8888888888888888,
              "#fdca26"
             ],
             [
              1,
              "#f0f921"
             ]
            ],
            "type": "surface"
           }
          ],
          "table": [
           {
            "cells": {
             "fill": {
              "color": "#EBF0F8"
             },
             "line": {
              "color": "white"
             }
            },
            "header": {
             "fill": {
              "color": "#C8D4E3"
             },
             "line": {
              "color": "white"
             }
            },
            "type": "table"
           }
          ]
         },
         "layout": {
          "annotationdefaults": {
           "arrowcolor": "#2a3f5f",
           "arrowhead": 0,
           "arrowwidth": 1
          },
          "autotypenumbers": "strict",
          "coloraxis": {
           "colorbar": {
            "outlinewidth": 0,
            "ticks": ""
           }
          },
          "colorscale": {
           "diverging": [
            [
             0,
             "#8e0152"
            ],
            [
             0.1,
             "#c51b7d"
            ],
            [
             0.2,
             "#de77ae"
            ],
            [
             0.3,
             "#f1b6da"
            ],
            [
             0.4,
             "#fde0ef"
            ],
            [
             0.5,
             "#f7f7f7"
            ],
            [
             0.6,
             "#e6f5d0"
            ],
            [
             0.7,
             "#b8e186"
            ],
            [
             0.8,
             "#7fbc41"
            ],
            [
             0.9,
             "#4d9221"
            ],
            [
             1,
             "#276419"
            ]
           ],
           "sequential": [
            [
             0,
             "#0d0887"
            ],
            [
             0.1111111111111111,
             "#46039f"
            ],
            [
             0.2222222222222222,
             "#7201a8"
            ],
            [
             0.3333333333333333,
             "#9c179e"
            ],
            [
             0.4444444444444444,
             "#bd3786"
            ],
            [
             0.5555555555555556,
             "#d8576b"
            ],
            [
             0.6666666666666666,
             "#ed7953"
            ],
            [
             0.7777777777777778,
             "#fb9f3a"
            ],
            [
             0.8888888888888888,
             "#fdca26"
            ],
            [
             1,
             "#f0f921"
            ]
           ],
           "sequentialminus": [
            [
             0,
             "#0d0887"
            ],
            [
             0.1111111111111111,
             "#46039f"
            ],
            [
             0.2222222222222222,
             "#7201a8"
            ],
            [
             0.3333333333333333,
             "#9c179e"
            ],
            [
             0.4444444444444444,
             "#bd3786"
            ],
            [
             0.5555555555555556,
             "#d8576b"
            ],
            [
             0.6666666666666666,
             "#ed7953"
            ],
            [
             0.7777777777777778,
             "#fb9f3a"
            ],
            [
             0.8888888888888888,
             "#fdca26"
            ],
            [
             1,
             "#f0f921"
            ]
           ]
          },
          "colorway": [
           "#636efa",
           "#EF553B",
           "#00cc96",
           "#ab63fa",
           "#FFA15A",
           "#19d3f3",
           "#FF6692",
           "#B6E880",
           "#FF97FF",
           "#FECB52"
          ],
          "font": {
           "color": "#2a3f5f"
          },
          "geo": {
           "bgcolor": "white",
           "lakecolor": "white",
           "landcolor": "#E5ECF6",
           "showlakes": true,
           "showland": true,
           "subunitcolor": "white"
          },
          "hoverlabel": {
           "align": "left"
          },
          "hovermode": "closest",
          "mapbox": {
           "style": "light"
          },
          "paper_bgcolor": "white",
          "plot_bgcolor": "#E5ECF6",
          "polar": {
           "angularaxis": {
            "gridcolor": "white",
            "linecolor": "white",
            "ticks": ""
           },
           "bgcolor": "#E5ECF6",
           "radialaxis": {
            "gridcolor": "white",
            "linecolor": "white",
            "ticks": ""
           }
          },
          "scene": {
           "xaxis": {
            "backgroundcolor": "#E5ECF6",
            "gridcolor": "white",
            "gridwidth": 2,
            "linecolor": "white",
            "showbackground": true,
            "ticks": "",
            "zerolinecolor": "white"
           },
           "yaxis": {
            "backgroundcolor": "#E5ECF6",
            "gridcolor": "white",
            "gridwidth": 2,
            "linecolor": "white",
            "showbackground": true,
            "ticks": "",
            "zerolinecolor": "white"
           },
           "zaxis": {
            "backgroundcolor": "#E5ECF6",
            "gridcolor": "white",
            "gridwidth": 2,
            "linecolor": "white",
            "showbackground": true,
            "ticks": "",
            "zerolinecolor": "white"
           }
          },
          "shapedefaults": {
           "line": {
            "color": "#2a3f5f"
           }
          },
          "ternary": {
           "aaxis": {
            "gridcolor": "white",
            "linecolor": "white",
            "ticks": ""
           },
           "baxis": {
            "gridcolor": "white",
            "linecolor": "white",
            "ticks": ""
           },
           "bgcolor": "#E5ECF6",
           "caxis": {
            "gridcolor": "white",
            "linecolor": "white",
            "ticks": ""
           }
          },
          "title": {
           "x": 0.05
          },
          "xaxis": {
           "automargin": true,
           "gridcolor": "white",
           "linecolor": "white",
           "ticks": "",
           "title": {
            "standoff": 15
           },
           "zerolinecolor": "white",
           "zerolinewidth": 2
          },
          "yaxis": {
           "automargin": true,
           "gridcolor": "white",
           "linecolor": "white",
           "ticks": "",
           "title": {
            "standoff": 15
           },
           "zerolinecolor": "white",
           "zerolinewidth": 2
          }
         }
        },
        "xaxis": {
         "anchor": "y",
         "autorange": true,
         "domain": [
          0,
          1
         ],
         "range": [
          -0.5,
          13.5
         ],
         "showspikes": false,
         "title": {
          "text": "COUNTY"
         },
         "type": "category"
        },
        "yaxis": {
         "anchor": "x",
         "autorange": true,
         "domain": [
          0,
          1
         ],
         "range": [
          0,
          46.31578947368421
         ],
         "showspikes": false,
         "title": {
          "text": "count"
         }
        }
       }
      },
      "image/png": "[encoded data removed]",
      "text/html": [
       "<div>                            <div id=\"8f745154-5878-46c0-89a0-7494cae0c1fb\" class=\"plotly-graph-div\" style=\"height:525px; width:100%;\"></div>            <script type=\"text/javascript\">                require([\"plotly\"], function(Plotly) {                    window.PLOTLYENV=window.PLOTLYENV || {};                                    if (document.getElementById(\"8f745154-5878-46c0-89a0-7494cae0c1fb\")) {                    Plotly.newPlot(                        \"8f745154-5878-46c0-89a0-7494cae0c1fb\",                        [{\"alignmentgroup\":\"True\",\"bingroup\":\"x\",\"hovertemplate\":\"COUNTY=%{x}\\u003cbr\\u003ecount=%{y}\\u003cextra\\u003e\\u003c\\u002fextra\\u003e\",\"legendgroup\":\"\",\"marker\":{\"color\":\"#636efa\",\"pattern\":{\"shape\":\"\"}},\"name\":\"\",\"offsetgroup\":\"\",\"orientation\":\"v\",\"showlegend\":false,\"x\":[\"Middlesex County\",\"Barnstable County\",\"Hampden County\",\"Suffolk County\",\"Berkshire County\",\"Essex County\",\"Middlesex County\",\"Suffolk County\",\"Suffolk County\",\"Plymouth County\",\"Norfolk County\",\"Berkshire County\",\"Suffolk County\",\"Norfolk County\",\"Bristol County\",\"Bristol County\",\"Middlesex County\",\"Hampshire County\",\"Barnstable County\",\"Bristol County\",\"Hampden County\",\"Middlesex County\",\"Worcester County\",\"Hampshire County\",\"Hampden County\",\"Hampden County\",\"Suffolk County\",\"Norfolk County\",\"Middlesex County\",\"Middlesex County\",\"Bristol County\",\"Suffolk County\",\"Plymouth County\",\"Plymouth County\",\"Middlesex County\",\"Worcester County\",\"Norfolk County\",\"Essex County\",\"Essex County\",\"Middlesex County\",\"Suffolk County\",\"Norfolk County\",\"Worcester County\",\"Worcester County\",\"Bristol County\",\"Middlesex County\",\"Berkshire County\",\"Barnstable County\",\"Middlesex County\",\"Hampshire County\",\"Essex County\",\"Hampden County\",\"Suffolk County\",\"Norfolk County\",\"Hampden County\",\"Bristol County\",\"Middlesex County\",\"Bristol County\",\"Worcester County\",\"Plymouth County\",\"Plymouth County\",\"Middlesex County\",\"Norfolk County\",\"Plymouth County\",\"Norfolk County\",\"Middlesex County\",\"Middlesex County\",\"Suffolk County\",\"Middlesex County\",\"Norfolk County\",\"Hampden County\",\"Worcester County\",\"Barnstable County\",\"Worcester County\",\"Bristol County\",\"Norfolk County\",\"Dukes County\",\"Hampshire County\",\"Bristol County\",\"Suffolk County\",\"Middlesex County\",\"Suffolk County\",\"Worcester County\",\"Middlesex County\",\"Bristol County\",\"Worcester County\",\"Middlesex County\",\"Barnstable County\",\"Middlesex County\",\"Worcester County\",\"Bristol County\",\"Bristol County\",\"Suffolk County\",\"Suffolk County\",\"Essex County\",\"Hampshire County\",\"Essex County\",\"Hampden County\",\"Plymouth County\",\"Norfolk County\",\"Suffolk County\",\"Berkshire County\",\"Worcester County\",\"Middlesex County\",\"Hampden County\",\"Suffolk County\",\"Hampden County\",\"Middlesex County\",\"Essex County\",\"Essex County\",\"Hampden County\",\"Hampshire County\",\"Middlesex County\",\"Plymouth County\",\"Plymouth County\",\"Middlesex County\",\"Middlesex County\",\"Middlesex County\",\"Essex County\",\"Middlesex County\",\"Barnstable County\",\"Hampden County\",\"Middlesex County\",\"Hampden County\",\"Essex County\",\"Norfolk County\",\"Bristol County\",\"Bristol County\",\"Norfolk County\",\"Bristol County\",\"Plymouth County\",\"Suffolk County\",\"Suffolk County\",\"Hampden County\",\"Norfolk County\",\"Suffolk County\",\"Worcester County\",\"Worcester County\",\"Middlesex County\",\"Barnstable County\",\"Norfolk County\",\"Middlesex County\",\"Nantucket County\",\"Suffolk County\",\"Middlesex County\",\"Suffolk County\",\"Middlesex County\",\"Middlesex County\",\"Berkshire County\",\"Essex County\",\"Norfolk County\",\"Essex County\",\"Suffolk County\",\"Worcester County\",\"Middlesex County\",\"Hampshire County\",\"Hampshire County\",\"Barnstable County\",\"Essex County\",\"Barnstable County\",\"Worcester County\",\"Middlesex County\",\"Bristol County\",\"Norfolk County\",\"Franklin County\",\"Hampden County\",\"Franklin County\",\"Middlesex County\",\"Worcester County\",\"Middlesex County\",\"Middlesex County\",\"Plymouth County\",\"Berkshire County\",\"Middlesex County\",\"Essex County\",\"Norfolk County\",\"Hampshire County\",\"Suffolk County\",\"Suffolk County\",\"Essex County\",\"Bristol County\",\"Bristol County\",\"Barnstable County\",\"Middlesex County\",\"Dukes County\",\"Middlesex County\",\"Suffolk County\",\"Suffolk County\",\"Worcester County\",\"Middlesex County\",\"Plymouth County\",\"Hampshire County\",\"Bristol County\",\"Suffolk County\",\"Essex County\",\"Bristol County\",\"Suffolk County\",\"Essex County\",\"Norfolk County\",\"Suffolk County\",\"Middlesex County\",\"Barnstable County\",\"Middlesex County\",\"Worcester County\",\"Suffolk County\",\"Middlesex County\"],\"xaxis\":\"x\",\"yaxis\":\"y\",\"type\":\"histogram\"}],                        {\"template\":{\"data\":{\"histogram2dcontour\":[{\"type\":\"histogram2dcontour\",\"colorbar\":{\"outlinewidth\":0,\"ticks\":\"\"},\"colorscale\":[[0.0,\"#0d0887\"],[0.1111111111111111,\"#46039f\"],[0.2222222222222222,\"#7201a8\"],[0.3333333333333333,\"#9c179e\"],[0.4444444444444444,\"#bd3786\"],[0.5555555555555556,\"#d8576b\"],[0.6666666666666666,\"#ed7953\"],[0.7777777777777778,\"#fb9f3a\"],[0.8888888888888888,\"#fdca26\"],[1.0,\"#f0f921\"]]}],\"choropleth\":[{\"type\":\"choropleth\",\"colorbar\":{\"outlinewidth\":0,\"ticks\":\"\"}}],\"histogram2d\":[{\"type\":\"histogram2d\",\"colorbar\":{\"outlinewidth\":0,\"ticks\":\"\"},\"colorscale\":[[0.0,\"#0d0887\"],[0.1111111111111111,\"#46039f\"],[0.2222222222222222,\"#7201a8\"],[0.3333333333333333,\"#9c179e\"],[0.4444444444444444,\"#bd3786\"],[0.5555555555555556,\"#d8576b\"],[0.6666666666666666,\"#ed7953\"],[0.7777777777777778,\"#fb9f3a\"],[0.8888888888888888,\"#fdca26\"],[1.0,\"#f0f921\"]]}],\"heatmap\":[{\"type\":\"heatmap\",\"colorbar\":{\"outlinewidth\":0,\"ticks\":\"\"},\"colorscale\":[[0.0,\"#0d0887\"],[0.1111111111111111,\"#46039f\"],[0.2222222222222222,\"#7201a8\"],[0.3333333333333333,\"#9c179e\"],[0.4444444444444444,\"#bd3786\"],[0.5555555555555556,\"#d8576b\"],[0.6666666666666666,\"#ed7953\"],[0.7777777777777778,\"#fb9f3a\"],[0.8888888888888888,\"#fdca26\"],[1.0,\"#f0f921\"]]}],\"heatmapgl\":[{\"type\":\"heatmapgl\",\"colorbar\":{\"outlinewidth\":0,\"ticks\":\"\"},\"colorscale\":[[0.0,\"#0d0887\"],[0.1111111111111111,\"#46039f\"],[0.2222222222222222,\"#7201a8\"],[0.3333333333333333,\"#9c179e\"],[0.4444444444444444,\"#bd3786\"],[0.5555555555555556,\"#d8576b\"],[0.6666666666666666,\"#ed7953\"],[0.7777777777777778,\"#fb9f3a\"],[0.8888888888888888,\"#fdca26\"],[1.0,\"#f0f921\"]]}],\"contourcarpet\":[{\"type\":\"contourcarpet\",\"colorbar\":{\"outlinewidth\":0,\"ticks\":\"\"}}],\"contour\":[{\"type\":\"contour\",\"colorbar\":{\"outlinewidth\":0,\"ticks\":\"\"},\"colorscale\":[[0.0,\"#0d0887\"],[0.1111111111111111,\"#46039f\"],[0.2222222222222222,\"#7201a8\"],[0.3333333333333333,\"#9c179e\"],[0.4444444444444444,\"#bd3786\"],[0.5555555555555556,\"#d8576b\"],[0.6666666666666666,\"#ed7953\"],[0.7777777777777778,\"#fb9f3a\"],[0.8888888888888888,\"#fdca26\"],[1.0,\"#f0f921\"]]}],\"surface\":[{\"type\":\"surface\",\"colorbar\":{\"outlinewidth\":0,\"ticks\":\"\"},\"colorscale\":[[0.0,\"#0d0887\"],[0.1111111111111111,\"#46039f\"],[0.2222222222222222,\"#7201a8\"],[0.3333333333333333,\"#9c179e\"],[0.4444444444444444,\"#bd3786\"],[0.5555555555555556,\"#d8576b\"],[0.6666666666666666,\"#ed7953\"],[0.7777777777777778,\"#fb9f3a\"],[0.8888888888888888,\"#fdca26\"],[1.0,\"#f0f921\"]]}],\"mesh3d\":[{\"type\":\"mesh3d\",\"colorbar\":{\"outlinewidth\":0,\"ticks\":\"\"}}],\"scatter\":[{\"fillpattern\":{\"fillmode\":\"overlay\",\"size\":10,\"solidity\":0.2},\"type\":\"scatter\"}],\"parcoords\":[{\"type\":\"parcoords\",\"line\":{\"colorbar\":{\"outlinewidth\":0,\"ticks\":\"\"}}}],\"scatterpolargl\":[{\"type\":\"scatterpolargl\",\"marker\":{\"colorbar\":{\"outlinewidth\":0,\"ticks\":\"\"}}}],\"bar\":[{\"error_x\":{\"color\":\"#2a3f5f\"},\"error_y\":{\"color\":\"#2a3f5f\"},\"marker\":{\"line\":{\"color\":\"#E5ECF6\",\"width\":0.5},\"pattern\":{\"fillmode\":\"overlay\",\"size\":10,\"solidity\":0.2}},\"type\":\"bar\"}],\"scattergeo\":[{\"type\":\"scattergeo\",\"marker\":{\"colorbar\":{\"outlinewidth\":0,\"ticks\":\"\"}}}],\"scatterpolar\":[{\"type\":\"scatterpolar\",\"marker\":{\"colorbar\":{\"outlinewidth\":0,\"ticks\":\"\"}}}],\"histogram\":[{\"marker\":{\"pattern\":{\"fillmode\":\"overlay\",\"size\":10,\"solidity\":0.2}},\"type\":\"histogram\"}],\"scattergl\":[{\"type\":\"scattergl\",\"marker\":{\"colorbar\":{\"outlinewidth\":0,\"ticks\":\"\"}}}],\"scatter3d\":[{\"type\":\"scatter3d\",\"line\":{\"colorbar\":{\"outlinewidth\":0,\"ticks\":\"\"}},\"marker\":{\"colorbar\":{\"outlinewidth\":0,\"ticks\":\"\"}}}],\"scattermapbox\":[{\"type\":\"scattermapbox\",\"marker\":{\"colorbar\":{\"outlinewidth\":0,\"ticks\":\"\"}}}],\"scatterternary\":[{\"type\":\"scatterternary\",\"marker\":{\"colorbar\":{\"outlinewidth\":0,\"ticks\":\"\"}}}],\"scattercarpet\":[{\"type\":\"scattercarpet\",\"marker\":{\"colorbar\":{\"outlinewidth\":0,\"ticks\":\"\"}}}],\"carpet\":[{\"aaxis\":{\"endlinecolor\":\"#2a3f5f\",\"gridcolor\":\"white\",\"linecolor\":\"white\",\"minorgridcolor\":\"white\",\"startlinecolor\":\"#2a3f5f\"},\"baxis\":{\"endlinecolor\":\"#2a3f5f\",\"gridcolor\":\"white\",\"linecolor\":\"white\",\"minorgridcolor\":\"white\",\"startlinecolor\":\"#2a3f5f\"},\"type\":\"carpet\"}],\"table\":[{\"cells\":{\"fill\":{\"color\":\"#EBF0F8\"},\"line\":{\"color\":\"white\"}},\"header\":{\"fill\":{\"color\":\"#C8D4E3\"},\"line\":{\"color\":\"white\"}},\"type\":\"table\"}],\"barpolar\":[{\"marker\":{\"line\":{\"color\":\"#E5ECF6\",\"width\":0.5},\"pattern\":{\"fillmode\":\"overlay\",\"size\":10,\"solidity\":0.2}},\"type\":\"barpolar\"}],\"pie\":[{\"automargin\":true,\"type\":\"pie\"}]},\"layout\":{\"autotypenumbers\":\"strict\",\"colorway\":[\"#636efa\",\"#EF553B\",\"#00cc96\",\"#ab63fa\",\"#FFA15A\",\"#19d3f3\",\"#FF6692\",\"#B6E880\",\"#FF97FF\",\"#FECB52\"],\"font\":{\"color\":\"#2a3f5f\"},\"hovermode\":\"closest\",\"hoverlabel\":{\"align\":\"left\"},\"paper_bgcolor\":\"white\",\"plot_bgcolor\":\"#E5ECF6\",\"polar\":{\"bgcolor\":\"#E5ECF6\",\"angularaxis\":{\"gridcolor\":\"white\",\"linecolor\":\"white\",\"ticks\":\"\"},\"radialaxis\":{\"gridcolor\":\"white\",\"linecolor\":\"white\",\"ticks\":\"\"}},\"ternary\":{\"bgcolor\":\"#E5ECF6\",\"aaxis\":{\"gridcolor\":\"white\",\"linecolor\":\"white\",\"ticks\":\"\"},\"baxis\":{\"gridcolor\":\"white\",\"linecolor\":\"white\",\"ticks\":\"\"},\"caxis\":{\"gridcolor\":\"white\",\"linecolor\":\"white\",\"ticks\":\"\"}},\"coloraxis\":{\"colorbar\":{\"outlinewidth\":0,\"ticks\":\"\"}},\"colorscale\":{\"sequential\":[[0.0,\"#0d0887\"],[0.1111111111111111,\"#46039f\"],[0.2222222222222222,\"#7201a8\"],[0.3333333333333333,\"#9c179e\"],[0.4444444444444444,\"#bd3786\"],[0.5555555555555556,\"#d8576b\"],[0.6666666666666666,\"#ed7953\"],[0.7777777777777778,\"#fb9f3a\"],[0.8888888888888888,\"#fdca26\"],[1.0,\"#f0f921\"]],\"sequentialminus\":[[0.0,\"#0d0887\"],[0.1111111111111111,\"#46039f\"],[0.2222222222222222,\"#7201a8\"],[0.3333333333333333,\"#9c179e\"],[0.4444444444444444,\"#bd3786\"],[0.5555555555555556,\"#d8576b\"],[0.6666666666666666,\"#ed7953\"],[0.7777777777777778,\"#fb9f3a\"],[0.8888888888888888,\"#fdca26\"],[1.0,\"#f0f921\"]],\"diverging\":[[0,\"#8e0152\"],[0.1,\"#c51b7d\"],[0.2,\"#de77ae\"],[0.3,\"#f1b6da\"],[0.4,\"#fde0ef\"],[0.5,\"#f7f7f7\"],[0.6,\"#e6f5d0\"],[0.7,\"#b8e186\"],[0.8,\"#7fbc41\"],[0.9,\"#4d9221\"],[1,\"#276419\"]]},\"xaxis\":{\"gridcolor\":\"white\",\"linecolor\":\"white\",\"ticks\":\"\",\"title\":{\"standoff\":15},\"zerolinecolor\":\"white\",\"automargin\":true,\"zerolinewidth\":2},\"yaxis\":{\"gridcolor\":\"white\",\"linecolor\":\"white\",\"ticks\":\"\",\"title\":{\"standoff\":15},\"zerolinecolor\":\"white\",\"automargin\":true,\"zerolinewidth\":2},\"scene\":{\"xaxis\":{\"backgroundcolor\":\"#E5ECF6\",\"gridcolor\":\"white\",\"linecolor\":\"white\",\"showbackground\":true,\"ticks\":\"\",\"zerolinecolor\":\"white\",\"gridwidth\":2},\"yaxis\":{\"backgroundcolor\":\"#E5ECF6\",\"gridcolor\":\"white\",\"linecolor\":\"white\",\"showbackground\":true,\"ticks\":\"\",\"zerolinecolor\":\"white\",\"gridwidth\":2},\"zaxis\":{\"backgroundcolor\":\"#E5ECF6\",\"gridcolor\":\"white\",\"linecolor\":\"white\",\"showbackground\":true,\"ticks\":\"\",\"zerolinecolor\":\"white\",\"gridwidth\":2}},\"shapedefaults\":{\"line\":{\"color\":\"#2a3f5f\"}},\"annotationdefaults\":{\"arrowcolor\":\"#2a3f5f\",\"arrowhead\":0,\"arrowwidth\":1},\"geo\":{\"bgcolor\":\"white\",\"landcolor\":\"#E5ECF6\",\"subunitcolor\":\"white\",\"showland\":true,\"showlakes\":true,\"lakecolor\":\"white\"},\"title\":{\"x\":0.05},\"mapbox\":{\"style\":\"light\"}}},\"xaxis\":{\"anchor\":\"y\",\"domain\":[0.0,1.0],\"title\":{\"text\":\"COUNTY\"}},\"yaxis\":{\"anchor\":\"x\",\"domain\":[0.0,1.0],\"title\":{\"text\":\"count\"}},\"legend\":{\"tracegroupgap\":0},\"margin\":{\"t\":60},\"barmode\":\"relative\"},                        {\"responsive\": true}                    ).then(function(){\n",
       "                            \n",
       "var gd = document.getElementById('8f745154-5878-46c0-89a0-7494cae0c1fb');\n",
       "var x = new MutationObserver(function (mutations, observer) {{\n",
       "        var display = window.getComputedStyle(gd).display;\n",
       "        if (!display || display === 'none') {{\n",
       "            console.log([gd, 'removed!']);\n",
       "            Plotly.purge(gd);\n",
       "            observer.disconnect();\n",
       "        }}\n",
       "}});\n",
       "\n",
       "// Listen for the removal of the full notebook cells\n",
       "var notebookContainer = gd.closest('#notebook-container');\n",
       "if (notebookContainer) {{\n",
       "    x.observe(notebookContainer, {childList: true});\n",
       "}}\n",
       "\n",
       "// Listen for the clearing of the current output cell\n",
       "var outputEl = gd.closest('.output');\n",
       "if (outputEl) {{\n",
       "    x.observe(outputEl, {childList: true});\n",
       "}}\n",
       "\n",
       "                        })                };                });            </script>        </div>"
      ]
     },
     "metadata": {},
     "output_type": "display_data"
    }
   ],
   "source": [
    "\n",
    "\n",
    "fig = px.histogram(patients, x=\"COUNTY\")\n",
    "fig.show()"
   ]
  },
  {
   "cell_type": "markdown",
   "id": "07527703-c9c1-47d6-8608-e64d09d26c97",
   "metadata": {},
   "source": [
    "Todas las pacientes son del Estado de Massachussets. "
   ]
  },
  {
   "cell_type": "code",
   "execution_count": 323,
   "id": "ad63b293-18c5-4081-baa6-9f5935bce82b",
   "metadata": {},
   "outputs": [],
   "source": [
    "#Edad de las pacientes\n",
    "patients['BIRTHDATE'] = pd.to_datetime(patients['BIRTHDATE'])\n",
    "ref_date = datetime(2024,1,1)\n",
    "patients['AGE'] = (ref_date - patients['BIRTHDATE']).dt.days // 365"
   ]
  },
  {
   "cell_type": "code",
   "execution_count": 325,
   "id": "5f63c086-64eb-421a-8deb-c343dc3b8a76",
   "metadata": {},
   "outputs": [
    {
     "data": {
      "application/vnd.plotly.v1+json": {
       "config": {
        "plotlyServerURL": "https://plot.ly"
       },
       "data": [
        {
         "geo": "geo",
         "hovertemplate": "<b>%{hovertext}</b><br><br>LAT=%{lat}<br>LON=%{lon}<extra></extra>",
         "hovertext": [
          "Middlesex County",
          "Barnstable County",
          "Hampden County",
          "Suffolk County",
          "Berkshire County",
          "Essex County",
          "Middlesex County",
          "Suffolk County",
          "Suffolk County",
          "Plymouth County",
          "Norfolk County",
          "Berkshire County",
          "Suffolk County",
          "Norfolk County",
          "Bristol County",
          "Bristol County",
          "Middlesex County",
          "Hampshire County",
          "Barnstable County",
          "Bristol County",
          "Hampden County",
          "Middlesex County",
          "Worcester County",
          "Hampshire County",
          "Hampden County",
          "Hampden County",
          "Suffolk County",
          "Norfolk County",
          "Middlesex County",
          "Middlesex County",
          "Bristol County",
          "Suffolk County",
          "Plymouth County",
          "Plymouth County",
          "Middlesex County",
          "Worcester County",
          "Norfolk County",
          "Essex County",
          "Essex County",
          "Middlesex County",
          "Suffolk County",
          "Norfolk County",
          "Worcester County",
          "Worcester County",
          "Bristol County",
          "Middlesex County",
          "Berkshire County",
          "Barnstable County",
          "Middlesex County",
          "Hampshire County",
          "Essex County",
          "Hampden County",
          "Suffolk County",
          "Norfolk County",
          "Hampden County",
          "Bristol County",
          "Middlesex County",
          "Bristol County",
          "Worcester County",
          "Plymouth County",
          "Plymouth County",
          "Middlesex County",
          "Norfolk County",
          "Plymouth County",
          "Norfolk County",
          "Middlesex County",
          "Middlesex County",
          "Suffolk County",
          "Middlesex County",
          "Norfolk County",
          "Hampden County",
          "Worcester County",
          "Barnstable County",
          "Worcester County",
          "Bristol County",
          "Norfolk County",
          "Dukes County",
          "Hampshire County",
          "Bristol County",
          "Suffolk County",
          "Middlesex County",
          "Suffolk County",
          "Worcester County",
          "Middlesex County",
          "Bristol County",
          "Worcester County",
          "Middlesex County",
          "Barnstable County",
          "Middlesex County",
          "Worcester County",
          "Bristol County",
          "Bristol County",
          "Suffolk County",
          "Suffolk County",
          "Essex County",
          "Hampshire County",
          "Essex County",
          "Hampden County",
          "Plymouth County",
          "Norfolk County",
          "Suffolk County",
          "Berkshire County",
          "Worcester County",
          "Middlesex County",
          "Hampden County",
          "Suffolk County",
          "Hampden County",
          "Middlesex County",
          "Essex County",
          "Essex County",
          "Hampden County",
          "Hampshire County",
          "Middlesex County",
          "Plymouth County",
          "Plymouth County",
          "Middlesex County",
          "Middlesex County",
          "Middlesex County",
          "Essex County",
          "Middlesex County",
          "Barnstable County",
          "Hampden County",
          "Middlesex County",
          "Hampden County",
          "Essex County",
          "Norfolk County",
          "Bristol County",
          "Bristol County",
          "Norfolk County",
          "Bristol County",
          "Plymouth County",
          "Suffolk County",
          "Suffolk County",
          "Hampden County",
          "Norfolk County",
          "Suffolk County",
          "Worcester County",
          "Worcester County",
          "Middlesex County",
          "Barnstable County",
          "Norfolk County",
          "Middlesex County",
          "Nantucket County",
          "Suffolk County",
          "Middlesex County",
          "Suffolk County",
          "Middlesex County",
          "Middlesex County",
          "Berkshire County",
          "Essex County",
          "Norfolk County",
          "Essex County",
          "Suffolk County",
          "Worcester County",
          "Middlesex County",
          "Hampshire County",
          "Hampshire County",
          "Barnstable County",
          "Essex County",
          "Barnstable County",
          "Worcester County",
          "Middlesex County",
          "Bristol County",
          "Norfolk County",
          "Franklin County",
          "Hampden County",
          "Franklin County",
          "Middlesex County",
          "Worcester County",
          "Middlesex County",
          "Middlesex County",
          "Plymouth County",
          "Berkshire County",
          "Middlesex County",
          "Essex County",
          "Norfolk County",
          "Hampshire County",
          "Suffolk County",
          "Suffolk County",
          "Essex County",
          "Bristol County",
          "Bristol County",
          "Barnstable County",
          "Middlesex County",
          "Dukes County",
          "Middlesex County",
          "Suffolk County",
          "Suffolk County",
          "Worcester County",
          "Middlesex County",
          "Plymouth County",
          "Hampshire County",
          "Bristol County",
          "Suffolk County",
          "Essex County",
          "Bristol County",
          "Suffolk County",
          "Essex County",
          "Norfolk County",
          "Suffolk County",
          "Middlesex County",
          "Barnstable County",
          "Middlesex County",
          "Worcester County",
          "Suffolk County",
          "Middlesex County"
         ],
         "lat": [
          42.67888685478229,
          41.7122458350562,
          42.17500598718509,
          42.461726377014095,
          42.48185615473452,
          42.53271711315142,
          42.343692318811456,
          42.35889931340718,
          42.386831748728,
          42.07714749905091,
          42.21490699109728,
          42.72173680108907,
          42.3401717430075,
          42.25112640215888,
          41.68181272250503,
          41.52222136973631,
          42.49268884868154,
          42.3786679578193,
          41.66131979094106,
          41.9026919578188,
          42.12625498410046,
          42.41684082234052,
          42.39808770161401,
          42.27537341531902,
          42.09696332866478,
          42.013206220836935,
          42.3902979893922,
          42.13974676601344,
          42.41617857325989,
          42.32312552465867,
          41.65751028511602,
          42.41478213616087,
          42.00853166878579,
          41.93904489430513,
          42.42048852233953,
          42.16165264718853,
          42.25402662542398,
          42.43719603293122,
          42.5636796778846,
          42.42750687600896,
          42.34912688498299,
          42.26360757030496,
          42.68561139861759,
          42.3445141895039,
          41.83576336097751,
          42.67802187585169,
          42.66578576097695,
          41.60873520616635,
          42.44670166696216,
          42.31016332278559,
          42.82546944129954,
          42.13355162766901,
          42.38114996593817,
          42.26998850245901,
          42.08462280388597,
          42.01526337346352,
          42.425767187544906,
          41.94303413565918,
          42.61271697725495,
          42.05467437395316,
          42.090818824208704,
          42.37580065676429,
          42.1134050484219,
          42.02312976149022,
          42.252746072187904,
          42.57897477825241,
          42.46439781110281,
          42.334478172245774,
          42.69176229424567,
          42.14026083444936,
          42.13922218635881,
          42.3114199578084,
          41.68754290222468,
          42.05324576482265,
          41.62672565149733,
          42.29975846504687,
          41.44215764454286,
          42.27692809240683,
          41.68048158679954,
          42.3329653697087,
          42.41556640705916,
          42.30368816096297,
          42.58917762320183,
          42.58942511633735,
          41.83676542539809,
          42.05248216888923,
          42.43394208644573,
          41.68684806935345,
          42.5411562791455,
          42.12472696603837,
          42.007641192462046,
          41.91029257155468,
          42.415177368157245,
          42.36810996895093,
          42.627001211820826,
          42.34407353799404,
          42.43099755568132,
          42.19324134284932,
          42.08028639657887,
          42.30019910935692,
          42.376689240992064,
          42.7477142475047,
          42.586618387552285,
          42.37663088566822,
          42.16358802594438,
          42.32036672746698,
          42.07534514043365,
          42.62479246210312,
          42.47735888405828,
          42.62489624619868,
          42.23382539677041,
          42.3323911917559,
          42.45309621528077,
          42.04276734717168,
          42.00707166031638,
          42.38896725067219,
          42.29985868623,
          42.31746705627474,
          42.595773735744885,
          42.455887779112885,
          41.586652643491085,
          42.200805723888735,
          42.36863230817886,
          42.2430475065975,
          42.45106760819518,
          42.3234970956464,
          41.7473598744787,
          41.96659253417486,
          42.20749380535505,
          41.94239315749264,
          41.805107993877805,
          42.27220469812858,
          42.33894790043232,
          42.10899401035815,
          42.01187126131942,
          42.33463155619118,
          42.08445976061764,
          42.21497079878949,
          42.27117455714146,
          41.67671943679477,
          42.31171321331697,
          42.38680052267261,
          41.26875674455651,
          42.28659045547011,
          42.48951001774788,
          42.36030407252625,
          42.643228459402685,
          42.44548345404145,
          42.45158535003796,
          42.5692853628174,
          42.19263249866599,
          42.6013138240313,
          42.37865909741192,
          42.225928076530096,
          42.47398552849212,
          42.32394889127169,
          42.37341956749798,
          41.63057457433564,
          42.60526088142755,
          41.6435541148573,
          42.07555897919834,
          42.585715170008775,
          41.63508580095141,
          42.26517614800007,
          42.50656779042785,
          42.13591925261554,
          42.559555231212144,
          42.40892809646383,
          42.10706688477155,
          42.57108986990019,
          42.4059254780998,
          41.982471627557565,
          42.66291450390877,
          42.36496883565368,
          42.52915397925756,
          42.26793650577109,
          42.257981195968256,
          42.3641583149783,
          42.404820460757634,
          42.55523626957348,
          41.69873643045816,
          41.67522947610455,
          41.72365557462149,
          42.46844770000367,
          41.3517156133321,
          42.45135179453677,
          42.34002226468495,
          42.34710366413826,
          42.272465123069786,
          42.313424288027896,
          41.755183525633726,
          42.44059675253658,
          41.828249168836415,
          42.28505094202561,
          42.80563962942963,
          41.7457527055635,
          42.32798913081304,
          42.507042263211325,
          42.15306637323902,
          42.36874370689159,
          42.69806261039778,
          41.5676795032772,
          42.64915619617701,
          42.4527907945722,
          42.37724061926728,
          42.296552230910265
         ],
         "legendgroup": "",
         "lon": [
          -71.4666523359866,
          -70.45110962363147,
          -72.57041697061801,
          -71.00000160289086,
          -73.14468460047901,
          -71.06542866997387,
          -71.40736559277755,
          -71.08768555822111,
          -71.03874447335895,
          -70.89505826498508,
          -71.38113199607037,
          -73.17847571452462,
          -71.17804566600105,
          -70.97085944358965,
          -71.21690772710106,
          -70.92000542764536,
          -71.16705038176077,
          -72.54442605455094,
          -70.17943871740418,
          -71.08753857845839,
          -72.67892394304302,
          -71.10427616504963,
          -71.77533501067492,
          -72.4537208335075,
          -72.69900720749095,
          -72.6159940754573,
          -70.99709115013802,
          -71.07868530000545,
          -71.08471496282414,
          -71.19463671490585,
          -71.06495326762264,
          -71.08443646439227,
          -70.7331555166132,
          -70.7173108037064,
          -71.10215857679702,
          -71.49209721442571,
          -70.91738839007259,
          -70.96272488595876,
          -71.04627883404765,
          -71.03699913927524,
          -71.08862068734113,
          -71.01974770138168,
          -71.92508881058009,
          -71.80440028632495,
          -71.37188065872789,
          -71.27107797023432,
          -73.10320480734126,
          -69.96664106969979,
          -71.13625908528172,
          -72.4942206322073,
          -70.85961151150613,
          -72.79093995971346,
          -71.10698692781217,
          -71.0341493956677,
          -72.62748167538435,
          -71.07129063371819,
          -71.12012657607241,
          -71.08875604746504,
          -71.92599088707989,
          -70.92104553296359,
          -70.95021845054909,
          -71.14037951855975,
          -71.37137413685988,
          -70.82750544910121,
          -71.00495086005328,
          -71.1112076335125,
          -71.1062122277646,
          -71.04760717957275,
          -71.39247177880445,
          -71.22971120302063,
          -72.54931613929043,
          -71.53424098417429,
          -70.18022203162133,
          -71.6805710986948,
          -71.13158387933979,
          -71.14267551594794,
          -70.62434058641372,
          -72.82592853920646,
          -71.21704059024658,
          -71.00671834386213,
          -71.33211410846135,
          -71.06045912617198,
          -71.86356298977624,
          -71.18555616837926,
          -71.2772169044535,
          -71.65078202136019,
          -71.18140937895767,
          -70.15629993821827,
          -71.20221277008773,
          -71.55804258728945,
          -71.25202118795322,
          -70.99818221556058,
          -71.03406882885996,
          -71.0799582139074,
          -71.13880941857009,
          -72.50996832596537,
          -70.89577578015262,
          -72.5642206962993,
          -70.91045262260722,
          -71.20339649105472,
          -70.99060060076127,
          -73.03551991242286,
          -71.84975231800293,
          -71.13867726731355,
          -72.64391588036689,
          -71.17386768874263,
          -72.52240601816948,
          -71.4562252465955,
          -70.87143172007508,
          -71.14415796775506,
          -72.62031429156606,
          -72.56556237269905,
          -71.19878661876677,
          -70.93301949974831,
          -70.75507975117925,
          -71.10527214602627,
          -71.59571928367083,
          -71.23211093038894,
          -70.58691998041218,
          -71.38851059751158,
          -70.40955485961958,
          -72.54433428843086,
          -71.56275518007199,
          -72.35980840865557,
          -70.7881961052604,
          -71.27381959974979,
          -71.0836775095298,
          -71.29482154839505,
          -71.01171691288184,
          -71.34557085188212,
          -70.92841659478874,
          -71.10208802341593,
          -71.09388559034399,
          -72.56102288204222,
          -71.27951407070692,
          -71.11543309851055,
          -72.00125686358204,
          -72.00483777446445,
          -71.42976127918146,
          -70.07240488264583,
          -70.97677882252395,
          -71.22247163314601,
          -70.13007756631187,
          -71.00633762116662,
          -71.1313288976257,
          -70.98764274395108,
          -71.19413357917453,
          -71.11385353995462,
          -73.30136555774351,
          -70.85885372474007,
          -71.297203181341,
          -70.92040361404895,
          -71.08338055175905,
          -71.95385698384663,
          -71.10588939613717,
          -72.49821957453045,
          -72.68322920466471,
          -70.24231049683134,
          -70.8920415129101,
          -70.44332014936163,
          -71.78226222395635,
          -71.37462449716303,
          -71.08201205177585,
          -71.04369129833721,
          -72.74976501303699,
          -72.63882549431183,
          -72.27831584540897,
          -71.12608413713276,
          -71.62474003189452,
          -71.30855565825834,
          -71.13945535607489,
          -70.69596343853883,
          -73.08976797438406,
          -71.0644073587767,
          -71.08278797862378,
          -71.29396211264313,
          -72.7805430060776,
          -71.10452537044232,
          -71.0787810597002,
          -71.08581908529989,
          -71.18643837209767,
          -70.85396725066244,
          -70.14128755708383,
          -71.04897554755154,
          -70.5265794867061,
          -71.10872834138708,
          -71.03383021824533,
          -71.07273429916567,
          -71.80844488040253,
          -71.56803546572043,
          -70.70145725121304,
          -72.56848653336091,
          -71.10924264219894,
          -71.1252115402952,
          -70.83643319507338,
          -71.1132634509396,
          -71.09446559002916,
          -70.83713237789699,
          -71.08332901685978,
          -71.13671232313766,
          -71.31625864434875,
          -70.62412318338463,
          -71.59871636767367,
          -72.12541719337489,
          -71.12251944495648,
          -71.46856492047172
         ],
         "marker": {
          "color": "#636efa",
          "symbol": "circle"
         },
         "mode": "markers",
         "name": "",
         "showlegend": false,
         "type": "scattergeo"
        },
        {
         "alignmentgroup": "True",
         "hovertemplate": "RACE=%{x}<br>AGE=%{y}<extra></extra>",
         "legendgroup": "asian",
         "marker": {
          "color": "#636efa"
         },
         "name": "asian",
         "notched": false,
         "offsetgroup": "asian",
         "orientation": "v",
         "showlegend": true,
         "type": "box",
         "x": [
          "asian",
          "asian",
          "asian",
          "asian",
          "asian",
          "asian",
          "asian",
          "asian",
          "asian",
          "asian",
          "asian",
          "asian",
          "asian"
         ],
         "x0": " ",
         "xaxis": "x",
         "y": [
          20,
          49,
          31,
          40,
          39,
          18,
          31,
          41,
          17,
          31,
          49,
          35,
          46
         ],
         "y0": " ",
         "yaxis": "y"
        },
        {
         "alignmentgroup": "True",
         "hovertemplate": "RACE=%{x}<br>AGE=%{y}<extra></extra>",
         "legendgroup": "white",
         "marker": {
          "color": "#EF553B"
         },
         "name": "white",
         "notched": false,
         "offsetgroup": "white",
         "orientation": "v",
         "showlegend": true,
         "type": "box",
         "x": [
          "white",
          "white",
          "white",
          "white",
          "white",
          "white",
          "white",
          "white",
          "white",
          "white",
          "white",
          "white",
          "white",
          "white",
          "white",
          "white",
          "white",
          "white",
          "white",
          "white",
          "white",
          "white",
          "white",
          "white",
          "white",
          "white",
          "white",
          "white",
          "white",
          "white",
          "white",
          "white",
          "white",
          "white",
          "white",
          "white",
          "white",
          "white",
          "white",
          "white",
          "white",
          "white",
          "white",
          "white",
          "white",
          "white",
          "white",
          "white",
          "white",
          "white",
          "white",
          "white",
          "white",
          "white",
          "white",
          "white",
          "white",
          "white",
          "white",
          "white",
          "white",
          "white",
          "white",
          "white",
          "white",
          "white",
          "white",
          "white",
          "white",
          "white",
          "white",
          "white",
          "white",
          "white",
          "white",
          "white",
          "white",
          "white",
          "white",
          "white",
          "white",
          "white",
          "white",
          "white",
          "white",
          "white",
          "white",
          "white",
          "white",
          "white",
          "white",
          "white",
          "white",
          "white",
          "white",
          "white",
          "white",
          "white",
          "white",
          "white",
          "white",
          "white",
          "white",
          "white",
          "white",
          "white",
          "white",
          "white",
          "white",
          "white",
          "white",
          "white",
          "white",
          "white",
          "white",
          "white",
          "white",
          "white",
          "white",
          "white",
          "white",
          "white",
          "white",
          "white",
          "white",
          "white",
          "white",
          "white",
          "white",
          "white",
          "white",
          "white",
          "white",
          "white",
          "white",
          "white",
          "white",
          "white",
          "white",
          "white",
          "white",
          "white",
          "white",
          "white",
          "white",
          "white",
          "white",
          "white",
          "white",
          "white",
          "white",
          "white",
          "white",
          "white",
          "white",
          "white",
          "white",
          "white",
          "white",
          "white",
          "white",
          "white",
          "white",
          "white",
          "white",
          "white"
         ],
         "x0": " ",
         "xaxis": "x",
         "y": [
          19,
          32,
          34,
          39,
          48,
          37,
          21,
          33,
          40,
          31,
          16,
          43,
          34,
          39,
          46,
          38,
          16,
          25,
          49,
          37,
          23,
          27,
          35,
          17,
          43,
          42,
          16,
          18,
          42,
          42,
          27,
          38,
          25,
          33,
          19,
          28,
          18,
          48,
          46,
          39,
          25,
          30,
          46,
          23,
          48,
          45,
          23,
          47,
          49,
          48,
          50,
          50,
          48,
          39,
          24,
          30,
          46,
          39,
          46,
          47,
          39,
          37,
          57,
          20,
          43,
          17,
          42,
          34,
          36,
          33,
          37,
          42,
          20,
          20,
          29,
          46,
          34,
          43,
          32,
          17,
          48,
          44,
          43,
          37,
          35,
          46,
          49,
          16,
          18,
          21,
          43,
          41,
          25,
          49,
          41,
          46,
          40,
          28,
          26,
          31,
          48,
          39,
          28,
          50,
          52,
          37,
          20,
          58,
          45,
          43,
          20,
          17,
          28,
          43,
          37,
          28,
          25,
          30,
          27,
          16,
          22,
          26,
          48,
          18,
          43,
          45,
          36,
          47,
          43,
          39,
          39,
          43,
          32,
          36,
          25,
          35,
          21,
          22,
          40,
          43,
          47,
          37,
          40,
          39,
          41,
          33,
          19,
          16,
          30,
          50,
          16,
          34,
          18,
          19,
          38,
          41,
          33,
          27,
          22,
          36,
          44,
          25,
          18,
          46,
          21,
          46
         ],
         "y0": " ",
         "yaxis": "y"
        },
        {
         "alignmentgroup": "True",
         "hovertemplate": "RACE=%{x}<br>AGE=%{y}<extra></extra>",
         "legendgroup": "black",
         "marker": {
          "color": "#00cc96"
         },
         "name": "black",
         "notched": false,
         "offsetgroup": "black",
         "orientation": "v",
         "showlegend": true,
         "type": "box",
         "x": [
          "black",
          "black",
          "black",
          "black",
          "black",
          "black",
          "black",
          "black",
          "black",
          "black",
          "black",
          "black",
          "black",
          "black",
          "black",
          "black"
         ],
         "x0": " ",
         "xaxis": "x",
         "y": [
          32,
          37,
          44,
          53,
          28,
          44,
          22,
          42,
          21,
          45,
          37,
          26,
          28,
          44,
          33,
          40
         ],
         "y0": " ",
         "yaxis": "y"
        },
        {
         "alignmentgroup": "True",
         "hovertemplate": "RACE=%{x}<br>AGE=%{y}<extra></extra>",
         "legendgroup": "hawaiian",
         "marker": {
          "color": "#ab63fa"
         },
         "name": "hawaiian",
         "notched": false,
         "offsetgroup": "hawaiian",
         "orientation": "v",
         "showlegend": true,
         "type": "box",
         "x": [
          "hawaiian",
          "hawaiian",
          "hawaiian",
          "hawaiian",
          "hawaiian",
          "hawaiian"
         ],
         "x0": " ",
         "xaxis": "x",
         "y": [
          29,
          37,
          34,
          48,
          18,
          47
         ],
         "y0": " ",
         "yaxis": "y"
        },
        {
         "alignmentgroup": "True",
         "hovertemplate": "RACE=%{x}<br>AGE=%{y}<extra></extra>",
         "legendgroup": "native",
         "marker": {
          "color": "#FFA15A"
         },
         "name": "native",
         "notched": false,
         "offsetgroup": "native",
         "orientation": "v",
         "showlegend": true,
         "type": "box",
         "x": [
          "native"
         ],
         "x0": " ",
         "xaxis": "x",
         "y": [
          16
         ],
         "y0": " ",
         "yaxis": "y"
        },
        {
         "alignmentgroup": "True",
         "hovertemplate": "RACE=%{x}<br>AGE=%{y}<extra></extra>",
         "legendgroup": "other",
         "marker": {
          "color": "#19d3f3"
         },
         "name": "other",
         "notched": false,
         "offsetgroup": "other",
         "orientation": "v",
         "showlegend": true,
         "type": "box",
         "x": [
          "other",
          "other",
          "other",
          "other"
         ],
         "x0": " ",
         "xaxis": "x",
         "y": [
          17,
          27,
          17,
          16
         ],
         "y0": " ",
         "yaxis": "y"
        }
       ],
       "layout": {
        "annotations": [
         {
          "font": {
           "size": 16
          },
          "showarrow": false,
          "text": "Distribución Geográfica por Ciudades",
          "x": 0.225,
          "xanchor": "center",
          "xref": "paper",
          "y": 1,
          "yanchor": "bottom",
          "yref": "paper"
         },
         {
          "font": {
           "size": 16
          },
          "showarrow": false,
          "text": "Distribución de Edades por Raza",
          "x": 0.775,
          "xanchor": "center",
          "xref": "paper",
          "y": 1,
          "yanchor": "bottom",
          "yref": "paper"
         }
        ],
        "geo": {
         "domain": {
          "x": [
           0,
           0.45
          ],
          "y": [
           0,
           1
          ]
         }
        },
        "height": 600,
        "template": {
         "data": {
          "bar": [
           {
            "error_x": {
             "color": "#2a3f5f"
            },
            "error_y": {
             "color": "#2a3f5f"
            },
            "marker": {
             "line": {
              "color": "#E5ECF6",
              "width": 0.5
             },
             "pattern": {
              "fillmode": "overlay",
              "size": 10,
              "solidity": 0.2
             }
            },
            "type": "bar"
           }
          ],
          "barpolar": [
           {
            "marker": {
             "line": {
              "color": "#E5ECF6",
              "width": 0.5
             },
             "pattern": {
              "fillmode": "overlay",
              "size": 10,
              "solidity": 0.2
             }
            },
            "type": "barpolar"
           }
          ],
          "carpet": [
           {
            "aaxis": {
             "endlinecolor": "#2a3f5f",
             "gridcolor": "white",
             "linecolor": "white",
             "minorgridcolor": "white",
             "startlinecolor": "#2a3f5f"
            },
            "baxis": {
             "endlinecolor": "#2a3f5f",
             "gridcolor": "white",
             "linecolor": "white",
             "minorgridcolor": "white",
             "startlinecolor": "#2a3f5f"
            },
            "type": "carpet"
           }
          ],
          "choropleth": [
           {
            "colorbar": {
             "outlinewidth": 0,
             "ticks": ""
            },
            "type": "choropleth"
           }
          ],
          "contour": [
           {
            "colorbar": {
             "outlinewidth": 0,
             "ticks": ""
            },
            "colorscale": [
             [
              0,
              "#0d0887"
             ],
             [
              0.1111111111111111,
              "#46039f"
             ],
             [
              0.2222222222222222,
              "#7201a8"
             ],
             [
              0.3333333333333333,
              "#9c179e"
             ],
             [
              0.4444444444444444,
              "#bd3786"
             ],
             [
              0.5555555555555556,
              "#d8576b"
             ],
             [
              0.6666666666666666,
              "#ed7953"
             ],
             [
              0.7777777777777778,
              "#fb9f3a"
             ],
             [
              0.8888888888888888,
              "#fdca26"
             ],
             [
              1,
              "#f0f921"
             ]
            ],
            "type": "contour"
           }
          ],
          "contourcarpet": [
           {
            "colorbar": {
             "outlinewidth": 0,
             "ticks": ""
            },
            "type": "contourcarpet"
           }
          ],
          "heatmap": [
           {
            "colorbar": {
             "outlinewidth": 0,
             "ticks": ""
            },
            "colorscale": [
             [
              0,
              "#0d0887"
             ],
             [
              0.1111111111111111,
              "#46039f"
             ],
             [
              0.2222222222222222,
              "#7201a8"
             ],
             [
              0.3333333333333333,
              "#9c179e"
             ],
             [
              0.4444444444444444,
              "#bd3786"
             ],
             [
              0.5555555555555556,
              "#d8576b"
             ],
             [
              0.6666666666666666,
              "#ed7953"
             ],
             [
              0.7777777777777778,
              "#fb9f3a"
             ],
             [
              0.8888888888888888,
              "#fdca26"
             ],
             [
              1,
              "#f0f921"
             ]
            ],
            "type": "heatmap"
           }
          ],
          "heatmapgl": [
           {
            "colorbar": {
             "outlinewidth": 0,
             "ticks": ""
            },
            "colorscale": [
             [
              0,
              "#0d0887"
             ],
             [
              0.1111111111111111,
              "#46039f"
             ],
             [
              0.2222222222222222,
              "#7201a8"
             ],
             [
              0.3333333333333333,
              "#9c179e"
             ],
             [
              0.4444444444444444,
              "#bd3786"
             ],
             [
              0.5555555555555556,
              "#d8576b"
             ],
             [
              0.6666666666666666,
              "#ed7953"
             ],
             [
              0.7777777777777778,
              "#fb9f3a"
             ],
             [
              0.8888888888888888,
              "#fdca26"
             ],
             [
              1,
              "#f0f921"
             ]
            ],
            "type": "heatmapgl"
           }
          ],
          "histogram": [
           {
            "marker": {
             "pattern": {
              "fillmode": "overlay",
              "size": 10,
              "solidity": 0.2
             }
            },
            "type": "histogram"
           }
          ],
          "histogram2d": [
           {
            "colorbar": {
             "outlinewidth": 0,
             "ticks": ""
            },
            "colorscale": [
             [
              0,
              "#0d0887"
             ],
             [
              0.1111111111111111,
              "#46039f"
             ],
             [
              0.2222222222222222,
              "#7201a8"
             ],
             [
              0.3333333333333333,
              "#9c179e"
             ],
             [
              0.4444444444444444,
              "#bd3786"
             ],
             [
              0.5555555555555556,
              "#d8576b"
             ],
             [
              0.6666666666666666,
              "#ed7953"
             ],
             [
              0.7777777777777778,
              "#fb9f3a"
             ],
             [
              0.8888888888888888,
              "#fdca26"
             ],
             [
              1,
              "#f0f921"
             ]
            ],
            "type": "histogram2d"
           }
          ],
          "histogram2dcontour": [
           {
            "colorbar": {
             "outlinewidth": 0,
             "ticks": ""
            },
            "colorscale": [
             [
              0,
              "#0d0887"
             ],
             [
              0.1111111111111111,
              "#46039f"
             ],
             [
              0.2222222222222222,
              "#7201a8"
             ],
             [
              0.3333333333333333,
              "#9c179e"
             ],
             [
              0.4444444444444444,
              "#bd3786"
             ],
             [
              0.5555555555555556,
              "#d8576b"
             ],
             [
              0.6666666666666666,
              "#ed7953"
             ],
             [
              0.7777777777777778,
              "#fb9f3a"
             ],
             [
              0.8888888888888888,
              "#fdca26"
             ],
             [
              1,
              "#f0f921"
             ]
            ],
            "type": "histogram2dcontour"
           }
          ],
          "mesh3d": [
           {
            "colorbar": {
             "outlinewidth": 0,
             "ticks": ""
            },
            "type": "mesh3d"
           }
          ],
          "parcoords": [
           {
            "line": {
             "colorbar": {
              "outlinewidth": 0,
              "ticks": ""
             }
            },
            "type": "parcoords"
           }
          ],
          "pie": [
           {
            "automargin": true,
            "type": "pie"
           }
          ],
          "scatter": [
           {
            "fillpattern": {
             "fillmode": "overlay",
             "size": 10,
             "solidity": 0.2
            },
            "type": "scatter"
           }
          ],
          "scatter3d": [
           {
            "line": {
             "colorbar": {
              "outlinewidth": 0,
              "ticks": ""
             }
            },
            "marker": {
             "colorbar": {
              "outlinewidth": 0,
              "ticks": ""
             }
            },
            "type": "scatter3d"
           }
          ],
          "scattercarpet": [
           {
            "marker": {
             "colorbar": {
              "outlinewidth": 0,
              "ticks": ""
             }
            },
            "type": "scattercarpet"
           }
          ],
          "scattergeo": [
           {
            "marker": {
             "colorbar": {
              "outlinewidth": 0,
              "ticks": ""
             }
            },
            "type": "scattergeo"
           }
          ],
          "scattergl": [
           {
            "marker": {
             "colorbar": {
              "outlinewidth": 0,
              "ticks": ""
             }
            },
            "type": "scattergl"
           }
          ],
          "scattermapbox": [
           {
            "marker": {
             "colorbar": {
              "outlinewidth": 0,
              "ticks": ""
             }
            },
            "type": "scattermapbox"
           }
          ],
          "scatterpolar": [
           {
            "marker": {
             "colorbar": {
              "outlinewidth": 0,
              "ticks": ""
             }
            },
            "type": "scatterpolar"
           }
          ],
          "scatterpolargl": [
           {
            "marker": {
             "colorbar": {
              "outlinewidth": 0,
              "ticks": ""
             }
            },
            "type": "scatterpolargl"
           }
          ],
          "scatterternary": [
           {
            "marker": {
             "colorbar": {
              "outlinewidth": 0,
              "ticks": ""
             }
            },
            "type": "scatterternary"
           }
          ],
          "surface": [
           {
            "colorbar": {
             "outlinewidth": 0,
             "ticks": ""
            },
            "colorscale": [
             [
              0,
              "#0d0887"
             ],
             [
              0.1111111111111111,
              "#46039f"
             ],
             [
              0.2222222222222222,
              "#7201a8"
             ],
             [
              0.3333333333333333,
              "#9c179e"
             ],
             [
              0.4444444444444444,
              "#bd3786"
             ],
             [
              0.5555555555555556,
              "#d8576b"
             ],
             [
              0.6666666666666666,
              "#ed7953"
             ],
             [
              0.7777777777777778,
              "#fb9f3a"
             ],
             [
              0.8888888888888888,
              "#fdca26"
             ],
             [
              1,
              "#f0f921"
             ]
            ],
            "type": "surface"
           }
          ],
          "table": [
           {
            "cells": {
             "fill": {
              "color": "#EBF0F8"
             },
             "line": {
              "color": "white"
             }
            },
            "header": {
             "fill": {
              "color": "#C8D4E3"
             },
             "line": {
              "color": "white"
             }
            },
            "type": "table"
           }
          ]
         },
         "layout": {
          "annotationdefaults": {
           "arrowcolor": "#2a3f5f",
           "arrowhead": 0,
           "arrowwidth": 1
          },
          "autotypenumbers": "strict",
          "coloraxis": {
           "colorbar": {
            "outlinewidth": 0,
            "ticks": ""
           }
          },
          "colorscale": {
           "diverging": [
            [
             0,
             "#8e0152"
            ],
            [
             0.1,
             "#c51b7d"
            ],
            [
             0.2,
             "#de77ae"
            ],
            [
             0.3,
             "#f1b6da"
            ],
            [
             0.4,
             "#fde0ef"
            ],
            [
             0.5,
             "#f7f7f7"
            ],
            [
             0.6,
             "#e6f5d0"
            ],
            [
             0.7,
             "#b8e186"
            ],
            [
             0.8,
             "#7fbc41"
            ],
            [
             0.9,
             "#4d9221"
            ],
            [
             1,
             "#276419"
            ]
           ],
           "sequential": [
            [
             0,
             "#0d0887"
            ],
            [
             0.1111111111111111,
             "#46039f"
            ],
            [
             0.2222222222222222,
             "#7201a8"
            ],
            [
             0.3333333333333333,
             "#9c179e"
            ],
            [
             0.4444444444444444,
             "#bd3786"
            ],
            [
             0.5555555555555556,
             "#d8576b"
            ],
            [
             0.6666666666666666,
             "#ed7953"
            ],
            [
             0.7777777777777778,
             "#fb9f3a"
            ],
            [
             0.8888888888888888,
             "#fdca26"
            ],
            [
             1,
             "#f0f921"
            ]
           ],
           "sequentialminus": [
            [
             0,
             "#0d0887"
            ],
            [
             0.1111111111111111,
             "#46039f"
            ],
            [
             0.2222222222222222,
             "#7201a8"
            ],
            [
             0.3333333333333333,
             "#9c179e"
            ],
            [
             0.4444444444444444,
             "#bd3786"
            ],
            [
             0.5555555555555556,
             "#d8576b"
            ],
            [
             0.6666666666666666,
             "#ed7953"
            ],
            [
             0.7777777777777778,
             "#fb9f3a"
            ],
            [
             0.8888888888888888,
             "#fdca26"
            ],
            [
             1,
             "#f0f921"
            ]
           ]
          },
          "colorway": [
           "#636efa",
           "#EF553B",
           "#00cc96",
           "#ab63fa",
           "#FFA15A",
           "#19d3f3",
           "#FF6692",
           "#B6E880",
           "#FF97FF",
           "#FECB52"
          ],
          "font": {
           "color": "#2a3f5f"
          },
          "geo": {
           "bgcolor": "white",
           "lakecolor": "white",
           "landcolor": "#E5ECF6",
           "showlakes": true,
           "showland": true,
           "subunitcolor": "white"
          },
          "hoverlabel": {
           "align": "left"
          },
          "hovermode": "closest",
          "mapbox": {
           "style": "light"
          },
          "paper_bgcolor": "white",
          "plot_bgcolor": "#E5ECF6",
          "polar": {
           "angularaxis": {
            "gridcolor": "white",
            "linecolor": "white",
            "ticks": ""
           },
           "bgcolor": "#E5ECF6",
           "radialaxis": {
            "gridcolor": "white",
            "linecolor": "white",
            "ticks": ""
           }
          },
          "scene": {
           "xaxis": {
            "backgroundcolor": "#E5ECF6",
            "gridcolor": "white",
            "gridwidth": 2,
            "linecolor": "white",
            "showbackground": true,
            "ticks": "",
            "zerolinecolor": "white"
           },
           "yaxis": {
            "backgroundcolor": "#E5ECF6",
            "gridcolor": "white",
            "gridwidth": 2,
            "linecolor": "white",
            "showbackground": true,
            "ticks": "",
            "zerolinecolor": "white"
           },
           "zaxis": {
            "backgroundcolor": "#E5ECF6",
            "gridcolor": "white",
            "gridwidth": 2,
            "linecolor": "white",
            "showbackground": true,
            "ticks": "",
            "zerolinecolor": "white"
           }
          },
          "shapedefaults": {
           "line": {
            "color": "#2a3f5f"
           }
          },
          "ternary": {
           "aaxis": {
            "gridcolor": "white",
            "linecolor": "white",
            "ticks": ""
           },
           "baxis": {
            "gridcolor": "white",
            "linecolor": "white",
            "ticks": ""
           },
           "bgcolor": "#E5ECF6",
           "caxis": {
            "gridcolor": "white",
            "linecolor": "white",
            "ticks": ""
           }
          },
          "title": {
           "x": 0.05
          },
          "xaxis": {
           "automargin": true,
           "gridcolor": "white",
           "linecolor": "white",
           "ticks": "",
           "title": {
            "standoff": 15
           },
           "zerolinecolor": "white",
           "zerolinewidth": 2
          },
          "yaxis": {
           "automargin": true,
           "gridcolor": "white",
           "linecolor": "white",
           "ticks": "",
           "title": {
            "standoff": 15
           },
           "zerolinecolor": "white",
           "zerolinewidth": 2
          }
         }
        },
        "title": {
         "text": "Análisis de Pacientes por Ciudad, Edad y Raza"
        },
        "width": 1000,
        "xaxis": {
         "anchor": "y",
         "autorange": true,
         "domain": [
          0.55,
          1
         ],
         "range": [
          -0.5,
          5.5
         ],
         "type": "category"
        },
        "yaxis": {
         "anchor": "x",
         "autorange": true,
         "domain": [
          0,
          1
         ],
         "range": [
          13.666666666666668,
          60.333333333333336
         ],
         "type": "linear"
        }
       }
      },
      "image/png": "[encoded data removed]",
      "text/html": [
       "<div>                            <div id=\"efa27af6-da22-48da-ad29-bf9cf9d0ac0f\" class=\"plotly-graph-div\" style=\"height:600px; width:1000px;\"></div>            <script type=\"text/javascript\">                require([\"plotly\"], function(Plotly) {                    window.PLOTLYENV=window.PLOTLYENV || {};                                    if (document.getElementById(\"efa27af6-da22-48da-ad29-bf9cf9d0ac0f\")) {                    Plotly.newPlot(                        \"efa27af6-da22-48da-ad29-bf9cf9d0ac0f\",                        [{\"geo\":\"geo\",\"hovertemplate\":\"\\u003cb\\u003e%{hovertext}\\u003c\\u002fb\\u003e\\u003cbr\\u003e\\u003cbr\\u003eLAT=%{lat}\\u003cbr\\u003eLON=%{lon}\\u003cextra\\u003e\\u003c\\u002fextra\\u003e\",\"hovertext\":[\"Middlesex County\",\"Barnstable County\",\"Hampden County\",\"Suffolk County\",\"Berkshire County\",\"Essex County\",\"Middlesex County\",\"Suffolk County\",\"Suffolk County\",\"Plymouth County\",\"Norfolk County\",\"Berkshire County\",\"Suffolk County\",\"Norfolk County\",\"Bristol County\",\"Bristol County\",\"Middlesex County\",\"Hampshire County\",\"Barnstable County\",\"Bristol County\",\"Hampden County\",\"Middlesex County\",\"Worcester County\",\"Hampshire County\",\"Hampden County\",\"Hampden County\",\"Suffolk County\",\"Norfolk County\",\"Middlesex County\",\"Middlesex County\",\"Bristol County\",\"Suffolk County\",\"Plymouth County\",\"Plymouth County\",\"Middlesex County\",\"Worcester County\",\"Norfolk County\",\"Essex County\",\"Essex County\",\"Middlesex County\",\"Suffolk County\",\"Norfolk County\",\"Worcester County\",\"Worcester County\",\"Bristol County\",\"Middlesex County\",\"Berkshire County\",\"Barnstable County\",\"Middlesex County\",\"Hampshire County\",\"Essex County\",\"Hampden County\",\"Suffolk County\",\"Norfolk County\",\"Hampden County\",\"Bristol County\",\"Middlesex County\",\"Bristol County\",\"Worcester County\",\"Plymouth County\",\"Plymouth County\",\"Middlesex County\",\"Norfolk County\",\"Plymouth County\",\"Norfolk County\",\"Middlesex County\",\"Middlesex County\",\"Suffolk County\",\"Middlesex County\",\"Norfolk County\",\"Hampden County\",\"Worcester County\",\"Barnstable County\",\"Worcester County\",\"Bristol County\",\"Norfolk County\",\"Dukes County\",\"Hampshire County\",\"Bristol County\",\"Suffolk County\",\"Middlesex County\",\"Suffolk County\",\"Worcester County\",\"Middlesex County\",\"Bristol County\",\"Worcester County\",\"Middlesex County\",\"Barnstable County\",\"Middlesex County\",\"Worcester County\",\"Bristol County\",\"Bristol County\",\"Suffolk County\",\"Suffolk County\",\"Essex County\",\"Hampshire County\",\"Essex County\",\"Hampden County\",\"Plymouth County\",\"Norfolk County\",\"Suffolk County\",\"Berkshire County\",\"Worcester County\",\"Middlesex County\",\"Hampden County\",\"Suffolk County\",\"Hampden County\",\"Middlesex County\",\"Essex County\",\"Essex County\",\"Hampden County\",\"Hampshire County\",\"Middlesex County\",\"Plymouth County\",\"Plymouth County\",\"Middlesex County\",\"Middlesex County\",\"Middlesex County\",\"Essex County\",\"Middlesex County\",\"Barnstable County\",\"Hampden County\",\"Middlesex County\",\"Hampden County\",\"Essex County\",\"Norfolk County\",\"Bristol County\",\"Bristol County\",\"Norfolk County\",\"Bristol County\",\"Plymouth County\",\"Suffolk County\",\"Suffolk County\",\"Hampden County\",\"Norfolk County\",\"Suffolk County\",\"Worcester County\",\"Worcester County\",\"Middlesex County\",\"Barnstable County\",\"Norfolk County\",\"Middlesex County\",\"Nantucket County\",\"Suffolk County\",\"Middlesex County\",\"Suffolk County\",\"Middlesex County\",\"Middlesex County\",\"Berkshire County\",\"Essex County\",\"Norfolk County\",\"Essex County\",\"Suffolk County\",\"Worcester County\",\"Middlesex County\",\"Hampshire County\",\"Hampshire County\",\"Barnstable County\",\"Essex County\",\"Barnstable County\",\"Worcester County\",\"Middlesex County\",\"Bristol County\",\"Norfolk County\",\"Franklin County\",\"Hampden County\",\"Franklin County\",\"Middlesex County\",\"Worcester County\",\"Middlesex County\",\"Middlesex County\",\"Plymouth County\",\"Berkshire County\",\"Middlesex County\",\"Essex County\",\"Norfolk County\",\"Hampshire County\",\"Suffolk County\",\"Suffolk County\",\"Essex County\",\"Bristol County\",\"Bristol County\",\"Barnstable County\",\"Middlesex County\",\"Dukes County\",\"Middlesex County\",\"Suffolk County\",\"Suffolk County\",\"Worcester County\",\"Middlesex County\",\"Plymouth County\",\"Hampshire County\",\"Bristol County\",\"Suffolk County\",\"Essex County\",\"Bristol County\",\"Suffolk County\",\"Essex County\",\"Norfolk County\",\"Suffolk County\",\"Middlesex County\",\"Barnstable County\",\"Middlesex County\",\"Worcester County\",\"Suffolk County\",\"Middlesex County\"],\"lat\":[42.67888685478229,41.7122458350562,42.17500598718509,42.461726377014095,42.48185615473452,42.53271711315142,42.343692318811456,42.35889931340718,42.386831748728,42.07714749905091,42.21490699109728,42.72173680108907,42.3401717430075,42.25112640215888,41.68181272250503,41.52222136973631,42.49268884868154,42.3786679578193,41.66131979094106,41.9026919578188,42.12625498410046,42.41684082234052,42.39808770161401,42.27537341531902,42.09696332866478,42.013206220836935,42.3902979893922,42.13974676601344,42.41617857325989,42.32312552465867,41.65751028511602,42.41478213616087,42.00853166878579,41.93904489430513,42.42048852233953,42.16165264718853,42.25402662542398,42.43719603293122,42.5636796778846,42.42750687600896,42.34912688498299,42.26360757030496,42.68561139861759,42.3445141895039,41.83576336097751,42.67802187585169,42.66578576097695,41.60873520616635,42.44670166696216,42.31016332278559,42.82546944129954,42.13355162766901,42.38114996593817,42.26998850245901,42.08462280388597,42.01526337346352,42.425767187544906,41.94303413565918,42.61271697725495,42.05467437395316,42.090818824208704,42.37580065676429,42.1134050484219,42.02312976149022,42.252746072187904,42.57897477825241,42.46439781110281,42.334478172245774,42.69176229424567,42.14026083444936,42.13922218635881,42.3114199578084,41.68754290222468,42.05324576482265,41.62672565149733,42.29975846504687,41.44215764454286,42.27692809240683,41.68048158679954,42.3329653697087,42.41556640705916,42.30368816096297,42.58917762320183,42.58942511633735,41.83676542539809,42.05248216888923,42.43394208644573,41.68684806935345,42.5411562791455,42.12472696603837,42.007641192462046,41.91029257155468,42.415177368157245,42.36810996895093,42.627001211820826,42.34407353799404,42.43099755568132,42.19324134284932,42.08028639657887,42.30019910935692,42.376689240992064,42.7477142475047,42.586618387552285,42.37663088566822,42.16358802594438,42.32036672746698,42.07534514043365,42.62479246210312,42.47735888405828,42.62489624619868,42.23382539677041,42.3323911917559,42.45309621528077,42.04276734717168,42.00707166031638,42.38896725067219,42.29985868623,42.31746705627474,42.595773735744885,42.455887779112885,41.586652643491085,42.200805723888735,42.36863230817886,42.2430475065975,42.45106760819518,42.3234970956464,41.7473598744787,41.96659253417486,42.20749380535505,41.94239315749264,41.805107993877805,42.27220469812858,42.33894790043232,42.10899401035815,42.01187126131942,42.33463155619118,42.08445976061764,42.21497079878949,42.27117455714146,41.67671943679477,42.31171321331697,42.38680052267261,41.26875674455651,42.28659045547011,42.48951001774788,42.36030407252625,42.643228459402685,42.44548345404145,42.45158535003796,42.5692853628174,42.19263249866599,42.6013138240313,42.37865909741192,42.225928076530096,42.47398552849212,42.32394889127169,42.37341956749798,41.63057457433564,42.60526088142755,41.6435541148573,42.07555897919834,42.585715170008775,41.63508580095141,42.26517614800007,42.50656779042785,42.13591925261554,42.559555231212144,42.40892809646383,42.10706688477155,42.57108986990019,42.4059254780998,41.982471627557565,42.66291450390877,42.36496883565368,42.52915397925756,42.26793650577109,42.257981195968256,42.3641583149783,42.404820460757634,42.55523626957348,41.69873643045816,41.67522947610455,41.72365557462149,42.46844770000367,41.3517156133321,42.45135179453677,42.34002226468495,42.34710366413826,42.272465123069786,42.313424288027896,41.755183525633726,42.44059675253658,41.828249168836415,42.28505094202561,42.80563962942963,41.7457527055635,42.32798913081304,42.507042263211325,42.15306637323902,42.36874370689159,42.69806261039778,41.5676795032772,42.64915619617701,42.4527907945722,42.37724061926728,42.296552230910265],\"legendgroup\":\"\",\"lon\":[-71.4666523359866,-70.45110962363147,-72.57041697061801,-71.00000160289086,-73.14468460047901,-71.06542866997387,-71.40736559277755,-71.08768555822111,-71.03874447335895,-70.89505826498508,-71.38113199607037,-73.17847571452462,-71.17804566600105,-70.97085944358965,-71.21690772710106,-70.92000542764536,-71.16705038176077,-72.54442605455094,-70.17943871740418,-71.08753857845839,-72.67892394304302,-71.10427616504963,-71.77533501067492,-72.4537208335075,-72.69900720749095,-72.6159940754573,-70.99709115013802,-71.07868530000545,-71.08471496282414,-71.19463671490585,-71.06495326762264,-71.08443646439227,-70.7331555166132,-70.7173108037064,-71.10215857679702,-71.49209721442571,-70.91738839007259,-70.96272488595876,-71.04627883404765,-71.03699913927524,-71.08862068734113,-71.01974770138168,-71.92508881058009,-71.80440028632495,-71.37188065872789,-71.27107797023432,-73.10320480734126,-69.96664106969979,-71.13625908528172,-72.4942206322073,-70.85961151150613,-72.79093995971346,-71.10698692781217,-71.0341493956677,-72.62748167538435,-71.07129063371819,-71.12012657607241,-71.08875604746504,-71.92599088707989,-70.92104553296359,-70.95021845054909,-71.14037951855975,-71.37137413685988,-70.82750544910121,-71.00495086005328,-71.1112076335125,-71.1062122277646,-71.04760717957275,-71.39247177880445,-71.22971120302063,-72.54931613929043,-71.53424098417429,-70.18022203162133,-71.6805710986948,-71.13158387933979,-71.14267551594794,-70.62434058641372,-72.82592853920646,-71.21704059024658,-71.00671834386213,-71.33211410846135,-71.06045912617198,-71.86356298977624,-71.18555616837926,-71.2772169044535,-71.65078202136019,-71.18140937895767,-70.15629993821827,-71.20221277008773,-71.55804258728945,-71.25202118795322,-70.99818221556058,-71.03406882885996,-71.0799582139074,-71.13880941857009,-72.50996832596537,-70.89577578015262,-72.5642206962993,-70.91045262260722,-71.20339649105472,-70.99060060076127,-73.03551991242286,-71.84975231800293,-71.13867726731355,-72.64391588036689,-71.17386768874263,-72.52240601816948,-71.4562252465955,-70.87143172007508,-71.14415796775506,-72.62031429156606,-72.56556237269905,-71.19878661876677,-70.93301949974831,-70.75507975117925,-71.10527214602627,-71.59571928367083,-71.23211093038894,-70.58691998041218,-71.38851059751158,-70.40955485961958,-72.54433428843086,-71.56275518007199,-72.35980840865557,-70.7881961052604,-71.27381959974979,-71.0836775095298,-71.29482154839505,-71.01171691288184,-71.34557085188212,-70.92841659478874,-71.10208802341593,-71.09388559034399,-72.56102288204222,-71.27951407070692,-71.11543309851055,-72.00125686358204,-72.00483777446445,-71.42976127918146,-70.07240488264583,-70.97677882252395,-71.22247163314601,-70.13007756631187,-71.00633762116662,-71.1313288976257,-70.98764274395108,-71.19413357917453,-71.11385353995462,-73.30136555774351,-70.85885372474007,-71.297203181341,-70.92040361404895,-71.08338055175905,-71.95385698384663,-71.10588939613717,-72.49821957453045,-72.68322920466471,-70.24231049683134,-70.8920415129101,-70.44332014936163,-71.78226222395635,-71.37462449716303,-71.08201205177585,-71.04369129833721,-72.74976501303699,-72.63882549431183,-72.27831584540897,-71.12608413713276,-71.62474003189452,-71.30855565825834,-71.13945535607489,-70.69596343853883,-73.08976797438406,-71.0644073587767,-71.08278797862378,-71.29396211264313,-72.7805430060776,-71.10452537044232,-71.0787810597002,-71.08581908529989,-71.18643837209767,-70.85396725066244,-70.14128755708383,-71.04897554755154,-70.5265794867061,-71.10872834138708,-71.03383021824533,-71.07273429916567,-71.80844488040253,-71.56803546572043,-70.70145725121304,-72.56848653336091,-71.10924264219894,-71.1252115402952,-70.83643319507338,-71.1132634509396,-71.09446559002916,-70.83713237789699,-71.08332901685978,-71.13671232313766,-71.31625864434875,-70.62412318338463,-71.59871636767367,-72.12541719337489,-71.12251944495648,-71.46856492047172],\"marker\":{\"color\":\"#636efa\",\"symbol\":\"circle\"},\"mode\":\"markers\",\"name\":\"\",\"showlegend\":false,\"type\":\"scattergeo\"},{\"alignmentgroup\":\"True\",\"hovertemplate\":\"RACE=%{x}\\u003cbr\\u003eAGE=%{y}\\u003cextra\\u003e\\u003c\\u002fextra\\u003e\",\"legendgroup\":\"asian\",\"marker\":{\"color\":\"#636efa\"},\"name\":\"asian\",\"notched\":false,\"offsetgroup\":\"asian\",\"orientation\":\"v\",\"showlegend\":true,\"x\":[\"asian\",\"asian\",\"asian\",\"asian\",\"asian\",\"asian\",\"asian\",\"asian\",\"asian\",\"asian\",\"asian\",\"asian\",\"asian\"],\"x0\":\" \",\"xaxis\":\"x\",\"y\":[20,49,31,40,39,18,31,41,17,31,49,35,46],\"y0\":\" \",\"yaxis\":\"y\",\"type\":\"box\"},{\"alignmentgroup\":\"True\",\"hovertemplate\":\"RACE=%{x}\\u003cbr\\u003eAGE=%{y}\\u003cextra\\u003e\\u003c\\u002fextra\\u003e\",\"legendgroup\":\"white\",\"marker\":{\"color\":\"#EF553B\"},\"name\":\"white\",\"notched\":false,\"offsetgroup\":\"white\",\"orientation\":\"v\",\"showlegend\":true,\"x\":[\"white\",\"white\",\"white\",\"white\",\"white\",\"white\",\"white\",\"white\",\"white\",\"white\",\"white\",\"white\",\"white\",\"white\",\"white\",\"white\",\"white\",\"white\",\"white\",\"white\",\"white\",\"white\",\"white\",\"white\",\"white\",\"white\",\"white\",\"white\",\"white\",\"white\",\"white\",\"white\",\"white\",\"white\",\"white\",\"white\",\"white\",\"white\",\"white\",\"white\",\"white\",\"white\",\"white\",\"white\",\"white\",\"white\",\"white\",\"white\",\"white\",\"white\",\"white\",\"white\",\"white\",\"white\",\"white\",\"white\",\"white\",\"white\",\"white\",\"white\",\"white\",\"white\",\"white\",\"white\",\"white\",\"white\",\"white\",\"white\",\"white\",\"white\",\"white\",\"white\",\"white\",\"white\",\"white\",\"white\",\"white\",\"white\",\"white\",\"white\",\"white\",\"white\",\"white\",\"white\",\"white\",\"white\",\"white\",\"white\",\"white\",\"white\",\"white\",\"white\",\"white\",\"white\",\"white\",\"white\",\"white\",\"white\",\"white\",\"white\",\"white\",\"white\",\"white\",\"white\",\"white\",\"white\",\"white\",\"white\",\"white\",\"white\",\"white\",\"white\",\"white\",\"white\",\"white\",\"white\",\"white\",\"white\",\"white\",\"white\",\"white\",\"white\",\"white\",\"white\",\"white\",\"white\",\"white\",\"white\",\"white\",\"white\",\"white\",\"white\",\"white\",\"white\",\"white\",\"white\",\"white\",\"white\",\"white\",\"white\",\"white\",\"white\",\"white\",\"white\",\"white\",\"white\",\"white\",\"white\",\"white\",\"white\",\"white\",\"white\",\"white\",\"white\",\"white\",\"white\",\"white\",\"white\",\"white\",\"white\",\"white\",\"white\",\"white\",\"white\",\"white\",\"white\"],\"x0\":\" \",\"xaxis\":\"x\",\"y\":[19,32,34,39,48,37,21,33,40,31,16,43,34,39,46,38,16,25,49,37,23,27,35,17,43,42,16,18,42,42,27,38,25,33,19,28,18,48,46,39,25,30,46,23,48,45,23,47,49,48,50,50,48,39,24,30,46,39,46,47,39,37,57,20,43,17,42,34,36,33,37,42,20,20,29,46,34,43,32,17,48,44,43,37,35,46,49,16,18,21,43,41,25,49,41,46,40,28,26,31,48,39,28,50,52,37,20,58,45,43,20,17,28,43,37,28,25,30,27,16,22,26,48,18,43,45,36,47,43,39,39,43,32,36,25,35,21,22,40,43,47,37,40,39,41,33,19,16,30,50,16,34,18,19,38,41,33,27,22,36,44,25,18,46,21,46],\"y0\":\" \",\"yaxis\":\"y\",\"type\":\"box\"},{\"alignmentgroup\":\"True\",\"hovertemplate\":\"RACE=%{x}\\u003cbr\\u003eAGE=%{y}\\u003cextra\\u003e\\u003c\\u002fextra\\u003e\",\"legendgroup\":\"black\",\"marker\":{\"color\":\"#00cc96\"},\"name\":\"black\",\"notched\":false,\"offsetgroup\":\"black\",\"orientation\":\"v\",\"showlegend\":true,\"x\":[\"black\",\"black\",\"black\",\"black\",\"black\",\"black\",\"black\",\"black\",\"black\",\"black\",\"black\",\"black\",\"black\",\"black\",\"black\",\"black\"],\"x0\":\" \",\"xaxis\":\"x\",\"y\":[32,37,44,53,28,44,22,42,21,45,37,26,28,44,33,40],\"y0\":\" \",\"yaxis\":\"y\",\"type\":\"box\"},{\"alignmentgroup\":\"True\",\"hovertemplate\":\"RACE=%{x}\\u003cbr\\u003eAGE=%{y}\\u003cextra\\u003e\\u003c\\u002fextra\\u003e\",\"legendgroup\":\"hawaiian\",\"marker\":{\"color\":\"#ab63fa\"},\"name\":\"hawaiian\",\"notched\":false,\"offsetgroup\":\"hawaiian\",\"orientation\":\"v\",\"showlegend\":true,\"x\":[\"hawaiian\",\"hawaiian\",\"hawaiian\",\"hawaiian\",\"hawaiian\",\"hawaiian\"],\"x0\":\" \",\"xaxis\":\"x\",\"y\":[29,37,34,48,18,47],\"y0\":\" \",\"yaxis\":\"y\",\"type\":\"box\"},{\"alignmentgroup\":\"True\",\"hovertemplate\":\"RACE=%{x}\\u003cbr\\u003eAGE=%{y}\\u003cextra\\u003e\\u003c\\u002fextra\\u003e\",\"legendgroup\":\"native\",\"marker\":{\"color\":\"#FFA15A\"},\"name\":\"native\",\"notched\":false,\"offsetgroup\":\"native\",\"orientation\":\"v\",\"showlegend\":true,\"x\":[\"native\"],\"x0\":\" \",\"xaxis\":\"x\",\"y\":[16],\"y0\":\" \",\"yaxis\":\"y\",\"type\":\"box\"},{\"alignmentgroup\":\"True\",\"hovertemplate\":\"RACE=%{x}\\u003cbr\\u003eAGE=%{y}\\u003cextra\\u003e\\u003c\\u002fextra\\u003e\",\"legendgroup\":\"other\",\"marker\":{\"color\":\"#19d3f3\"},\"name\":\"other\",\"notched\":false,\"offsetgroup\":\"other\",\"orientation\":\"v\",\"showlegend\":true,\"x\":[\"other\",\"other\",\"other\",\"other\"],\"x0\":\" \",\"xaxis\":\"x\",\"y\":[17,27,17,16],\"y0\":\" \",\"yaxis\":\"y\",\"type\":\"box\"}],                        {\"template\":{\"data\":{\"histogram2dcontour\":[{\"type\":\"histogram2dcontour\",\"colorbar\":{\"outlinewidth\":0,\"ticks\":\"\"},\"colorscale\":[[0.0,\"#0d0887\"],[0.1111111111111111,\"#46039f\"],[0.2222222222222222,\"#7201a8\"],[0.3333333333333333,\"#9c179e\"],[0.4444444444444444,\"#bd3786\"],[0.5555555555555556,\"#d8576b\"],[0.6666666666666666,\"#ed7953\"],[0.7777777777777778,\"#fb9f3a\"],[0.8888888888888888,\"#fdca26\"],[1.0,\"#f0f921\"]]}],\"choropleth\":[{\"type\":\"choropleth\",\"colorbar\":{\"outlinewidth\":0,\"ticks\":\"\"}}],\"histogram2d\":[{\"type\":\"histogram2d\",\"colorbar\":{\"outlinewidth\":0,\"ticks\":\"\"},\"colorscale\":[[0.0,\"#0d0887\"],[0.1111111111111111,\"#46039f\"],[0.2222222222222222,\"#7201a8\"],[0.3333333333333333,\"#9c179e\"],[0.4444444444444444,\"#bd3786\"],[0.5555555555555556,\"#d8576b\"],[0.6666666666666666,\"#ed7953\"],[0.7777777777777778,\"#fb9f3a\"],[0.8888888888888888,\"#fdca26\"],[1.0,\"#f0f921\"]]}],\"heatmap\":[{\"type\":\"heatmap\",\"colorbar\":{\"outlinewidth\":0,\"ticks\":\"\"},\"colorscale\":[[0.0,\"#0d0887\"],[0.1111111111111111,\"#46039f\"],[0.2222222222222222,\"#7201a8\"],[0.3333333333333333,\"#9c179e\"],[0.4444444444444444,\"#bd3786\"],[0.5555555555555556,\"#d8576b\"],[0.6666666666666666,\"#ed7953\"],[0.7777777777777778,\"#fb9f3a\"],[0.8888888888888888,\"#fdca26\"],[1.0,\"#f0f921\"]]}],\"heatmapgl\":[{\"type\":\"heatmapgl\",\"colorbar\":{\"outlinewidth\":0,\"ticks\":\"\"},\"colorscale\":[[0.0,\"#0d0887\"],[0.1111111111111111,\"#46039f\"],[0.2222222222222222,\"#7201a8\"],[0.3333333333333333,\"#9c179e\"],[0.4444444444444444,\"#bd3786\"],[0.5555555555555556,\"#d8576b\"],[0.6666666666666666,\"#ed7953\"],[0.7777777777777778,\"#fb9f3a\"],[0.8888888888888888,\"#fdca26\"],[1.0,\"#f0f921\"]]}],\"contourcarpet\":[{\"type\":\"contourcarpet\",\"colorbar\":{\"outlinewidth\":0,\"ticks\":\"\"}}],\"contour\":[{\"type\":\"contour\",\"colorbar\":{\"outlinewidth\":0,\"ticks\":\"\"},\"colorscale\":[[0.0,\"#0d0887\"],[0.1111111111111111,\"#46039f\"],[0.2222222222222222,\"#7201a8\"],[0.3333333333333333,\"#9c179e\"],[0.4444444444444444,\"#bd3786\"],[0.5555555555555556,\"#d8576b\"],[0.6666666666666666,\"#ed7953\"],[0.7777777777777778,\"#fb9f3a\"],[0.8888888888888888,\"#fdca26\"],[1.0,\"#f0f921\"]]}],\"surface\":[{\"type\":\"surface\",\"colorbar\":{\"outlinewidth\":0,\"ticks\":\"\"},\"colorscale\":[[0.0,\"#0d0887\"],[0.1111111111111111,\"#46039f\"],[0.2222222222222222,\"#7201a8\"],[0.3333333333333333,\"#9c179e\"],[0.4444444444444444,\"#bd3786\"],[0.5555555555555556,\"#d8576b\"],[0.6666666666666666,\"#ed7953\"],[0.7777777777777778,\"#fb9f3a\"],[0.8888888888888888,\"#fdca26\"],[1.0,\"#f0f921\"]]}],\"mesh3d\":[{\"type\":\"mesh3d\",\"colorbar\":{\"outlinewidth\":0,\"ticks\":\"\"}}],\"scatter\":[{\"fillpattern\":{\"fillmode\":\"overlay\",\"size\":10,\"solidity\":0.2},\"type\":\"scatter\"}],\"parcoords\":[{\"type\":\"parcoords\",\"line\":{\"colorbar\":{\"outlinewidth\":0,\"ticks\":\"\"}}}],\"scatterpolargl\":[{\"type\":\"scatterpolargl\",\"marker\":{\"colorbar\":{\"outlinewidth\":0,\"ticks\":\"\"}}}],\"bar\":[{\"error_x\":{\"color\":\"#2a3f5f\"},\"error_y\":{\"color\":\"#2a3f5f\"},\"marker\":{\"line\":{\"color\":\"#E5ECF6\",\"width\":0.5},\"pattern\":{\"fillmode\":\"overlay\",\"size\":10,\"solidity\":0.2}},\"type\":\"bar\"}],\"scattergeo\":[{\"type\":\"scattergeo\",\"marker\":{\"colorbar\":{\"outlinewidth\":0,\"ticks\":\"\"}}}],\"scatterpolar\":[{\"type\":\"scatterpolar\",\"marker\":{\"colorbar\":{\"outlinewidth\":0,\"ticks\":\"\"}}}],\"histogram\":[{\"marker\":{\"pattern\":{\"fillmode\":\"overlay\",\"size\":10,\"solidity\":0.2}},\"type\":\"histogram\"}],\"scattergl\":[{\"type\":\"scattergl\",\"marker\":{\"colorbar\":{\"outlinewidth\":0,\"ticks\":\"\"}}}],\"scatter3d\":[{\"type\":\"scatter3d\",\"line\":{\"colorbar\":{\"outlinewidth\":0,\"ticks\":\"\"}},\"marker\":{\"colorbar\":{\"outlinewidth\":0,\"ticks\":\"\"}}}],\"scattermapbox\":[{\"type\":\"scattermapbox\",\"marker\":{\"colorbar\":{\"outlinewidth\":0,\"ticks\":\"\"}}}],\"scatterternary\":[{\"type\":\"scatterternary\",\"marker\":{\"colorbar\":{\"outlinewidth\":0,\"ticks\":\"\"}}}],\"scattercarpet\":[{\"type\":\"scattercarpet\",\"marker\":{\"colorbar\":{\"outlinewidth\":0,\"ticks\":\"\"}}}],\"carpet\":[{\"aaxis\":{\"endlinecolor\":\"#2a3f5f\",\"gridcolor\":\"white\",\"linecolor\":\"white\",\"minorgridcolor\":\"white\",\"startlinecolor\":\"#2a3f5f\"},\"baxis\":{\"endlinecolor\":\"#2a3f5f\",\"gridcolor\":\"white\",\"linecolor\":\"white\",\"minorgridcolor\":\"white\",\"startlinecolor\":\"#2a3f5f\"},\"type\":\"carpet\"}],\"table\":[{\"cells\":{\"fill\":{\"color\":\"#EBF0F8\"},\"line\":{\"color\":\"white\"}},\"header\":{\"fill\":{\"color\":\"#C8D4E3\"},\"line\":{\"color\":\"white\"}},\"type\":\"table\"}],\"barpolar\":[{\"marker\":{\"line\":{\"color\":\"#E5ECF6\",\"width\":0.5},\"pattern\":{\"fillmode\":\"overlay\",\"size\":10,\"solidity\":0.2}},\"type\":\"barpolar\"}],\"pie\":[{\"automargin\":true,\"type\":\"pie\"}]},\"layout\":{\"autotypenumbers\":\"strict\",\"colorway\":[\"#636efa\",\"#EF553B\",\"#00cc96\",\"#ab63fa\",\"#FFA15A\",\"#19d3f3\",\"#FF6692\",\"#B6E880\",\"#FF97FF\",\"#FECB52\"],\"font\":{\"color\":\"#2a3f5f\"},\"hovermode\":\"closest\",\"hoverlabel\":{\"align\":\"left\"},\"paper_bgcolor\":\"white\",\"plot_bgcolor\":\"#E5ECF6\",\"polar\":{\"bgcolor\":\"#E5ECF6\",\"angularaxis\":{\"gridcolor\":\"white\",\"linecolor\":\"white\",\"ticks\":\"\"},\"radialaxis\":{\"gridcolor\":\"white\",\"linecolor\":\"white\",\"ticks\":\"\"}},\"ternary\":{\"bgcolor\":\"#E5ECF6\",\"aaxis\":{\"gridcolor\":\"white\",\"linecolor\":\"white\",\"ticks\":\"\"},\"baxis\":{\"gridcolor\":\"white\",\"linecolor\":\"white\",\"ticks\":\"\"},\"caxis\":{\"gridcolor\":\"white\",\"linecolor\":\"white\",\"ticks\":\"\"}},\"coloraxis\":{\"colorbar\":{\"outlinewidth\":0,\"ticks\":\"\"}},\"colorscale\":{\"sequential\":[[0.0,\"#0d0887\"],[0.1111111111111111,\"#46039f\"],[0.2222222222222222,\"#7201a8\"],[0.3333333333333333,\"#9c179e\"],[0.4444444444444444,\"#bd3786\"],[0.5555555555555556,\"#d8576b\"],[0.6666666666666666,\"#ed7953\"],[0.7777777777777778,\"#fb9f3a\"],[0.8888888888888888,\"#fdca26\"],[1.0,\"#f0f921\"]],\"sequentialminus\":[[0.0,\"#0d0887\"],[0.1111111111111111,\"#46039f\"],[0.2222222222222222,\"#7201a8\"],[0.3333333333333333,\"#9c179e\"],[0.4444444444444444,\"#bd3786\"],[0.5555555555555556,\"#d8576b\"],[0.6666666666666666,\"#ed7953\"],[0.7777777777777778,\"#fb9f3a\"],[0.8888888888888888,\"#fdca26\"],[1.0,\"#f0f921\"]],\"diverging\":[[0,\"#8e0152\"],[0.1,\"#c51b7d\"],[0.2,\"#de77ae\"],[0.3,\"#f1b6da\"],[0.4,\"#fde0ef\"],[0.5,\"#f7f7f7\"],[0.6,\"#e6f5d0\"],[0.7,\"#b8e186\"],[0.8,\"#7fbc41\"],[0.9,\"#4d9221\"],[1,\"#276419\"]]},\"xaxis\":{\"gridcolor\":\"white\",\"linecolor\":\"white\",\"ticks\":\"\",\"title\":{\"standoff\":15},\"zerolinecolor\":\"white\",\"automargin\":true,\"zerolinewidth\":2},\"yaxis\":{\"gridcolor\":\"white\",\"linecolor\":\"white\",\"ticks\":\"\",\"title\":{\"standoff\":15},\"zerolinecolor\":\"white\",\"automargin\":true,\"zerolinewidth\":2},\"scene\":{\"xaxis\":{\"backgroundcolor\":\"#E5ECF6\",\"gridcolor\":\"white\",\"linecolor\":\"white\",\"showbackground\":true,\"ticks\":\"\",\"zerolinecolor\":\"white\",\"gridwidth\":2},\"yaxis\":{\"backgroundcolor\":\"#E5ECF6\",\"gridcolor\":\"white\",\"linecolor\":\"white\",\"showbackground\":true,\"ticks\":\"\",\"zerolinecolor\":\"white\",\"gridwidth\":2},\"zaxis\":{\"backgroundcolor\":\"#E5ECF6\",\"gridcolor\":\"white\",\"linecolor\":\"white\",\"showbackground\":true,\"ticks\":\"\",\"zerolinecolor\":\"white\",\"gridwidth\":2}},\"shapedefaults\":{\"line\":{\"color\":\"#2a3f5f\"}},\"annotationdefaults\":{\"arrowcolor\":\"#2a3f5f\",\"arrowhead\":0,\"arrowwidth\":1},\"geo\":{\"bgcolor\":\"white\",\"landcolor\":\"#E5ECF6\",\"subunitcolor\":\"white\",\"showland\":true,\"showlakes\":true,\"lakecolor\":\"white\"},\"title\":{\"x\":0.05},\"mapbox\":{\"style\":\"light\"}}},\"geo\":{\"domain\":{\"x\":[0.0,0.45],\"y\":[0.0,1.0]}},\"xaxis\":{\"anchor\":\"y\",\"domain\":[0.55,1.0]},\"yaxis\":{\"anchor\":\"x\",\"domain\":[0.0,1.0]},\"annotations\":[{\"font\":{\"size\":16},\"showarrow\":false,\"text\":\"Distribuci\\u00f3n Geogr\\u00e1fica por Ciudades\",\"x\":0.225,\"xanchor\":\"center\",\"xref\":\"paper\",\"y\":1.0,\"yanchor\":\"bottom\",\"yref\":\"paper\"},{\"font\":{\"size\":16},\"showarrow\":false,\"text\":\"Distribuci\\u00f3n de Edades por Raza\",\"x\":0.775,\"xanchor\":\"center\",\"xref\":\"paper\",\"y\":1.0,\"yanchor\":\"bottom\",\"yref\":\"paper\"}],\"title\":{\"text\":\"An\\u00e1lisis de Pacientes por Ciudad, Edad y Raza\"},\"height\":600,\"width\":1000},                        {\"responsive\": true}                    ).then(function(){\n",
       "                            \n",
       "var gd = document.getElementById('efa27af6-da22-48da-ad29-bf9cf9d0ac0f');\n",
       "var x = new MutationObserver(function (mutations, observer) {{\n",
       "        var display = window.getComputedStyle(gd).display;\n",
       "        if (!display || display === 'none') {{\n",
       "            console.log([gd, 'removed!']);\n",
       "            Plotly.purge(gd);\n",
       "            observer.disconnect();\n",
       "        }}\n",
       "}});\n",
       "\n",
       "// Listen for the removal of the full notebook cells\n",
       "var notebookContainer = gd.closest('#notebook-container');\n",
       "if (notebookContainer) {{\n",
       "    x.observe(notebookContainer, {childList: true});\n",
       "}}\n",
       "\n",
       "// Listen for the clearing of the current output cell\n",
       "var outputEl = gd.closest('.output');\n",
       "if (outputEl) {{\n",
       "    x.observe(outputEl, {childList: true});\n",
       "}}\n",
       "\n",
       "                        })                };                });            </script>        </div>"
      ]
     },
     "metadata": {},
     "output_type": "display_data"
    }
   ],
   "source": [
    "import plotly.subplots as sp\n",
    "fig = sp.make_subplots(\n",
    "    rows=1, cols=2,\n",
    "    subplot_titles=(\"Distribución Geográfica por Ciudades\", \"Distribución de Edades por Raza\"),\n",
    "    specs=[[{\"type\": \"geo\"}, {\"type\": \"xy\"}]]  # Define el tipo de celda: geo y xy\n",
    ")\n",
    "geo_traces = px.scatter_geo(\n",
    "    patients, \n",
    "    lat=\"LAT\", \n",
    "    lon=\"LON\", \n",
    "    hover_name=\"COUNTY\",\n",
    "    title=\"Distribución de las pacientes\",\n",
    "    projection = \"natural earth\"\n",
    ").data\n",
    "for trace in geo_traces:\n",
    "    fig.add_trace(trace, row=1, col=1)\n",
    "age_race_traces = px.box(\n",
    "    patients, \n",
    "    x=\"RACE\", \n",
    "    y = \"AGE\",\n",
    "    color = \"RACE\",\n",
    "    title= \"Edad y raza de las pacientes\"\n",
    ").data\n",
    "for trace in age_race_traces:\n",
    "    fig.add_trace(trace, row=1, col=2)\n",
    "fig.update_layout(height=600, width=1000, title_text=\"Análisis de Pacientes por Ciudad, Edad y Raza\")\n",
    "fig.show()"
   ]
  },
  {
   "cell_type": "code",
   "execution_count": 335,
   "id": "201abf6d-ffa2-4695-a7dd-bb6fce2b28d6",
   "metadata": {},
   "outputs": [],
   "source": [
    "encountersFiltered.to_csv('encountersFiltered.csv', index=False)"
   ]
  },
  {
   "cell_type": "code",
   "execution_count": 339,
   "id": "a162c884-0d05-4b15-8369-b6157675c0b9",
   "metadata": {},
   "outputs": [],
   "source": [
    "patients.to_csv('patientsFiltered.csv', index=False)"
   ]
  },
  {
   "cell_type": "code",
   "execution_count": null,
   "id": "faeb714c-d7ad-4cce-9709-358e36dae828",
   "metadata": {},
   "outputs": [],
   "source": []
  }
 ],
 "metadata": {
  "kernelspec": {
   "display_name": "Python 3 (ipykernel)",
   "language": "python",
   "name": "python3"
  },
  "language_info": {
   "codemirror_mode": {
    "name": "ipython",
    "version": 3
   },
   "file_extension": ".py",
   "mimetype": "text/x-python",
   "name": "python",
   "nbconvert_exporter": "python",
   "pygments_lexer": "ipython3",
   "version": "3.12.7"
  }
 },
 "nbformat": 4,
 "nbformat_minor": 5
}
