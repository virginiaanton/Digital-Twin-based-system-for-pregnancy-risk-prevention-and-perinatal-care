{
 "cells": [
  {
   "cell_type": "code",
   "execution_count": 3,
   "id": "1b254c5c-ffba-4c65-990a-a915c91b9703",
   "metadata": {},
   "outputs": [],
   "source": [
    "import pandas as pd\n",
    "import numpy as np\n",
    "\n",
    "import matplotlib.pyplot as plt\n",
    "import seaborn as sns\n",
    "%matplotlib inline\n",
    "\n",
    "from sklearn.model_selection import train_test_split, GridSearchCV\n",
    "from sklearn.metrics import classification_report, confusion_matrix\n",
    "from sklearn.neighbors import KNeighborsClassifier\n",
    "from sklearn.svm import SVC\n",
    "from sklearn.ensemble import RandomForestClassifier\n",
    "\n",
    "\n",
    "import scipy.stats as stats \n",
    "from scipy.stats import chi2_contingency, boxcox\n",
    "\n",
    "from statsmodels.formula.api import ols\n",
    "from statsmodels.stats.anova import anova_lm "
   ]
  },
  {
   "cell_type": "code",
   "execution_count": 5,
   "id": "b16264a7-299e-4fd7-a1da-bd01e63523a8",
   "metadata": {},
   "outputs": [],
   "source": [
    "df = pd.read_csv('Maternal-risk-processed.csv')"
   ]
  },
  {
   "cell_type": "markdown",
   "id": "72369781-c18c-489d-97fe-c61099c3b5e4",
   "metadata": {},
   "source": [
    "# PREDICCIÓN DE RIESGO MATERNAL CON ALGORITMO GRADIENT BOOST CLASSIFIER"
   ]
  },
  {
   "cell_type": "code",
   "execution_count": null,
   "id": "6077e5e5-d85c-43cb-82c8-00fbd40ef4c8",
   "metadata": {},
   "outputs": [],
   "source": [
    "x = df.drop('RiskLevel', axis=1)\n",
    "y = df['RiskLevel']"
   ]
  },
  {
   "cell_type": "code",
   "execution_count": null,
   "id": "deedadc1-b4ae-416b-8705-675b730ba773",
   "metadata": {},
   "outputs": [],
   "source": [
    "#Separamos datos entre muestra de entrenamiento y muestra de test\n",
    "X_train, X_test, y_train, y_test = train_test_split(x, y, test_size=0.3, random_state=101, stratify=y)"
   ]
  },
  {
   "cell_type": "markdown",
   "id": "77bf9d9a-ff47-401f-84c4-6c4c164c22a9",
   "metadata": {},
   "source": [
    "**Optimización de los Hiperparámetros con GridSearchCV**\n",
    "<UL>\n",
    "    <li>n_estimators: número deárboles en el modelo. Más árboles mejoran el rendimiento, pwro incrementa el tiempo de entrenamiento.</li>\n",
    "    <li>learning_rate: tasa de aprendizaje. Reduce la contribución de cada árbol, valores más pequeños requieren más árboles pero el modelo es más robusto.</li>\n",
    "    <li>max_depth: profundidad máxima de los árboles.Limitar la profundidad reduce el sobreajuste.</li>\n",
    "    <li>loss: para la clasificación, función de pérdida a optimizar. Suelen ser <code>log_loss</code> (para clasificación o <code>exponential</code>.</li>\n",
    "    <li>min_samples_split: número mínimo de muestras necesarias para dividir un nodo. Controla la creación de nodos de un árbol. Valores más altos hacen que el árbol sea  más restrictivo.</li>\n",
    "    <li>min_samples_leaf: número mínimo de muestras en una hoja.</li>\n",
    "    <li>max_leaf_nodes: número máximo de hojas en el árbol, limita la complejidad del modelo.</li>\n",
    "    <li>max_features: número máximo de características consideradas para dividir un nodo. Hay varias opciones: auto o sqrt (raíz cuadrada del númerototal de características), log2 (logaritmo base 2 del número total de características), o None (todas las características). </li>\n",
    "    <li>subsample: fracción de datos usada para entrenar cada árbol, los valores menores a 1 introducen aleatoriedad y ayudan a reducir el sobreajuste.</li>\n",
    "    <li>criterion: función que mide la división; opciones: friedman_mse: es el predeterminado, squared_error: error cuadrático medio, o mae: error absoluto medio (más robusto a outliers). </li>\n",
    "</UL>"
   ]
  },
  {
   "cell_type": "code",
   "execution_count": null,
   "id": "6b75c16f-31e3-410e-9ad9-98ac7cada7ea",
   "metadata": {},
   "outputs": [],
   "source": [
    "from sklearn.ensemble import GradientBoostingClassifier\n",
    "from sklearn.metrics import accuracy_score\n",
    "\n",
    "#Modelo básico\n",
    "gbc = GradientBoostingClassifier(random_state=42, \n",
    "                                n_estimators=500, learning_rate=0.01,   max_depth =5, \n",
    "                                min_samples_split=7, min_samples_leaf=5, subsample= 0.6, \n",
    "                                max_features=None)\n",
    "gbc.fit(X_train, y_train)\n",
    "\n",
    "#predicciones\n",
    "y_pred = gbc.predict(X_test)\n",
    "\n",
    "#Evaluación del Modelo\n",
    "print(\"Accuraccy:\", accuracy_score(y_test, y_pred))\n",
    "print(\"Reporte de clasificación\")\n",
    "print(classification_report(y_test, y_pred))"
   ]
  },
  {
   "cell_type": "code",
   "execution_count": null,
   "id": "c725e4ce-4c47-43f5-985e-263283a36de2",
   "metadata": {},
   "outputs": [],
   "source": [
    "param_grid = {\n",
    "    'n_estimators': [100, 200, 500, 700], \n",
    "    'learning_rate':[0.001,0.01, 0.05, 0.1],\n",
    "    'max_depth':[2,3,4,5,7], \n",
    "    'min_samples_split':[2,5,10,15,20],\n",
    "    'min_samples_leaf':[1,2,4,6,8], \n",
    "    'subsample':[0.5, 0.6, 0.8, 1.0], \n",
    "    'max_features':['sqrt', 'log2', None],\n",
    "    'criterion': ['friedman_mse', 'squarred_error', 'mae']\n",
    "}\n",
    "\n",
    "grid_search = GridSearchCV(\n",
    "    estimator=gbc, \n",
    "    param_grid=param_grid,\n",
    "    scoring='accuracy',\n",
    "    cv=5, \n",
    "    verbose=1,\n",
    "    n_jobs=-1\n",
    ")\n",
    "\n",
    "grid_search.fit(X_train, y_train)\n",
    "print(\"Mejores hiperparámetros encontrados:\", grid_search.best_params_)"
   ]
  },
  {
   "cell_type": "code",
   "execution_count": null,
   "id": "4a118101-15c5-48ce-bf1b-5bbd1b5c8bc5",
   "metadata": {},
   "outputs": [],
   "source": [
    "from sklearn.ensemble import GradientBoostingClassifier\n",
    "from sklearn.metrics import accuracy_score\n",
    "\n",
    "#Modelo básico\n",
    "gbc = GradientBoostingClassifier(random_state=42, \n",
    "                                n_estimators=200, class_weight = 'balanced', \n",
    "                                learning_rate=0.01,   max_depth =5, \n",
    "                                min_samples_split=7, min_samples_leaf=5, subsample= 0.6, \n",
    "                                max_features=None)\n",
    "gbc.fit(X_train, y_train)\n",
    "\n",
    "#predicciones\n",
    "y_pred = gbc.predict(X_test)\n",
    "\n",
    "#Evaluación del Modelo\n",
    "print(\"Accuraccy:\", accuracy_score(y_test, y_pred))\n",
    "print(\"Reporte de clasificación\")\n",
    "print(classification_report(y_test, y_pred))"
   ]
  },
  {
   "cell_type": "code",
   "execution_count": null,
   "id": "498f0c46-ca15-4754-a986-c1fae59b890b",
   "metadata": {},
   "outputs": [],
   "source": [
    "import matplotlib.pyplot as plt\n",
    "from sklearn.model_selection import learning_curve\n",
    "\n",
    "train_sizes, train_scores, test_scores = learning_curve(gbc, X_train, y_train, cv=5)\n",
    "\n",
    "# Calcular medias\n",
    "train_mean = train_scores.mean(axis=1)\n",
    "test_mean = test_scores.mean(axis=1)\n",
    "\n",
    "# Graficar\n",
    "plt.plot(train_sizes, train_mean, label=\"Training Score\")\n",
    "plt.plot(train_sizes, test_mean, label=\"Validation Score\")\n",
    "plt.xlabel(\"Training Size\")\n",
    "plt.ylabel(\"Accuracy\")\n",
    "plt.legend()\n",
    "plt.show()"
   ]
  },
  {
   "cell_type": "code",
   "execution_count": null,
   "id": "80f2e3ef-42b6-4b69-ae13-e525b4283d26",
   "metadata": {},
   "outputs": [],
   "source": []
  },
  {
   "cell_type": "code",
   "execution_count": null,
   "id": "1c992b7c-326e-4d2c-b06b-2512c3e0bcf9",
   "metadata": {},
   "outputs": [],
   "source": []
  },
  {
   "cell_type": "code",
   "execution_count": null,
   "id": "52a48e17-f3de-4113-8ccf-7d407cdb087a",
   "metadata": {},
   "outputs": [],
   "source": []
  },
  {
   "cell_type": "code",
   "execution_count": null,
   "id": "3e1afa99-8dcb-48d4-9a06-158b8b6f73b2",
   "metadata": {},
   "outputs": [],
   "source": []
  },
  {
   "cell_type": "code",
   "execution_count": null,
   "id": "5d7905ad-f807-403a-8230-3cde22569402",
   "metadata": {},
   "outputs": [],
   "source": []
  },
  {
   "cell_type": "code",
   "execution_count": null,
   "id": "fc04aa4b-2498-4f5f-9278-be65cb4100cb",
   "metadata": {},
   "outputs": [],
   "source": []
  },
  {
   "cell_type": "code",
   "execution_count": null,
   "id": "0ab2a425-fb67-4e2b-bdce-e65358173fae",
   "metadata": {},
   "outputs": [],
   "source": []
  },
  {
   "cell_type": "code",
   "execution_count": null,
   "id": "1cb79179-b09c-4848-ae04-1f9740937ebd",
   "metadata": {},
   "outputs": [],
   "source": []
  },
  {
   "cell_type": "code",
   "execution_count": null,
   "id": "3a05a872-b093-4766-a3a1-b2ecc15f5a77",
   "metadata": {},
   "outputs": [],
   "source": []
  }
 ],
 "metadata": {
  "kernelspec": {
   "display_name": "Python 3 (ipykernel)",
   "language": "python",
   "name": "python3"
  },
  "language_info": {
   "codemirror_mode": {
    "name": "ipython",
    "version": 3
   },
   "file_extension": ".py",
   "mimetype": "text/x-python",
   "name": "python",
   "nbconvert_exporter": "python",
   "pygments_lexer": "ipython3",
   "version": "3.12.7"
  }
 },
 "nbformat": 4,
 "nbformat_minor": 5
}
